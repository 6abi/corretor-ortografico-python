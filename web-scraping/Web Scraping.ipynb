{
 "cells": [
  {
   "cell_type": "markdown",
   "metadata": {},
   "source": [
    "# <font color=green>1. MEU PRIMEIRO SCRAPING"
   ]
  },
  {
   "cell_type": "markdown",
   "metadata": {},
   "source": [
    "# 1.1. Introdução"
   ]
  },
  {
   "cell_type": "markdown",
   "metadata": {},
   "source": [
    "## *Web Scraping* é o termo utilizado para definir a prática de coletar automaticamente informações na Internet. Isto é feito, geralmente, por meio de programas que simulam a navegação humana na Web."
   ]
  },
  {
   "cell_type": "markdown",
   "metadata": {},
   "source": [
    "# 1.2. Ambiente e bibliotecas\n",
    "### Utilizaremos em nosso treinamento o navegador Google Chrome"
   ]
  },
  {
   "cell_type": "code",
   "execution_count": 24,
   "metadata": {
    "colab": {},
    "colab_type": "code",
    "id": "e9pXIMIWByAp"
   },
   "outputs": [
    {
     "name": "stdout",
     "output_type": "stream",
     "text": [
      "BeautifulSoup -> 4.9.3\n",
      "urllib -> 3.8\n",
      "pandas -> 1.1.3\n"
     ]
    }
   ],
   "source": [
    "import bs4\n",
    "import urllib.request as urllib_request\n",
    "import pandas\n",
    "\n",
    "print(\"BeautifulSoup ->\", bs4.__version__)\n",
    "print(\"urllib ->\", urllib_request.__version__)\n",
    "print(\"pandas ->\", pandas.__version__)"
   ]
  },
  {
   "cell_type": "markdown",
   "metadata": {},
   "source": [
    "# 1.3. Meu primeiro scraping"
   ]
  },
  {
   "cell_type": "code",
   "execution_count": 25,
   "metadata": {},
   "outputs": [
    {
     "name": "stdout",
     "output_type": "stream",
     "text": [
      "Hello World!!!\n",
      "<p class=\"definition\"><b>Web Scraping</b> é o termo utilizado para definir a prática de coletar automaticamente informações na Internet. Isto é feito, geralmente, por meio de programas que simulam a navegação humana na Web.</p>\n"
     ]
    }
   ],
   "source": [
    "from urllib.request import urlopen\n",
    "from bs4 import BeautifulSoup\n",
    "\n",
    "url = 'https://alura-site-scraping.herokuapp.com/hello-world.php'\n",
    "\n",
    "response = urlopen(url)\n",
    "html = response.read()\n",
    "\n",
    "soup = BeautifulSoup(html, 'html.parser')\n",
    "print(soup.find('h1', id=\"hello-world\").get_text())\n",
    "print(soup.find('p'))\n"
   ]
  },
  {
   "cell_type": "markdown",
   "metadata": {},
   "source": [
    "---\n",
    "# <font color=green>2. OBTENDO E TRATANDO O CONTEÚDO DE UM HTML"
   ]
  },
  {
   "cell_type": "markdown",
   "metadata": {},
   "source": [
    "# 2.1. Entendendo a web"
   ]
  },
  {
   "cell_type": "markdown",
   "metadata": {},
   "source": [
    "<img src=\"./web/web.png\" width=\"700\">"
   ]
  },
  {
   "cell_type": "markdown",
   "metadata": {},
   "source": [
    "# 2.2. Obtendo o conteúdo HTML de um site"
   ]
  },
  {
   "cell_type": "markdown",
   "metadata": {},
   "source": [
    "# urllib.request\n",
    "## https://docs.python.org/3/library/urllib.html"
   ]
  },
  {
   "cell_type": "code",
   "execution_count": 25,
   "metadata": {
    "colab": {
     "base_uri": "https://localhost:8080/",
     "height": 54
    },
    "colab_type": "code",
    "id": "c1pKGnTpgvFU",
    "outputId": "b6b7e32d-4c3e-4f52-a8ba-0b1cbfe15ea4"
   },
   "outputs": [],
   "source": []
  },
  {
   "cell_type": "markdown",
   "metadata": {},
   "source": [
    "## https://docs.python.org/3/library/urllib.request.html#urllib.request.Request"
   ]
  },
  {
   "cell_type": "markdown",
   "metadata": {
    "pycharm": {
     "name": "#%% md\n"
    }
   },
   "source": [
    "#### Adicionando o header para acessar os sites"
   ]
  },
  {
   "cell_type": "code",
   "execution_count": 26,
   "outputs": [
    {
     "name": "stdout",
     "output_type": "stream",
     "text": [
      "b'\\n\\n\\n\\n<!DOCTYPE html><html\\nlang=\"pt-BR\"><head><meta\\ncharset=\"UTF-8\"><meta\\nname=\"viewport\" content=\"width=device-width,initial-scale=1,minimum-scale=1.0\"><title>Alura | Cursos online de Tecnologia</title><meta\\nname=\"description\" content=\"Aprenda Programa\\xc3\\xa7\\xc3\\xa3o, Front-end, Data Science, UX, DevOps, Marketing, Inova\\xc3\\xa7\\xc3\\xa3o e Gest\\xc3\\xa3o na maior plataforma de tecnologia do Brasil\"><link\\nrel=\"canonical\" href=\"https://www.alura.com.br\"><link\\nrel=\"icon\" href=\"/assets/favicon.1621287442.ico\" /><link\\nhref=\"https://fonts.googleapis.com/css?display=swap&family=Inter:wght@400;700;900\" rel=\"stylesheet\" crossorigin><link\\nrel=\"preconnect\" href=\"https://fonts.gstatic.com/\" crossorigin><link\\nrel=\"stylesheet\" href=\"/bundle,base/_reset,base/base,base/buttons,base/colors,base/titulos.1619635891.css\"><link\\nrel=\"stylesheet\" href=\"/bundle,home/homeNova/career-colors,home/homeNova/careers,home/homeNova/companies,home/homeNova/features,home/homeNova/home,home/homeNova/mobile,home/homeNova/testimonies.1627325446.css\"><link\\nrel=\"stylesheet\" href=\"/assets/css/block/elasticMedia.1616501197.css\"><link\\nrel=\"stylesheet\" href=\"/assets/css/block/depoimentos-comunidade.1623250551.css\"><meta\\nproperty=\"og:locale\" content=\"pt_BR\"><meta\\nproperty=\"og:description\" content=\"Aprenda Programa\\xc3\\xa7\\xc3\\xa3o, Front-end, Data Science, UX, DevOps, Marketing, Inova\\xc3\\xa7\\xc3\\xa3o e Gest\\xc3\\xa3o na maior plataforma de tecnologia do Brasil\"><meta\\nproperty=\"og:title\" content=\"Alura | Cursos online de Tecnologia\"><meta\\nproperty=\"og:site_name\" content=\"Alura\"><meta\\nproperty=\"og:url\" content=\"https://www.alura.com.br/\"><meta\\nproperty=\"og:image\" content=\"https://www.alura.com.br/assets/img/alura-share.1617727198.png\"><meta\\nproperty=\"og:image:alt\" content=\"Alura logo\"><meta\\nproperty=\"fb:app_id\" content=\"140078819399376\"><meta\\nproperty=\"og:type\" content=\"website\"><meta\\nname=\"twitter:card\" content=\"summary_large_image\"><meta\\nname=\"theme-color\" content=\"#2A7AE4\"> <script>;(function(w,d,s,l,i){w[l]=w[l]||[];w[l].push({\\'gtm.start\\':\\n                    new Date().getTime(),event:\\'gtm.js\\'});var f=d.getElementsByTagName(s)[0],\\n                j=d.createElement(s),dl=l!=\\'dataLayer\\'?\\'&l=\\'+l:\\'\\';j.async=true;j.src=\\n                \\'https://www.googletagmanager.com/gtm.js?id=\\'+i+dl;f.parentNode.insertBefore(j,f);\\n            })(window,document,\\'script\\',\\'dataLayer\\',\\'GTM-TN542JN\\');</script> <script>!function (a) { var b, c = \"soclminer-jssdk\", d = a.getElementsByTagName(\"script\")[0]; a.getElementById(c) || (b = a.createElement(\"script\"), b.src = \"https://plugins.soclminer.com.br/v3/sdk/all.min.js\", d.parentNode.insertBefore(b, d)) }(document), window.soclInit = function () { socl.start(\"49a525fa-18fe-4032-ab66-f63315c9b1a6\") };</script> <script>window.setTimeout(function(){var e=/(smcid|smid_|smpid_|smpushoptin_|smtp|soclId|onsiteview_).*/g;function t(e){for(var t=e+\"=\",i=decodeURIComponent(document.cookie).split(\";\"),o=0;o<i.length;o++){for(var a=i[o];\" \"==a.charAt(0);)a=a.substring(1);if(0==a.indexOf(t))return a.substring(t.length,a.length)}return\"\"}function i(e,i,o){var a=\"\",n=new Date;n.setTime(n.getTime()+864e5*o);var r=t(e);if(\"\"==r)a=e+\"=\"+i+\";path=/;expires=\"+n.toGMTString()+\";domain=\"+/\\\\..*/.exec(window.location.host)[0];else{var s=JSON.parse(r),c=JSON.parse(i),m=Object.assign(s,c);a=e+\"=\"+JSON.stringify(m)+\";path=/;expires=\"+n.toGMTString()+\";domain=\"+/\\\\..*/.exec(window.location.host)[0]}document.cookie=a}var o={};try{for(var a=0,n=localStorage.length;a<n;a++){var r=localStorage.key(a);r.match(e)&&(o[r]=localStorage[r])}}catch(e){o={}}var s={};try{var c=document.cookie.match(/(^|;) ?(smClosedOnSite_.*?|smClickOnSite_.*?|pagesview_.*?|onsiteview_.*?|onsiteview_.*?|onsiteview_.*?|smViewOnSite|smClickOnSite|smViewedPushOptin|smClosedPushOptin|smpushoptin_.*?)=([^;]*)(;|$)/g);c&&(s=c.map(function(e){return[e.match(/(^|;) ?.*=/)[0].replace(/^; /,\"\").replace(/=$/,\"\"),e.match(/=.*/)[0].replace(/;$/,\"\").replace(/^=/,\"\")]}).reduce(function(e,t){return e[t[0]]=t[1],e},{}))}catch(e){s={}}i(\"smDataLocalStorageCart\",JSON.stringify(o),2),i(\"smDataCookieCart\",JSON.stringify(s),2),function(e){var i=JSON.parse(t(e));if(i)for(var o in i)localStorage.getItem(o)||localStorage.setItem(o,i[o])}(\"smDataLocalStorageCart\")},2e3);</script> </head><body\\nclass=\"\"> <script src=\"/assets/js/avatarOnError.1623166499.js\"></script> <noscript><iframe\\nsrc=\"https://www.googletagmanager.com/ns.html?id=GTM-TN542JN\" height=\"0\" width=\"0\" style=\"display:none;visibility:hidden\"></iframe></noscript> <script>!function(f,b,e,v,n,t,s) {if(f.fbq)return;n=f.fbq=function(){n.callMethod? n.callMethod.apply(n,arguments):n.queue.push(arguments)}; if(!f._fbq)f._fbq=n;n.push=n;n.loaded=!0;n.version=\\'2.0\\'; n.queue=[];t=b.createElement(e);t.async=!0; t.src=v;s=b.getElementsByTagName(e)[0]; s.parentNode.insertBefore(t,s)}(window, document,\\'script\\', \\'https://connect.facebook.net/en_US/fbevents.js\\'); fbq(\\'init\\', \\'1067810189950610\\'); fbq(\\'track\\', \\'PageView\\');</script> <script src=\"/assets/js/courseIconFallback.1622570093.js\"></script>  <script type=\"application/ld+json\">{\\n      \"@context\": \"http://schema.org\",\\n      \"@type\": \"BreadcrumbList\",\\n\\n      \"itemListElement\": [{\\n        \"@type\": \"ListItem\",\\n        \"position\": 1,\\n        \"item\": {\\n          \"@id\": \"https://www.alura.com.br\",\\n          \"name\": \"Alura\"\\n        }\\n      }   \\n            ]\\n    }</script>  <script type=\"application/ld+json\">{\\n    \"@context\": \"https://schema.org\",\\n    \"@type\": \"WebSite\",\\n    \"url\": \"https://www.alura.com.br\",\\n    \"potentialAction\": {\\n      \"@type\": \"SearchAction\",\\n      \"target\": \"http://www.alura.com.br/busca?query={query}\",\\n      \"query-input\": \"required name=query\"\\n    }\\n}</script> <script>window.dataLayer.push({\\n                event: \\'view_item_list\\',\\n                value: 3540.00,\\n                items: [{\"id\":\"formacao-arquiteto-php\",\"google_business_vertical\":\"education\"},{\"id\":\"formacao-arquitetura-design-projetos-java\",\"google_business_vertical\":\"education\"},{\"id\":\"formacao-dotnet\",\"google_business_vertical\":\"education\"},{\"id\":\"formacao-c-sharp-orientacao-objetos\",\"google_business_vertical\":\"education\"},{\"id\":\"formacao-certificacao-csharp\",\"google_business_vertical\":\"education\"},{\"id\":\"formacao-certificacao-java\",\"google_business_vertical\":\"education\"},{\"id\":\"formacao-clojure\",\"google_business_vertical\":\"education\"},{\"id\":\"formacao-django\",\"google_business_vertical\":\"education\"},{\"id\":\"formacao-django-rest\",\"google_business_vertical\":\"education\"},{\"id\":\"formacao-programacao\",\"google_business_vertical\":\"education\"},{\"id\":\"formacao-integracao-aplicacoes-java\",\"google_business_vertical\":\"education\"},{\"id\":\"formacao-internet-das-coisas-iot\",\"google_business_vertical\":\"education\"},{\"id\":\"formacao-java\",\"google_business_vertical\":\"education\"},{\"id\":\"formacao-jogos-unity\",\"google_business_vertical\":\"education\"},{\"id\":\"formacao-kotlin\",\"google_business_vertical\":\"education\"},{\"id\":\"formacao-linguagem-c-plus-plus\",\"google_business_vertical\":\"education\"},{\"id\":\"formacao-microcontroladores-eletronica-aplicada\",\"google_business_vertical\":\"education\"},{\"id\":\"formacao-node-js-12\",\"google_business_vertical\":\"education\"},{\"id\":\"formacao-desenvolvedor-php\",\"google_business_vertical\":\"education\"},{\"id\":\"formacao-Python-linguagem\",\"google_business_vertical\":\"education\"},{\"id\":\"formacao-raspberry-pi\",\"google_business_vertical\":\"education\"},{\"id\":\"formacao-spring-framework\",\"google_business_vertical\":\"education\"},{\"id\":\"formacao-vb-net\",\"google_business_vertical\":\"education\"},{\"id\":\"formacao-windows-forms-csharp\",\"google_business_vertical\":\"education\"},{\"id\":\"formacao-wordpress\",\"google_business_vertical\":\"education\"},{\"id\":\"formacao-acessibilidade-web\",\"google_business_vertical\":\"education\"},{\"id\":\"formacao-angular\",\"google_business_vertical\":\"education\"},{\"id\":\"formacao-front-end\",\"google_business_vertical\":\"education\"},{\"id\":\"formacao-html-e-css\",\"google_business_vertical\":\"education\"},{\"id\":\"formacao-react-js\",\"google_business_vertical\":\"education\"},{\"id\":\"formacao-vuejs\",\"google_business_vertical\":\"education\"},{\"id\":\"formacao-business-intelligence-data-warehouse-pentaho\",\"google_business_vertical\":\"education\"},{\"id\":\"formacao-business-intelligence-data-warehouse\",\"google_business_vertical\":\"education\"},{\"id\":\"formacao-data-analysis-google-sheets\",\"google_business_vertical\":\"education\"},{\"id\":\"formacao-data-science\",\"google_business_vertical\":\"education\"},{\"id\":\"formacao-datomic\",\"google_business_vertical\":\"education\"},{\"id\":\"formacao-deep-learning-pytorch\",\"google_business_vertical\":\"education\"},{\"id\":\"formacao-estatistica-python\",\"google_business_vertical\":\"education\"},{\"id\":\"formacao-estatistica-r\",\"google_business_vertical\":\"education\"},{\"id\":\"formacao-excel-vba\",\"google_business_vertical\":\"education\"},{\"id\":\"formacao-machine-learning\",\"google_business_vertical\":\"education\"},{\"id\":\"formacao-machine-learning-avancada\",\"google_business_vertical\":\"education\"},{\"id\":\"formacao-machine-learning-negocios-digitais\",\"google_business_vertical\":\"education\"},{\"id\":\"formacao-matematica-programacao-data-science\",\"google_business_vertical\":\"education\"},{\"id\":\"formacao-modelagem-dados\",\"google_business_vertical\":\"education\"},{\"id\":\"formacao-power-bi\",\"google_business_vertical\":\"education\"},{\"id\":\"formacao-python-data-science\",\"google_business_vertical\":\"education\"},{\"id\":\"formacao-oracle-database-sql-plsql\",\"google_business_vertical\":\"education\"},{\"id\":\"formacao-microsoft-sql-server-2017\",\"google_business_vertical\":\"education\"},{\"id\":\"formacao-oracle-mysql\",\"google_business_vertical\":\"education\"},{\"id\":\"formacao-postgresql\",\"google_business_vertical\":\"education\"},{\"id\":\"formacao-redes\",\"google_business_vertical\":\"education\"},{\"id\":\"formacao-amazon-web-services\",\"google_business_vertical\":\"education\"},{\"id\":\"formacao-kafka\",\"google_business_vertical\":\"education\"},{\"id\":\"formacao-aws-certified-cloud-practitioner\",\"google_business_vertical\":\"education\"},{\"id\":\"formacao-aws-certified-solutions-architect-associate\",\"google_business_vertical\":\"education\"},{\"id\":\"formacao-certificacao-az-900-microsoft-azure-fundamentals\",\"google_business_vertical\":\"education\"},{\"id\":\"formacao-docker-dca\",\"google_business_vertical\":\"education\"},{\"id\":\"formacao-certificacao-lpi-linux-essentials\",\"google_business_vertical\":\"education\"},{\"id\":\"formacao-devops\",\"google_business_vertical\":\"education\"},{\"id\":\"formacao-google-certified-associate-cloud-engineer\",\"google_business_vertical\":\"education\"},{\"id\":\"formacao-owasp\",\"google_business_vertical\":\"education\"},{\"id\":\"formacao-seguranca-de-aplicacoes\",\"google_business_vertical\":\"education\"},{\"id\":\"formacao-ui-adobe-xd\",\"google_business_vertical\":\"education\"},{\"id\":\"formacao-blender\",\"google_business_vertical\":\"education\"},{\"id\":\"formacao-desenhohumano-photoshop\",\"google_business_vertical\":\"education\"},{\"id\":\"formacao-design-de-jogos\",\"google_business_vertical\":\"education\"},{\"id\":\"formacao-design-grafico\",\"google_business_vertical\":\"education\"},{\"id\":\"formacao-editor-video\",\"google_business_vertical\":\"education\"},{\"id\":\"formacao-figma\",\"google_business_vertical\":\"education\"},{\"id\":\"formacao-fotografia\",\"google_business_vertical\":\"education\"},{\"id\":\"formacao-hq-narrativa-sequencial\",\"google_business_vertical\":\"education\"},{\"id\":\"formacao-identidadevisual\",\"google_business_vertical\":\"education\"},{\"id\":\"formacao-identidade-visual-softwares-free\",\"google_business_vertical\":\"education\"},{\"id\":\"formacao-ilustra-publicitaria\",\"google_business_vertical\":\"education\"},{\"id\":\"formacao-producao-indesign\",\"google_business_vertical\":\"education\"},{\"id\":\"formacao-motion-design\",\"google_business_vertical\":\"education\"},{\"id\":\"formacao-osteologia\",\"google_business_vertical\":\"education\"},{\"id\":\"formacao-ux-research-qualitativo\",\"google_business_vertical\":\"education\"},{\"id\":\"formacao-pinturadigital-photoshop\",\"google_business_vertical\":\"education\"},{\"id\":\"formacao-producao-com-photoshop\",\"google_business_vertical\":\"education\"},{\"id\":\"formacao-procucao-premiere\",\"google_business_vertical\":\"education\"},{\"id\":\"formacao-grafica-illustrator\",\"google_business_vertical\":\"education\"},{\"id\":\"formacao-props-para-games\",\"google_business_vertical\":\"education\"},{\"id\":\"formacao-ui-sketch\",\"google_business_vertical\":\"education\"},{\"id\":\"formacao-tratamento-de-imagem\",\"google_business_vertical\":\"education\"},{\"id\":\"formacao-unreal-engine\",\"google_business_vertical\":\"education\"},{\"id\":\"formacao-ux\",\"google_business_vertical\":\"education\"},{\"id\":\"formacao-ux-research\",\"google_business_vertical\":\"education\"},{\"id\":\"formacao-estatistica-para-ux-research\",\"google_business_vertical\":\"education\"},{\"id\":\"formacao-android\",\"google_business_vertical\":\"education\"},{\"id\":\"formacao-arquiteto-android\",\"google_business_vertical\":\"education\"},{\"id\":\"formacao-flutter\",\"google_business_vertical\":\"education\"},{\"id\":\"formacao-testes-automatizados-android\",\"google_business_vertical\":\"education\"},{\"id\":\"formacao-aprendizagem\",\"google_business_vertical\":\"education\"},{\"id\":\"formacao-business-agility\",\"google_business_vertical\":\"education\"},{\"id\":\"formacao-certificacao-cobit-5\",\"google_business_vertical\":\"education\"},{\"id\":\"formacao-certificacao-itil-foundation\",\"google_business_vertical\":\"education\"},{\"id\":\"formacao-certificacao-itil-4-foundation\",\"google_business_vertical\":\"education\"},{\"id\":\"formacao-certificacao-pmp-capm-pmi\",\"google_business_vertical\":\"education\"},{\"id\":\"formacao-comunicacao\",\"google_business_vertical\":\"education\"},{\"id\":\"formacao-comunicacao-lideres\",\"google_business_vertical\":\"education\"},{\"id\":\"formacao-criatividade\",\"google_business_vertical\":\"education\"},{\"id\":\"formacao-desenvolvimento-pessoal\",\"google_business_vertical\":\"education\"},{\"id\":\"formacao-digital-e-agile-thinking\",\"google_business_vertical\":\"education\"},{\"id\":\"formacao-e-commerce\",\"google_business_vertical\":\"education\"},{\"id\":\"formacao-empreendedorismo-digital\",\"google_business_vertical\":\"education\"},{\"id\":\"formacao-gerente-agil\",\"google_business_vertical\":\"education\"},{\"id\":\"formacao-inovacao-para-lideres\",\"google_business_vertical\":\"education\"},{\"id\":\"formacao-lider-de-si\",\"google_business_vertical\":\"education\"},{\"id\":\"formacao-marketing-digital\",\"google_business_vertical\":\"education\"},{\"id\":\"formacao-minha-carreira\",\"google_business_vertical\":\"education\"},{\"id\":\"formacao-minha-primeira-lideranca\",\"google_business_vertical\":\"education\"},{\"id\":\"formacao-negociacao\",\"google_business_vertical\":\"education\"},{\"id\":\"formacao-personal-branding\",\"google_business_vertical\":\"education\"},{\"id\":\"formacao-produtividade\",\"google_business_vertical\":\"education\"},{\"id\":\"formacao-rh-4-0-digital-agile-transforming-business-partner\",\"google_business_vertical\":\"education\"},{\"id\":\"formacao-seo\",\"google_business_vertical\":\"education\"},{\"id\":\"formacao-social-media\",\"google_business_vertical\":\"education\"},{\"id\":\"formacao-vendas-de-alta-performance\",\"google_business_vertical\":\"education\"}]});</script> <div\\nclass=\"home\"><div\\nclass=\"home__header\"><link\\nrel=\"stylesheet\" href=\"/assets/css/block/header.1627652889.css\"><link\\nrel=\"stylesheet\" href=\"/assets/css/block/dia-do-programador.1617916014.css\"><link\\nrel=\"stylesheet\" href=\"/assets/css/block/countdown.1616501197.css\"><link\\nrel=\"stylesheet\" href=\"/assets/css/block/headerHome.1621291703.css\"><style>@media (min-width: 1100px) {\\n\\t\\t\\t\\t.header-navegacao-cursos-lista {\\n\\t\\t\\t\\t\\tdisplay: none;\\n\\t\\t\\t\\t}\\n\\t\\t\\t\\t.header__nav {\\n\\t\\t\\t\\t\\tborder: none;\\n\\t\\t\\t\\t\\tmargin-top:10px;\\n\\t\\t\\t\\t}\\n\\t\\t\\t\\t.header {\\n\\t\\t\\t\\t\\tpadding-bottom: 0;\\n\\t\\t\\t\\t}\\n\\t\\t\\t}</style><header\\nclass=\"header--home \"><div\\nclass=\"container\"><nav\\nclass=\"header__nav--home\">\\n<a\\nhref=\"/\" class=\"header__nav__link--home header__nav__link--logo\">\\n<img\\nclass=\"header__nav__link__logo\" alt=\"Alura\"\\nsrc=\"/assets/img/home/alura-logo.1616501197.svg\">\\n</a><div\\nclass=\"header__nav__wrapper header__nav__wrapper--ctas\"><div\\nclass=\"header-utilitario-busca header-utilitario-busca--home\" aria-label=\"Busca\">\\n<svg\\nclass=\"header-utilitario-busca-icone--home\" xmlns:xlink=\"http://www.w3.org/1999/xlink\">\\n<use\\nxlink:href=\"/svg,1617922988/header#icon-header-busca-home\"/>\\n</svg></div>\\n<a\\nhref=\"https://cursos.alura.com.br/loginForm?urlAfterLogin=https://cursos.alura.com.br/dashboard\" class=\"header__nav__link header__nav__link--entrar\">Entrar</a>\\n<a\\nhref=\"/planos-cursos-online\" class=\"header__nav__link header__nav__link--cta\">Matricule-se</a></div><div\\nclass=\"header-barraBusca__wrapper\"><div\\nclass=\"header-barraBusca header-barraBusca--home\"><form\\naction=\"/busca\" class=\"header-barraBusca-form\">\\n<label\\nfor=\"header-barraBusca-form-campoBusca\">Qual curso procura?</label>\\n<input\\ntype=\"search\" id=\"header-barraBusca-form-campoBusca\" name=\"query\"\\nclass=\"header-barraBusca-form-serch-input header-barra-busca--home\" placeholder=\"O que voc\\xc3\\xaa quer aprender?\">\\n<button\\nclass=\"header-barraBusca-form-submit\" type=\"submit\"></button></form></div></div><div\\nclass=\"nav__courses__wrapper header__nav__wrapper header__nav__wrapper--menu\">\\n<a\\nhref=\"/formacoes\" class=\"nav__courses__link--home header__menu-options--home\">\\n<span>\\nNossas\\n</span>\\n<span>\\nForma\\xc3\\xa7\\xc3\\xb5es\\n</span>\\n</a>\\n<a\\nhref=\"/empresas\" class=\"nav__courses__link--home header__menu-options--home\">\\n<span>\\nPara\\n</span>\\n<span>\\nEmpresas\\n</span>\\n</a>\\n<a\\nhref=\"/dev-em-t\" class=\"nav__courses__link--home header__menu-options--home\">\\n<span>\\nDev\\n</span>\\n<span>\\nem  &lt;T&gt;\\n</span>\\n</a></div><ul\\nclass=\"header-navegacao-cursos-lista container header__menu-allcourses--home\"><li\\nclass=\"header-cursos-lista-categoria \">\\n<a\\nhref=\"/cursos-online-programacao\" class=\"unlinkify\">\\n<svg\\nclass=\"header-cursos-lista-categoria--icon\" style=\"fill: #ffffff\" xmlns:xlink=\"http://www.w3.org/1999/xlink\">\\n<use\\nxlink:href=\"/svg,1617662393/categorias#icon-categorias-programacao\"/>\\n</svg><div\\nclass=\"header-lista-categoria-nome--home\">\\n<span>Programa\\xc3\\xa7\\xc3\\xa3o</span></div>\\n</a></li><li\\nclass=\"header-cursos-lista-categoria \">\\n<a\\nhref=\"/cursos-online-front-end\" class=\"unlinkify\">\\n<svg\\nclass=\"header-cursos-lista-categoria--icon\" style=\"fill: #ffffff\" xmlns:xlink=\"http://www.w3.org/1999/xlink\">\\n<use\\nxlink:href=\"/svg,1617662393/categorias#icon-categorias-front-end\"/>\\n</svg><div\\nclass=\"header-lista-categoria-nome--home\">\\n<span>Front-end</span></div>\\n</a></li><li\\nclass=\"header-cursos-lista-categoria \">\\n<a\\nhref=\"/cursos-online-data-science\" class=\"unlinkify\">\\n<svg\\nclass=\"header-cursos-lista-categoria--icon\" style=\"fill: #ffffff\" xmlns:xlink=\"http://www.w3.org/1999/xlink\">\\n<use\\nxlink:href=\"/svg,1617662393/categorias#icon-categorias-data-science\"/>\\n</svg><div\\nclass=\"header-lista-categoria-nome--home\">\\n<span>Data Science</span></div>\\n</a></li><li\\nclass=\"header-cursos-lista-categoria \">\\n<a\\nhref=\"/cursos-online-devops\" class=\"unlinkify\">\\n<svg\\nclass=\"header-cursos-lista-categoria--icon\" style=\"fill: #ffffff\" xmlns:xlink=\"http://www.w3.org/1999/xlink\">\\n<use\\nxlink:href=\"/svg,1617662393/categorias#icon-categorias-devops\"/>\\n</svg><div\\nclass=\"header-lista-categoria-nome--home\">\\n<span>DevOps</span></div>\\n</a></li><li\\nclass=\"header-cursos-lista-categoria \">\\n<a\\nhref=\"/cursos-online-design-ux\" class=\"unlinkify\">\\n<svg\\nclass=\"header-cursos-lista-categoria--icon\" style=\"fill: #ffffff\" xmlns:xlink=\"http://www.w3.org/1999/xlink\">\\n<use\\nxlink:href=\"/svg,1617662393/categorias#icon-categorias-design-ux\"/>\\n</svg><div\\nclass=\"header-lista-categoria-nome--home\">\\n<span>UX & Design</span></div>\\n</a></li><li\\nclass=\"header-cursos-lista-categoria \">\\n<a\\nhref=\"/cursos-online-mobile\" class=\"unlinkify\">\\n<svg\\nclass=\"header-cursos-lista-categoria--icon\" style=\"fill: #ffffff\" xmlns:xlink=\"http://www.w3.org/1999/xlink\">\\n<use\\nxlink:href=\"/svg,1617662393/categorias#icon-categorias-mobile\"/>\\n</svg><div\\nclass=\"header-lista-categoria-nome--home\">\\n<span>Mobile</span></div>\\n</a></li><li\\nclass=\"header-cursos-lista-categoria \">\\n<a\\nhref=\"/cursos-online-inovacao-gestao\" class=\"unlinkify\">\\n<svg\\nclass=\"header-cursos-lista-categoria--icon\" style=\"fill: #ffffff\" xmlns:xlink=\"http://www.w3.org/1999/xlink\">\\n<use\\nxlink:href=\"/svg,1617662393/categorias#icon-categorias-inovacao-gestao\"/>\\n</svg><div\\nclass=\"header-lista-categoria-nome--home\">\\n<span>Inova\\xc3\\xa7\\xc3\\xa3o & Gest\\xc3\\xa3o</span></div>\\n</a></li></ul></nav></div></header><div\\nclass=\"container\"><div\\nclass=\"home--background\"><div\\nclass=\"home__titles\"><h1 class=\"home__titles__main-title\">Mergulhe em Tecnologia!</h1><p\\nclass=\"home__titles__sub-title\">Voc\\xc3\\xaa vai estudar, praticar, discutir e se aprofundar em uma plataforma que respira tecnologia.</p></div></div><link\\nrel=\"stylesheet\" href=\"/assets/css/block/categories.1617999638.css\"><link\\nrel=\"stylesheet\" href=\"/assets/css/block/navCategoriasHome.1621287442.css\"><link\\nrel=\"stylesheet\" href=\"/assets/css/block/navCategoriasHome.1621287442.css\"> <script>window.dataLayer.push({\\n                event: \\'view_item_list\\',\\n                value: 3540.00,\\n                items: [{\"id\":\"cursos-online-programacao\",\"google_business_vertical\":\"education\"},{\"id\":\"cursos-online-front-end\",\"google_business_vertical\":\"education\"},{\"id\":\"cursos-online-data-science\",\"google_business_vertical\":\"education\"},{\"id\":\"cursos-online-devops\",\"google_business_vertical\":\"education\"},{\"id\":\"cursos-online-design-ux\",\"google_business_vertical\":\"education\"},{\"id\":\"cursos-online-mobile\",\"google_business_vertical\":\"education\"},{\"id\":\"cursos-online-inovacao-gestao\",\"google_business_vertical\":\"education\"}]});</script> <nav\\nclass=\"categories--home\"><div\\nclass=\"categories__elements--home\"><div\\nclass=\"categories__wrapper__links--home --programacao\" style=\"--color-var: #00c86f\">\\n<a\\nclass=\"categories__link--home\" href=\"/cursos-online-programacao\"><div\\nclass=\"categories__link-wrapper--home\"><div\\nclass=\"categories__svg-wrapper--home\" style=\"background:#00c86f52;\">\\n<svg\\nclass=\"pagina-categoria__svg--home categories__svg--home\" style=\"fill:#00c86f\" xmlns:xlink=\"http://www.w3.org/1999/xlink\">\\n<use\\nxlink:href=\"/svg,1617662393/categorias#icon-categorias-programacao\"/>\\n</svg></div><div\\nclass=\"categories__texts\" style=\"color:#00c86f;\">\\n<span\\nclass=\"categories__link__text\">Escola</span><h4 class=\"categories__link__category-name\">Programa\\xc3\\xa7\\xc3\\xa3o</h4></div></div>\\n</a><nav\\nclass=\"categories__calls--home\">\\n<a\\nhref=\"/cursos-online-programacao/logica\"\\nclass=\"categories__calls__description--home\">L\\xc3\\xb3gica</a><span\\nclass=\"categories__calls__description-separator\">, </span>\\n<a\\nhref=\"/cursos-online-programacao/python\"\\nclass=\"categories__calls__description--home\">Python</a><span\\nclass=\"categories__calls__description-separator\">, </span>\\n<a\\nhref=\"/cursos-online-programacao/php\"\\nclass=\"categories__calls__description--home\">PHP</a><span\\nclass=\"categories__calls__description-separator\">, </span>\\n<a\\nhref=\"/cursos-online-programacao/java\"\\nclass=\"categories__calls__description--home\">Java</a><span\\nclass=\"categories__calls__description-separator\">, </span>\\n<a\\nhref=\"/cursos-online-programacao/dotnet\"\\nclass=\"categories__calls__description--home\">.NET</a><span\\nclass=\"categories__calls__description-separator\">, </span>\\n<a\\nhref=\"/cursos-online-programacao/node-js\"\\nclass=\"categories__calls__description--home\">Node JS</a><span\\nclass=\"categories__calls__description-separator\">, </span>\\n<a\\nhref=\"/cursos-online-programacao/linguagem-c\"\\nclass=\"categories__calls__description--home\">C</a><span\\nclass=\"categories__calls__description-separator\">, </span>\\n<a\\nhref=\"/cursos-online-programacao/computacao\"\\nclass=\"categories__calls__description--home\">Computa\\xc3\\xa7\\xc3\\xa3o</a><span\\nclass=\"categories__calls__description-separator\">, </span>\\n<a\\nhref=\"/cursos-online-programacao/jogos\"\\nclass=\"categories__calls__description--home\">Jogos</a><span\\nclass=\"categories__calls__description-separator\">, </span>\\n<a\\nhref=\"/cursos-online-programacao/internet-das-coisas\"\\nclass=\"categories__calls__description--home\">IoT</a><span\\nclass=\"categories__calls__description-separator\"></span>\\n<a\\nhref=\"/cursos-online-programacao\"\\nclass=\"categories__calls__link-see-more--home\">e mais...</a></nav></div><div\\nclass=\"categories__wrapper__links--home --front-end\" style=\"--color-var: #6bd1ff\">\\n<a\\nclass=\"categories__link--home\" href=\"/cursos-online-front-end\"><div\\nclass=\"categories__link-wrapper--home\"><div\\nclass=\"categories__svg-wrapper--home\" style=\"background:#6bd1ff52;\">\\n<svg\\nclass=\"pagina-categoria__svg--home categories__svg--home\" style=\"fill:#6bd1ff\" xmlns:xlink=\"http://www.w3.org/1999/xlink\">\\n<use\\nxlink:href=\"/svg,1617662393/categorias#icon-categorias-front-end\"/>\\n</svg></div><div\\nclass=\"categories__texts\" style=\"color:#6bd1ff;\">\\n<span\\nclass=\"categories__link__text\">Escola</span><h4 class=\"categories__link__category-name\">Front-end</h4></div></div>\\n</a><nav\\nclass=\"categories__calls--home\">\\n<a\\nhref=\"/cursos-online-front-end/front-end\"\\nclass=\"categories__calls__description--home\">HTML, CSS</a><span\\nclass=\"categories__calls__description-separator\">, </span>\\n<a\\nhref=\"/cursos-online-front-end/reactjs\"\\nclass=\"categories__calls__description--home\">React</a><span\\nclass=\"categories__calls__description-separator\">, </span>\\n<a\\nhref=\"/cursos-online-front-end/angular\"\\nclass=\"categories__calls__description--home\">Angular</a><span\\nclass=\"categories__calls__description-separator\">, </span>\\n<a\\nhref=\"/cursos-online-front-end/javascript\"\\nclass=\"categories__calls__description--home\">JavaScript</a><span\\nclass=\"categories__calls__description-separator\">, </span>\\n<a\\nhref=\"/cursos-online-front-end/jquery\"\\nclass=\"categories__calls__description--home\">jQuery</a><span\\nclass=\"categories__calls__description-separator\"></span>\\n<a\\nhref=\"/cursos-online-front-end\"\\nclass=\"categories__calls__link-see-more--home\">e mais...</a></nav></div><div\\nclass=\"categories__wrapper__links--home --data-science\" style=\"--color-var: #9cd33b\">\\n<a\\nclass=\"categories__link--home\" href=\"/cursos-online-data-science\"><div\\nclass=\"categories__link-wrapper--home\"><div\\nclass=\"categories__svg-wrapper--home\" style=\"background:#9cd33b52;\">\\n<svg\\nclass=\"pagina-categoria__svg--home categories__svg--home\" style=\"fill:#9cd33b\" xmlns:xlink=\"http://www.w3.org/1999/xlink\">\\n<use\\nxlink:href=\"/svg,1617662393/categorias#icon-categorias-data-science\"/>\\n</svg></div><div\\nclass=\"categories__texts\" style=\"color:#9cd33b;\">\\n<span\\nclass=\"categories__link__text\">Escola</span><h4 class=\"categories__link__category-name\">Data Science</h4></div></div>\\n</a><nav\\nclass=\"categories__calls--home\">\\n<a\\nhref=\"/cursos-online-data-science/data-science\"\\nclass=\"categories__calls__description--home\">Ci\\xc3\\xaancia de dados</a><span\\nclass=\"categories__calls__description-separator\">, </span>\\n<a\\nhref=\"/cursos-online-data-science/business-intelligence\"\\nclass=\"categories__calls__description--home\">BI</a><span\\nclass=\"categories__calls__description-separator\">, </span>\\n<a\\nhref=\"/cursos-online-data-science/sql\"\\nclass=\"categories__calls__description--home\">SQL e Banco de Dados</a><span\\nclass=\"categories__calls__description-separator\">, </span>\\n<a\\nhref=\"/cursos-online-data-science/excel\"\\nclass=\"categories__calls__description--home\">Excel</a><span\\nclass=\"categories__calls__description-separator\">, </span>\\n<a\\nhref=\"/cursos-online-data-science/machine-learning\"\\nclass=\"categories__calls__description--home\">Machine Learning</a><span\\nclass=\"categories__calls__description-separator\">, </span>\\n<a\\nhref=\"/cursos-online-data-science/nosql\"\\nclass=\"categories__calls__description--home\">NoSQL</a><span\\nclass=\"categories__calls__description-separator\">, </span>\\n<a\\nhref=\"/cursos-online-data-science/estatistica\"\\nclass=\"categories__calls__description--home\">Estat\\xc3\\xadstica</a><span\\nclass=\"categories__calls__description-separator\"></span>\\n<a\\nhref=\"/cursos-online-data-science\"\\nclass=\"categories__calls__link-see-more--home\">e mais...</a></nav></div><div\\nclass=\"categories__wrapper__links--home --devops\" style=\"--color-var: #f16165\">\\n<a\\nclass=\"categories__link--home\" href=\"/cursos-online-devops\"><div\\nclass=\"categories__link-wrapper--home\"><div\\nclass=\"categories__svg-wrapper--home\" style=\"background:#f1616552;\">\\n<svg\\nclass=\"pagina-categoria__svg--home categories__svg--home\" style=\"fill:#f16165\" xmlns:xlink=\"http://www.w3.org/1999/xlink\">\\n<use\\nxlink:href=\"/svg,1617662393/categorias#icon-categorias-devops\"/>\\n</svg></div><div\\nclass=\"categories__texts\" style=\"color:#f16165;\">\\n<span\\nclass=\"categories__link__text\">Escola</span><h4 class=\"categories__link__category-name\">DevOps</h4></div></div>\\n</a><nav\\nclass=\"categories__calls--home\">\\n<a\\nhref=\"/cursos-online-devops/aws\"\\nclass=\"categories__calls__description--home\">AWS</a><span\\nclass=\"categories__calls__description-separator\">, </span>\\n<a\\nhref=\"/cursos-online-devops/azure\"\\nclass=\"categories__calls__description--home\">Azure</a><span\\nclass=\"categories__calls__description-separator\">, </span>\\n<a\\nhref=\"/cursos-online-devops/containers\"\\nclass=\"categories__calls__description--home\">Docker</a><span\\nclass=\"categories__calls__description-separator\">, </span>\\n<a\\nhref=\"/cursos-online-devops/seguranca\"\\nclass=\"categories__calls__description--home\">Seguran\\xc3\\xa7a</a><span\\nclass=\"categories__calls__description-separator\">, </span>\\n<a\\nhref=\"/cursos-online-devops/infraestrutura-como-codigo\"\\nclass=\"categories__calls__description--home\">IaC</a><span\\nclass=\"categories__calls__description-separator\">, </span>\\n<a\\nhref=\"/cursos-online-devops/linux-comandos-e-processos\"\\nclass=\"categories__calls__description--home\">Linux</a><span\\nclass=\"categories__calls__description-separator\"></span>\\n<a\\nhref=\"/cursos-online-devops\"\\nclass=\"categories__calls__link-see-more--home\">e mais...</a></nav></div><div\\nclass=\"categories__wrapper__links--home --design-ux\" style=\"--color-var: #dc6ebe\">\\n<a\\nclass=\"categories__link--home\" href=\"/cursos-online-design-ux\"><div\\nclass=\"categories__link-wrapper--home\"><div\\nclass=\"categories__svg-wrapper--home\" style=\"background:#dc6ebe52;\">\\n<svg\\nclass=\"pagina-categoria__svg--home categories__svg--home\" style=\"fill:#dc6ebe\" xmlns:xlink=\"http://www.w3.org/1999/xlink\">\\n<use\\nxlink:href=\"/svg,1617662393/categorias#icon-categorias-design-ux\"/>\\n</svg></div><div\\nclass=\"categories__texts\" style=\"color:#dc6ebe;\">\\n<span\\nclass=\"categories__link__text\">Escola</span><h4 class=\"categories__link__category-name\">UX & Design</h4></div></div>\\n</a><nav\\nclass=\"categories__calls--home\">\\n<a\\nhref=\"/cursos-online-design-ux/wwww\"\\nclass=\"categories__calls__description--home\">Photoshop e Illustrator</a><span\\nclass=\"categories__calls__description-separator\">, </span>\\n<a\\nhref=\"/cursos-online-design-ux/ux\"\\nclass=\"categories__calls__description--home\">Usabilidade e UX</a><span\\nclass=\"categories__calls__description-separator\">, </span>\\n<a\\nhref=\"/cursos-online-design-ux/video\"\\nclass=\"categories__calls__description--home\">V\\xc3\\xaddeo e Motion</a><span\\nclass=\"categories__calls__description-separator\">, </span>\\n<a\\nhref=\"/cursos-online-design-ux/3d\"\\nclass=\"categories__calls__description--home\">3D</a><span\\nclass=\"categories__calls__description-separator\"></span>\\n<a\\nhref=\"/cursos-online-design-ux\"\\nclass=\"categories__calls__link-see-more--home\">e mais...</a></nav></div><div\\nclass=\"categories__wrapper__links--home --mobile\" style=\"--color-var: #ffba05\">\\n<a\\nclass=\"categories__link--home\" href=\"/cursos-online-mobile\"><div\\nclass=\"categories__link-wrapper--home\"><div\\nclass=\"categories__svg-wrapper--home\" style=\"background:#ffba0552;\">\\n<svg\\nclass=\"pagina-categoria__svg--home categories__svg--home\" style=\"fill:#ffba05\" xmlns:xlink=\"http://www.w3.org/1999/xlink\">\\n<use\\nxlink:href=\"/svg,1617662393/categorias#icon-categorias-mobile\"/>\\n</svg></div><div\\nclass=\"categories__texts\" style=\"color:#ffba05;\">\\n<span\\nclass=\"categories__link__text\">Escola</span><h4 class=\"categories__link__category-name\">Mobile</h4></div></div>\\n</a><nav\\nclass=\"categories__calls--home\">\\n<a\\nhref=\"/cursos-online-mobile/react-native\"\\nclass=\"categories__calls__description--home\">React Native</a><span\\nclass=\"categories__calls__description-separator\">, </span>\\n<a\\nhref=\"/cursos-online-mobile/flutter\"\\nclass=\"categories__calls__description--home\">Flutter</a><span\\nclass=\"categories__calls__description-separator\">, </span>\\n<a\\nhref=\"/cursos-online-mobile/ios\"\\nclass=\"categories__calls__description--home\">iOS e Swift</a><span\\nclass=\"categories__calls__description-separator\">, </span>\\n<a\\nhref=\"/cursos-online-mobile/android\"\\nclass=\"categories__calls__description--home\">Android, Kotlin</a><span\\nclass=\"categories__calls__description-separator\">, </span>\\n<a\\nhref=\"/cursos-online-mobile/jogos\"\\nclass=\"categories__calls__description--home\">Jogos</a><span\\nclass=\"categories__calls__description-separator\"></span>\\n<a\\nhref=\"/cursos-online-mobile\"\\nclass=\"categories__calls__link-see-more--home\">e mais...</a></nav></div><div\\nclass=\"categories__wrapper__links--home --inovacao-gestao\" style=\"--color-var: #ff8c2a\">\\n<a\\nclass=\"categories__link--home\" href=\"/cursos-online-inovacao-gestao\"><div\\nclass=\"categories__link-wrapper--home\"><div\\nclass=\"categories__svg-wrapper--home\" style=\"background:#ff8c2a52;\">\\n<svg\\nclass=\"pagina-categoria__svg--home categories__svg--home\" style=\"fill:#ff8c2a\" xmlns:xlink=\"http://www.w3.org/1999/xlink\">\\n<use\\nxlink:href=\"/svg,1617662393/categorias#icon-categorias-inovacao-gestao\"/>\\n</svg></div><div\\nclass=\"categories__texts\" style=\"color:#ff8c2a;\">\\n<span\\nclass=\"categories__link__text\">Escola</span><h4 class=\"categories__link__category-name\">Inova\\xc3\\xa7\\xc3\\xa3o & Gest\\xc3\\xa3o</h4></div></div>\\n</a><nav\\nclass=\"categories__calls--home\">\\n<a\\nhref=\"/cursos-online-inovacao-gestao/agilidade\"\\nclass=\"categories__calls__description--home\">M\\xc3\\xa9todos \\xc3\\x81geis</a><span\\nclass=\"categories__calls__description-separator\">, </span>\\n<a\\nhref=\"/cursos-online-inovacao-gestao/softskills-carreira\"\\nclass=\"categories__calls__description--home\">Softskills</a><span\\nclass=\"categories__calls__description-separator\">, </span>\\n<a\\nhref=\"/cursos-online-inovacao-gestao/gestao-corporativa\"\\nclass=\"categories__calls__description--home\">Lideran\\xc3\\xa7a e Gest\\xc3\\xa3o</a><span\\nclass=\"categories__calls__description-separator\">, </span>\\n<a\\nhref=\"/cursos-online-inovacao-gestao/startup-empreendedorismo\"\\nclass=\"categories__calls__description--home\">Startups</a><span\\nclass=\"categories__calls__description-separator\">, </span>\\n<a\\nhref=\"/cursos-online-inovacao-gestao/vendas\"\\nclass=\"categories__calls__description--home\">Vendas</a><span\\nclass=\"categories__calls__description-separator\"></span>\\n<a\\nhref=\"/cursos-online-inovacao-gestao\"\\nclass=\"categories__calls__link-see-more--home\">e mais...</a></nav></div></div></nav></div></div></div><main\\nclass=\"home__main-content\"><section\\nclass=\"features container\"><aside\\nclass=\"features__video\"><div\\nclass=\"features__video-wrapper\"><div\\nclass=\"home-diferenciais-video\"><div\\nclass=\"home-diferenciais-video-wrapper\">\\n<iframe\\nwidth=\"100%\" height=\"315\" src=\"https://www.youtube.com/embed/2t8ycK8D4Rk\" title=\"YouTube video player\" frameborder=\"0\" allow=\"accelerometer; autoplay; clipboard-write; encrypted-media; gyroscope; picture-in-picture\" allowfullscreen></iframe></div></div></div>\\n<a\\nclass=\"features__video__link features--desktop\" href=\"/como-funciona\">Veja como funciona</a></aside><aside\\nclass=\"features__info\"><h2 class=\"features__info__title\">A maior plataforma brasileira de cursos de tecnologia.</h2>\\n<span\\nclass=\"features__info__subtitle\">Mergulhe com profundidade e navegue em outras \\xc3\\xa1reas de Tecnologia. Profissional em &lt;T&gt;. </span>\\n<a\\nclass=\"features__video__link features--mobile\" href=\"/como-funciona\">Veja como funciona</a></aside></section><section\\nclass=\"alura-benefits\"><div\\nclass=\"container\"><ul\\nclass=\"alura-benefits-list\"><li>\\n<img\\nsrc=\"/assets/img/home/icon-home-farol.1617662393.svg\" alt=\"\"><h2>Navegue sua carreira</h2><p>S\\xc3\\xa3o <strong>1279 cursos</strong> e novos lan\\xc3\\xa7amentos toda semana, al\\xc3\\xa9m de atualiza\\xc3\\xa7\\xc3\\xb5es e melhorias constantes.</p></li><li>\\n<img\\nsrc=\"/assets/img/home/icon-home-snorkel.1617662393.svg\" alt=\"\"><h2>Aprofunde-se de vez</h2><p>Garantimos conhecimento com profundidade e diversidade, para se tornar um profissional em T!</p></li><li>\\n<img\\nsrc=\"/assets/img/home/icon-home-onda.1617662393.svg\" alt=\"\"><h2>Conte\\xc3\\xbado imersivo</h2><p>Fa\\xc3\\xa7a parte de uma comunidade de apaixonados por tudo que \\xc3\\xa9 digital. Mergulhe na comunidade Alura.</p></li></ul></div></section><section\\nclass=\"degrees-list\"><div\\nclass=\"container --titles\"><h3>Nossas Forma\\xc3\\xa7\\xc3\\xb5es, Seu Guia</h3><h2>Sequ\\xc3\\xaancias de cursos organizados em Forma\\xc3\\xa7\\xc3\\xb5es</h2><p>Forma\\xc3\\xa7\\xc3\\xb5es com conte\\xc3\\xbado do mercado de trabalho: sequ\\xc3\\xaancias de cursos e conte\\xc3\\xbado para voc\\xc3\\xaa se capacitar em tecnologia e neg\\xc3\\xb3cios digitais.</p></div><div\\nclass=\"container --items\"><ul\\nclass=\"careers__list\"><style type=\"text/css\">.career-programacao-title:after {\\n                                background-color:#00c86f;\\n                            }</style><li\\nclass=\"careers__list__item --programacao \" style=\"color:#00c86f;\"><div\\nclass=\"careers__list__item__title-wrapper\"><div\\nclass=\"categories__svg-wrapper\" style=\"background-color:#00c86f52;\">\\n<svg\\nclass=\"pagina-categoria__svg svgFill-programacao categories__svg\" style=\"fill: #00c86f;\" xmlns:xlink=\"http://www.w3.org/1999/xlink\">\\n<use\\nxlink:href=\"/svg,1617662393/categorias#icon-categorias-programacao\"/>\\n</svg></div><h3 class=\"careers__list__item__title\">Programa\\xc3\\xa7\\xc3\\xa3o</h3></div><ul\\nclass=\"careers__list__item__list careers__list__item__list--formacoes\"><li\\nclass=\"careers__list__item__list__item\">\\n<a\\nclass=\"careers__list__item__list__item__link\" href=\"/formacao-arquiteto-php\">\\nArquiteto PHP                                        </a></li><li\\nclass=\"careers__list__item__list__item\">\\n<a\\nclass=\"careers__list__item__list__item__link\" href=\"/formacao-arquitetura-design-projetos-java\">\\nArquitetura e Design de Projetos Java                                        </a></li><li\\nclass=\"careers__list__item__list__item\">\\n<a\\nclass=\"careers__list__item__list__item__link\" href=\"/formacao-dotnet\">\\nASP.NET Core REST APIs                                        </a></li><li\\nclass=\"careers__list__item__list__item\">\\n<a\\nclass=\"careers__list__item__list__item__link\" href=\"/formacao-c-sharp-orientacao-objetos\">\\nC# e orienta\\xc3\\xa7\\xc3\\xa3o a objetos                                        </a></li><li\\nclass=\"careers__list__item__list__item\">\\n<a\\nclass=\"careers__list__item__list__item__link\" href=\"/formacao-certificacao-csharp\">\\nCertifica\\xc3\\xa7\\xc3\\xa3o C# Programming                                        </a></li><li\\nclass=\"careers__list__item__list__item\">\\n<a\\nclass=\"careers__list__item__list__item__link\" href=\"/formacao-certificacao-java\">\\nCertifica\\xc3\\xa7\\xc3\\xa3o Java                                        </a></li><li\\nclass=\"careers__list__item__list__item\">\\n<a\\nclass=\"careers__list__item__list__item__link\" href=\"/formacao-clojure\">\\nClojure                                        </a></li><li\\nclass=\"careers__list__item__list__item\">\\n<a\\nclass=\"careers__list__item__list__item__link\" href=\"/formacao-django\">\\nDjango                                        </a></li><li\\nclass=\"careers__list__item__see-more\">\\n<a\\nhref=\"/cursos-online-programacao\" class=\"careers__list__item__see-more__link\">ver todas</a></li></ul></li><style type=\"text/css\">.career-front-end-title:after {\\n                                background-color:#6bd1ff;\\n                            }</style><li\\nclass=\"careers__list__item --front-end \" style=\"color:#6bd1ff;\"><div\\nclass=\"careers__list__item__title-wrapper\"><div\\nclass=\"categories__svg-wrapper\" style=\"background-color:#6bd1ff52;\">\\n<svg\\nclass=\"pagina-categoria__svg svgFill-front-end categories__svg\" style=\"fill: #6bd1ff;\" xmlns:xlink=\"http://www.w3.org/1999/xlink\">\\n<use\\nxlink:href=\"/svg,1617662393/categorias#icon-categorias-front-end\"/>\\n</svg></div><h3 class=\"careers__list__item__title\">Front-end</h3></div><ul\\nclass=\"careers__list__item__list careers__list__item__list--formacoes\"><li\\nclass=\"careers__list__item__list__item\">\\n<a\\nclass=\"careers__list__item__list__item__link\" href=\"/formacao-acessibilidade-web\">\\nAcessibilidade Web                                        </a></li><li\\nclass=\"careers__list__item__list__item\">\\n<a\\nclass=\"careers__list__item__list__item__link\" href=\"/formacao-angular\">\\nAngular                                        </a></li><li\\nclass=\"careers__list__item__list__item\">\\n<a\\nclass=\"careers__list__item__list__item__link\" href=\"/formacao-front-end\">\\nFront-end                                        </a></li><li\\nclass=\"careers__list__item__list__item\">\\n<a\\nclass=\"careers__list__item__list__item__link\" href=\"/formacao-html-e-css\">\\nHTML e CSS                                        </a></li><li\\nclass=\"careers__list__item__list__item\">\\n<a\\nclass=\"careers__list__item__list__item__link\" href=\"/formacao-react-js\">\\nReact JS                                        </a></li><li\\nclass=\"careers__list__item__list__item\">\\n<a\\nclass=\"careers__list__item__list__item__link\" href=\"/formacao-vuejs\">\\nVue.js                                        </a></li><li\\nclass=\"careers__list__item__see-more\">\\n<a\\nhref=\"/cursos-online-front-end\" class=\"careers__list__item__see-more__link\">ver todas</a></li></ul></li><style type=\"text/css\">.career-data-science-title:after {\\n                                background-color:#9cd33b;\\n                            }</style><li\\nclass=\"careers__list__item --data-science \" style=\"color:#9cd33b;\"><div\\nclass=\"careers__list__item__title-wrapper\"><div\\nclass=\"categories__svg-wrapper\" style=\"background-color:#9cd33b52;\">\\n<svg\\nclass=\"pagina-categoria__svg svgFill-data-science categories__svg\" style=\"fill: #9cd33b;\" xmlns:xlink=\"http://www.w3.org/1999/xlink\">\\n<use\\nxlink:href=\"/svg,1617662393/categorias#icon-categorias-data-science\"/>\\n</svg></div><h3 class=\"careers__list__item__title\">Data Science</h3></div><ul\\nclass=\"careers__list__item__list careers__list__item__list--formacoes\"><li\\nclass=\"careers__list__item__list__item\">\\n<a\\nclass=\"careers__list__item__list__item__link\" href=\"/formacao-business-intelligence-data-warehouse-pentaho\">\\nBI e Data Warehouse com Pentaho                                        </a></li><li\\nclass=\"careers__list__item__list__item\">\\n<a\\nclass=\"careers__list__item__list__item__link\" href=\"/formacao-business-intelligence-data-warehouse\">\\nBI e Data Warehouse com SQL Server e Power BI                                        </a></li><li\\nclass=\"careers__list__item__list__item\">\\n<a\\nclass=\"careers__list__item__list__item__link\" href=\"/formacao-data-analysis-google-sheets\">\\nData Analysis com Google Sheets                                        </a></li><li\\nclass=\"careers__list__item__list__item\">\\n<a\\nclass=\"careers__list__item__list__item__link\" href=\"/formacao-data-science\">\\nData Science                                        </a></li><li\\nclass=\"careers__list__item__list__item\">\\n<a\\nclass=\"careers__list__item__list__item__link\" href=\"/formacao-datomic\">\\nDatomic                                        </a></li><li\\nclass=\"careers__list__item__list__item\">\\n<a\\nclass=\"careers__list__item__list__item__link\" href=\"/formacao-deep-learning-pytorch\">\\nDeep Learning com Pytorch                                        </a></li><li\\nclass=\"careers__list__item__list__item\">\\n<a\\nclass=\"careers__list__item__list__item__link\" href=\"/formacao-estatistica-python\">\\nEstat\\xc3\\xadstica com Python                                        </a></li><li\\nclass=\"careers__list__item__list__item\">\\n<a\\nclass=\"careers__list__item__list__item__link\" href=\"/formacao-estatistica-r\">\\nEstat\\xc3\\xadstica com R                                        </a></li><li\\nclass=\"careers__list__item__see-more\">\\n<a\\nhref=\"/cursos-online-data-science\" class=\"careers__list__item__see-more__link\">ver todas</a></li></ul></li><style type=\"text/css\">.career-devops-title:after {\\n                                background-color:#f16165;\\n                            }</style><li\\nclass=\"careers__list__item --devops \" style=\"color:#f16165;\"><div\\nclass=\"careers__list__item__title-wrapper\"><div\\nclass=\"categories__svg-wrapper\" style=\"background-color:#f1616552;\">\\n<svg\\nclass=\"pagina-categoria__svg svgFill-devops categories__svg\" style=\"fill: #f16165;\" xmlns:xlink=\"http://www.w3.org/1999/xlink\">\\n<use\\nxlink:href=\"/svg,1617662393/categorias#icon-categorias-devops\"/>\\n</svg></div><h3 class=\"careers__list__item__title\">DevOps</h3></div><ul\\nclass=\"careers__list__item__list careers__list__item__list--formacoes\"><li\\nclass=\"careers__list__item__list__item\">\\n<a\\nclass=\"careers__list__item__list__item__link\" href=\"/formacao-redes\">\\nAdministrador de Redes                                        </a></li><li\\nclass=\"careers__list__item__list__item\">\\n<a\\nclass=\"careers__list__item__list__item__link\" href=\"/formacao-amazon-web-services\">\\nAmazon Web Services                                        </a></li><li\\nclass=\"careers__list__item__list__item\">\\n<a\\nclass=\"careers__list__item__list__item__link\" href=\"/formacao-kafka\">\\nApache Kafka                                        </a></li><li\\nclass=\"careers__list__item__list__item\">\\n<a\\nclass=\"careers__list__item__list__item__link\" href=\"/formacao-aws-certified-cloud-practitioner\">\\nAWS Certified Cloud Practitioner                                        </a></li><li\\nclass=\"careers__list__item__list__item\">\\n<a\\nclass=\"careers__list__item__list__item__link\" href=\"/formacao-aws-certified-solutions-architect-associate\">\\nAWS Certified Solutions Architect - Associate                                        </a></li><li\\nclass=\"careers__list__item__list__item\">\\n<a\\nclass=\"careers__list__item__list__item__link\" href=\"/formacao-certificacao-az-900-microsoft-azure-fundamentals\">\\nCertifica\\xc3\\xa7\\xc3\\xa3o AZ-900: Microsoft Azure Fundamentals                                        </a></li><li\\nclass=\"careers__list__item__list__item\">\\n<a\\nclass=\"careers__list__item__list__item__link\" href=\"/formacao-docker-dca\">\\nCertifica\\xc3\\xa7\\xc3\\xa3o Docker DCA                                        </a></li><li\\nclass=\"careers__list__item__list__item\">\\n<a\\nclass=\"careers__list__item__list__item__link\" href=\"/formacao-certificacao-lpi-linux-essentials\">\\nCertifica\\xc3\\xa7\\xc3\\xa3o LPI Linux Essentials                                        </a></li><li\\nclass=\"careers__list__item__see-more\">\\n<a\\nhref=\"/cursos-online-devops\" class=\"careers__list__item__see-more__link\">ver todas</a></li></ul></li><style type=\"text/css\">.career-design-ux-title:after {\\n                                background-color:#dc6ebe;\\n                            }</style><li\\nclass=\"careers__list__item --design-ux \" style=\"color:#dc6ebe;\"><div\\nclass=\"careers__list__item__title-wrapper\"><div\\nclass=\"categories__svg-wrapper\" style=\"background-color:#dc6ebe52;\">\\n<svg\\nclass=\"pagina-categoria__svg svgFill-design-ux categories__svg\" style=\"fill: #dc6ebe;\" xmlns:xlink=\"http://www.w3.org/1999/xlink\">\\n<use\\nxlink:href=\"/svg,1617662393/categorias#icon-categorias-design-ux\"/>\\n</svg></div><h3 class=\"careers__list__item__title\">UX & Design</h3></div><ul\\nclass=\"careers__list__item__list careers__list__item__list--formacoes\"><li\\nclass=\"careers__list__item__list__item\">\\n<a\\nclass=\"careers__list__item__list__item__link\" href=\"/formacao-ui-adobe-xd\">\\nAdobe XD                                        </a></li><li\\nclass=\"careers__list__item__list__item\">\\n<a\\nclass=\"careers__list__item__list__item__link\" href=\"/formacao-blender\">\\nBlender                                        </a></li><li\\nclass=\"careers__list__item__list__item\">\\n<a\\nclass=\"careers__list__item__list__item__link\" href=\"/formacao-desenhohumano-photoshop\">\\nDesenho b\\xc3\\xa1sico                                        </a></li><li\\nclass=\"careers__list__item__list__item\">\\n<a\\nclass=\"careers__list__item__list__item__link\" href=\"/formacao-design-de-jogos\">\\nDesign de Jogos                                        </a></li><li\\nclass=\"careers__list__item__list__item\">\\n<a\\nclass=\"careers__list__item__list__item__link\" href=\"/formacao-design-grafico\">\\nDesign Gr\\xc3\\xa1fico                                        </a></li><li\\nclass=\"careers__list__item__list__item\">\\n<a\\nclass=\"careers__list__item__list__item__link\" href=\"/formacao-editor-video\">\\nEdi\\xc3\\xa7\\xc3\\xa3o de v\\xc3\\xaddeo                                        </a></li><li\\nclass=\"careers__list__item__list__item\">\\n<a\\nclass=\"careers__list__item__list__item__link\" href=\"/formacao-figma\">\\nFigma                                        </a></li><li\\nclass=\"careers__list__item__list__item\">\\n<a\\nclass=\"careers__list__item__list__item__link\" href=\"/formacao-fotografia\">\\nFotografia                                        </a></li><li\\nclass=\"careers__list__item__see-more\">\\n<a\\nhref=\"/cursos-online-design-ux\" class=\"careers__list__item__see-more__link\">ver todas</a></li></ul></li><style type=\"text/css\">.career-mobile-title:after {\\n                                background-color:#ffba05;\\n                            }</style><li\\nclass=\"careers__list__item --mobile \" style=\"color:#ffba05;\"><div\\nclass=\"careers__list__item__title-wrapper\"><div\\nclass=\"categories__svg-wrapper\" style=\"background-color:#ffba0552;\">\\n<svg\\nclass=\"pagina-categoria__svg svgFill-mobile categories__svg\" style=\"fill: #ffba05;\" xmlns:xlink=\"http://www.w3.org/1999/xlink\">\\n<use\\nxlink:href=\"/svg,1617662393/categorias#icon-categorias-mobile\"/>\\n</svg></div><h3 class=\"careers__list__item__title\">Mobile</h3></div><ul\\nclass=\"careers__list__item__list careers__list__item__list--formacoes\"><li\\nclass=\"careers__list__item__list__item\">\\n<a\\nclass=\"careers__list__item__list__item__link\" href=\"/formacao-android\">\\nAndroid                                        </a></li><li\\nclass=\"careers__list__item__list__item\">\\n<a\\nclass=\"careers__list__item__list__item__link\" href=\"/formacao-arquiteto-android\">\\nArquitetura Android                                        </a></li><li\\nclass=\"careers__list__item__list__item\">\\n<a\\nclass=\"careers__list__item__list__item__link\" href=\"/formacao-flutter\">\\nFlutter                                        </a></li><li\\nclass=\"careers__list__item__list__item\">\\n<a\\nclass=\"careers__list__item__list__item__link\" href=\"/formacao-testes-automatizados-android\">\\nTestes automatizados no Android                                        </a></li><li\\nclass=\"careers__list__item__see-more\">\\n<a\\nhref=\"/cursos-online-mobile\" class=\"careers__list__item__see-more__link\">ver todas</a></li></ul></li><style type=\"text/css\">.career-inovacao-gestao-title:after {\\n                                background-color:#ff8c2a;\\n                            }</style><li\\nclass=\"careers__list__item --inovacao-gestao \" style=\"color:#ff8c2a;\"><div\\nclass=\"careers__list__item__title-wrapper\"><div\\nclass=\"categories__svg-wrapper\" style=\"background-color:#ff8c2a52;\">\\n<svg\\nclass=\"pagina-categoria__svg svgFill-inovacao-gestao categories__svg\" style=\"fill: #ff8c2a;\" xmlns:xlink=\"http://www.w3.org/1999/xlink\">\\n<use\\nxlink:href=\"/svg,1617662393/categorias#icon-categorias-inovacao-gestao\"/>\\n</svg></div><h3 class=\"careers__list__item__title\">Inova\\xc3\\xa7\\xc3\\xa3o & Gest\\xc3\\xa3o</h3></div><ul\\nclass=\"careers__list__item__list careers__list__item__list--formacoes\"><li\\nclass=\"careers__list__item__list__item\">\\n<a\\nclass=\"careers__list__item__list__item__link\" href=\"/formacao-aprendizagem\">\\nAprendizagem                                        </a></li><li\\nclass=\"careers__list__item__list__item\">\\n<a\\nclass=\"careers__list__item__list__item__link\" href=\"/formacao-business-agility\">\\nBusiness Agility                                        </a></li><li\\nclass=\"careers__list__item__list__item\">\\n<a\\nclass=\"careers__list__item__list__item__link\" href=\"/formacao-certificacao-cobit-5\">\\nCertifica\\xc3\\xa7\\xc3\\xa3o Cobit 5                                        </a></li><li\\nclass=\"careers__list__item__list__item\">\\n<a\\nclass=\"careers__list__item__list__item__link\" href=\"/formacao-certificacao-itil-foundation\">\\nCertifica\\xc3\\xa7\\xc3\\xa3o da biblioteca de infraestrutura de tecnologia da informa\\xc3\\xa7\\xc3\\xa3o - Fundamentos v3                                        </a></li><li\\nclass=\"careers__list__item__list__item\">\\n<a\\nclass=\"careers__list__item__list__item__link\" href=\"/formacao-certificacao-itil-4-foundation\">\\nCertifica\\xc3\\xa7\\xc3\\xa3o da biblioteca de infraestrutura de tecnologia da informa\\xc3\\xa7\\xc3\\xa3o - Fundamentos v4                                        </a></li><li\\nclass=\"careers__list__item__list__item\">\\n<a\\nclass=\"careers__list__item__list__item__link\" href=\"/formacao-certificacao-pmp-capm-pmi\">\\nCertifica\\xc3\\xa7\\xc3\\xa3o PMP e CAPM do PMI                                        </a></li><li\\nclass=\"careers__list__item__list__item\">\\n<a\\nclass=\"careers__list__item__list__item__link\" href=\"/formacao-comunicacao\">\\nComunica\\xc3\\xa7\\xc3\\xa3o                                        </a></li><li\\nclass=\"careers__list__item__list__item\">\\n<a\\nclass=\"careers__list__item__list__item__link\" href=\"/formacao-comunicacao-lideres\">\\nComunica\\xc3\\xa7\\xc3\\xa3o para l\\xc3\\xadderes                                        </a></li><li\\nclass=\"careers__list__item__see-more\">\\n<a\\nhref=\"/cursos-online-inovacao-gestao\" class=\"careers__list__item__see-more__link\">ver todas</a></li></ul></li></ul></div></section><link\\nrel=\"stylesheet\" href=\"/assets/css/block/destaqueAlunos.1616501197.css\"><section\\nclass=\"depoimentos-alunos\"><div\\nclass=\"container\"><div\\nclass=\"depoimentos-area\"><div\\nclass=\"titles\"><h3>Nossos mergulhadores</h3><h2>A maior plataforma brasileira de cursos de tecnologia.</h2><p>S\\xc3\\xa3o 1279 cursos, 100% em portugu\\xc3\\xaas. E novos lan\\xc3\\xa7amentos todas as semanas.</p></div><div\\nclass=\"depoimentos-wrapper b2c\"><ul><li>\\n<img\\nsrc=\"/assets/img/aluno-destaque/genilton-souza.1616501197.jpg\"/><p\\nclass=\"depoimento__text\">Se voc\\xc3\\xaa n\\xc3\\xa3o sabe a ordem do que deve aprender e praticar para dominar uma tecnologia, <strong>a forma como os cursos est\\xc3\\xa3o organizados e estruturados na Alura ajuda muito</strong>. Aprendi C# aqui e pago minhas contas com isso hoje em dia.</p><p\\nclass=\"depoimento__author\">Genilton Souza</p></li><li>\\n<img\\nsrc=\"/assets/img/aluno-destaque/leandro-silva.1616501197.jpg\" /><p\\nclass=\"depoimento__text\">Passei dois anos e meio desempregado e foi onde conheci os cursos da Alura. <strong>Consegui fazer uma mudan\\xc3\\xa7a de carreira em uma \\xc3\\xa1rea muito disputada e estou muito feliz</strong>: passei em um processo seletivo como Agente de Inova\\xc3\\xa7\\xc3\\xa3o, e muito do que aprendi tanto para a prova quanto para a etapa presencial foi gra\\xc3\\xa7as a Alura.</p><p\\nclass=\"depoimento__author\">Leandro da Silva</p></li><li>\\n<img\\nsrc=\"/assets/img/aluno-destaque/nadia-oliveira.1616501197.jpg\" /><p\\nclass=\"depoimento__text\">A plataforma \\xc3\\xa9 incr\\xc3\\xadvel. Al\\xc3\\xa9m das metodologias do curso serem de alcance para quem est\\xc3\\xa1 come\\xc3\\xa7ando ou quem j\\xc3\\xa1 est\\xc3\\xa1 avan\\xc3\\xa7ado em alguma tecnologia, no f\\xc3\\xb3rum de d\\xc3\\xbavidas sempre algum instrutor ou aluno te responde em um curto espa\\xc3\\xa7o de tempo. <strong>Na Alura, seu conhecimento \\xc3\\xa9 prioridade</strong>.</p><p\\nclass=\"depoimento__author\">N\\xc3\\xa1dia Oliveira</p></li></ul></div></div></div></section><section\\nclass=\"depoimentos-empresas\"><div\\nclass=\"container\">\\n<img\\nsrc=\"/assets/img/home/alura-para-empresas.1616501197.svg\" class=\"aluracorp-logo\"><div\\nclass=\"depoimentos-empresas__wrapper\"><div\\nclass=\"depoimentos-empressas__header\"><h3>Alura na medida</h3><h2>Para a sua Empresa</h2><p>Capacite suas equipes com forma\\xc3\\xa7\\xc3\\xb5es continuadas, lan\\xc3\\xa7amentos semanais, dashboards e\\nrelat\\xc3\\xb3rios de engajamento al\\xc3\\xa9m de guias de estudos customizados de acordo com sua necessidade.</p><p>Conhe\\xc3\\xa7a nossa proposta para sua empresa:</p>\\n<a\\nhref=\"/empresas\" class=\"depoimentos__buttons --desktop\">Conhe\\xc3\\xa7a os recursos</a></div><div\\nclass=\"depoimentos-wrapper b2b\"><ul><li>\\n<img\\nsrc=\"/assets/img/home/homeNova/testimonies/getninjas.1616501197.png\"/><p\\nclass=\"depoimento__text\">O time conseguiu aprender muito e um dos diferenciais para n\\xc3\\xb3s foi a l\\xc3\\xadngua, com conte\\xc3\\xbado de qualidade em portugu\\xc3\\xaas. Na Alura, a equipe conseguiu estudar pela plataforma online e aplicar tudo de maneira estruturada.</p><p\\nclass=\"depoimento__author\">Lucas Souza <span\\nclass=\"depoimento__company\">- GetNinjas</span></p></li><li>\\n<img\\nsrc=\"/assets/img/home/homeNova/testimonies/grendene.1616501197.png\"/><p\\nclass=\"depoimento__text\">Temos um padr\\xc3\\xa3o m\\xc3\\xadnimo de conhecimento para atuar na empresa. Este padr\\xc3\\xa3o \\xc3\\xa9 garantido aos nossos profissionais pelos cursos de nivelamento que disponibilizamos com a Alura.</p><p\\nclass=\"depoimento__author\">Vladimir Giovani Ferreira <span\\nclass=\"depoimento__company\">- Grendene</span></p></li><li>\\n<img\\nsrc=\"/assets/img/home/homeNova/testimonies/sompo-seguros.1616501197.png\"/><p\\nclass=\"depoimento__text\">A experi\\xc3\\xaancia com a Alura \\xc3\\xa9 muito boa: a equipe consegue estar sempre atualizada sobre as novas tecnologias, agregar conhecimentos e se aperfei\\xc3\\xa7oar. O acompanhamento mensal da equipe ajudou bastante, tanto como os relat\\xc3\\xb3rios gerenciais da plataforma.</p><p\\nclass=\"depoimento__author\">Marcelo Poubel Tatagiba <span\\nclass=\"depoimento__company\">- SOMPO Seguros</span></p></li>\\n<a\\nhref=\"/empresas\" class=\"depoimentos__buttons --mobile\">Conhe\\xc3\\xa7a os recursos</a></ul></div></div></div></section><section\\nclass=\"depoimentos-videos\"><div\\nclass=\"container\"><div\\nclass=\"testimony-container-card\"><article\\nclass=\"testimony-student-card --videos\"><div\\nclass=\"testimony-container-box\" style=\"border-top-color:#051933;\"><div\\nclass=\"testimony-container-flex\">\\n<img\\nclass=\"testimony-icon\" src=\"/assets/img/depoimentos/alunos/fiama-de-capua.1623250551.jpeg\" alt=\"Foto de Fiama de C\\xc3\\xa1pua\"><p\\nclass=\"testimony-social-media\" style=\"border-color:#051933; background-color:#051933;\">YouTube</p></div><div\\nclass=\"testimony-container-text-student\"><h3 class=\"testimony-name-student\">Fiama de C\\xc3\\xa1pua</h3><div\\nclass=\"testimony-video-preview\" data-src=\"-80eLO36is0\" style=\"background-image: url(\\'http://i3.ytimg.com/vi/-80eLO36is0/hqdefault.jpg\\')\"></div><p\\nclass=\"testimony-student-details\">Eu consegui mudar de emprego e a quest\\xc3\\xa3o de (aumento da) confian\\xc3\\xa7a ...</p>\\n<a\\nhref=\"https://www.youtube.com/watch?v=-80eLO36is0\" target=\"_blank\" rel=\\xe2\\x80\\x9dnoopener\\xe2\\x80\\x9d class=\"testimony-link-social-media\">Ver depoimento completo no YouTube</a></div></div></article><article\\nclass=\"testimony-student-card --videos\"><div\\nclass=\"testimony-container-box\" style=\"border-top-color:#051933;\"><div\\nclass=\"testimony-container-flex\">\\n<img\\nclass=\"testimony-icon\" src=\"/assets/img/depoimentos/alunos/jennifer-bittencourt.1623250551.jpeg\" alt=\"Foto de Jennifer Bittencourt\"><p\\nclass=\"testimony-social-media\" style=\"border-color:#051933; background-color:#051933;\">YouTube</p></div><div\\nclass=\"testimony-container-text-student\"><h3 class=\"testimony-name-student\">Jennifer Bittencourt</h3><div\\nclass=\"testimony-video-preview\" data-src=\"JPfyh5XOaec\" style=\"background-image: url(\\'http://i3.ytimg.com/vi/JPfyh5XOaec/hqdefault.jpg\\')\"></div><p\\nclass=\"testimony-student-details\">A Quarentena Dev foi o que \\xe2\\x80\\x9cstartou\\xe2\\x80\\x9d a minha carreira como desenvolvedora...</p>\\n<a\\nhref=\"https://www.youtube.com/watch?v=JPfyh5XOaec\" target=\"_blank\" rel=\\xe2\\x80\\x9dnoopener\\xe2\\x80\\x9d class=\"testimony-link-social-media\">Ver depoimento completo no YouTube</a></div></div></article><article\\nclass=\"testimony-student-card --videos\"><div\\nclass=\"testimony-container-box\" style=\"border-top-color:#051933;\"><div\\nclass=\"testimony-container-flex\">\\n<img\\nclass=\"testimony-icon\" src=\"/assets/img/depoimentos/alunos/joao-vitor-perez.1623250551.jpeg\" alt=\"Foto de Jo\\xc3\\xa3o Vitor Perez\"><p\\nclass=\"testimony-social-media\" style=\"border-color:#051933; background-color:#051933;\">YouTube</p></div><div\\nclass=\"testimony-container-text-student\"><h3 class=\"testimony-name-student\">Jo\\xc3\\xa3o Vitor Perez</h3><div\\nclass=\"testimony-video-preview\" data-src=\"BXhtLcHVejI\" style=\"background-image: url(\\'http://i3.ytimg.com/vi/BXhtLcHVejI/hqdefault.jpg\\')\"></div><p\\nclass=\"testimony-student-details\">Fui convidado por um grupo de pesquisa internacional para trabalhar como Cientista de Dados Jr...</p>\\n<a\\nhref=\"https://www.youtube.com/watch?v=BXhtLcHVejI\" target=\"_blank\" rel=\\xe2\\x80\\x9dnoopener\\xe2\\x80\\x9d class=\"testimony-link-social-media\">Ver depoimento completo no YouTube</a></div></div></article></div><div\\nclass=\"testimony-container-card\"><article\\nclass=\"testimony-student-card\"><div\\nclass=\"testimony-container-box\" style=\"border-top-color:#0966c1;\"><div\\nclass=\"testimony-container-flex\">\\n<img\\nclass=\"testimony-icon\" src=\"/assets/img/depoimentos/alunos/laiza-pimentel.1623250551.jpeg\" alt=\"Foto de La\\xc3\\xadza Pimentel\"><p\\nclass=\"testimony-social-media\" style=\"border-color:#0966c1; background-color:#0966c1;\">LinkedIn</p></div><div\\nclass=\"testimony-container-text-student\"><h3 class=\"testimony-name-student\">La\\xc3\\xadza Pimentel</h3><p\\nclass=\"testimony-student-details\">Estou amando a plataforma da Alura, consigo me empenhar e praticar os exerc\\xc3\\xadcios, professor totalmente did\\xc3\\xa1tico e bem explicativo para n\\xc3\\xa3o deixar nenhuma d\\xc3\\xbavida...</p>\\n<a\\nhref=\"https://www.linkedin.com/feed/update/urn:li:activity:6801182949632020480/?actorCompanyId=3824181\" target=\"_blank\" rel=\\xe2\\x80\\x9dnoopener\\xe2\\x80\\x9d class=\"testimony-link-social-media\">Ver depoimento completo no LinkedIn</a></div></div></article><article\\nclass=\"testimony-student-card\"><div\\nclass=\"testimony-container-box\" style=\"border-top-color:#1da1f2;\"><div\\nclass=\"testimony-container-flex\">\\n<img\\nclass=\"testimony-icon\" src=\"/assets/img/depoimentos/alunos/caroline-araujo.1623250551.jpeg\" alt=\"Foto de Caroline Araujo\"><p\\nclass=\"testimony-social-media\" style=\"border-color:#1da1f2; background-color:#1da1f2;\">Twitter</p></div><div\\nclass=\"testimony-container-text-student\"><h3 class=\"testimony-name-student\">Caroline Araujo</h3><p\\nclass=\"testimony-student-details\">Todas as aulas s\\xc3\\xa3o din\\xc3\\xa2micas, os tempos de cada aula s\\xc3\\xa3o de uma dura\\xc3\\xa7\\xc3\\xa3o ideal para vc n\\xc3\\xa3o dispersar...</p>\\n<a\\nhref=\"https://twitter.com/bidungona/status/1305787155713843201\" target=\"_blank\" rel=\\xe2\\x80\\x9dnoopener\\xe2\\x80\\x9d class=\"testimony-link-social-media\">Ver depoimento completo no Twitter</a></div></div></article><article\\nclass=\"testimony-student-card\"><div\\nclass=\"testimony-container-box\" style=\"border-top-color:#0966c1;\"><div\\nclass=\"testimony-container-flex\">\\n<img\\nclass=\"testimony-icon\" src=\"/assets/img/depoimentos/alunos/felipe-lemes-min.1625161245.jpeg\" alt=\"Foto de Felipe Lemes\"><p\\nclass=\"testimony-social-media\" style=\"border-color:#0966c1; background-color:#0966c1;\">LinkedIn</p></div><div\\nclass=\"testimony-container-text-student\"><h3 class=\"testimony-name-student\">Felipe Lemes</h3><p\\nclass=\"testimony-student-details\">Eu automatizei grande parte do meu trabalho como engenheiro ambiental com Python...</p>\\n<a\\nhref=\"https://www.linkedin.com/pulse/como-utilizei-programa%25C3%25A7%25C3%25A3o-para-otimizar-meu-trabalho-engenheiro/\" target=\"_blank\" rel=\\xe2\\x80\\x9dnoopener\\xe2\\x80\\x9d class=\"testimony-link-social-media\">Ver depoimento completo no LinkedIn</a></div></div></article></div></div></section><section\\nclass=\"companies__using-alura\"><div\\nclass=\"container\"><ul\\nclass=\"companies__using-alura__list\"><li\\nclass=\"companies__using-alura__list__item\">\\n<img\\nclass=\"companies__using-alura__list__item__image\"\\nsrc=\"/assets/img/home/homeNova/logo-empresas/logo-sulamerica.1616501197.svg\" alt=\"Amil\"></li><li\\nclass=\"companies__using-alura__list__item\">\\n<img\\nclass=\"companies__using-alura__list__item__image\"\\nsrc=\"/assets/img/home/homeNova/logo-empresas/logo-empresa-samsung.1616501197.svg\" alt=\"Samsung\"></li><li\\nclass=\"companies__using-alura__list__item\">\\n<img\\nclass=\"companies__using-alura__list__item__image\"\\nsrc=\"/assets/img/home/homeNova/logo-empresas/logo-empresa-santander.1616501197.svg\" alt=\"Santander\"></li><li\\nclass=\"companies__using-alura__list__item\">\\n<img\\nclass=\"companies__using-alura__list__item__image\"\\nsrc=\"/assets/img/home/homeNova/logo-empresas/logo-mercadolivre.1616501197.svg\" alt=\"Cielo\"></li><li\\nclass=\"companies__using-alura__list__item\">\\n<img\\nclass=\"companies__using-alura__list__item__image\"\\nsrc=\"/assets/img/home/homeNova/logo-empresas/logo-empresa-algar.1616501197.svg\" alt=\"Algar\"></li><li\\nclass=\"companies__using-alura__list__item\">\\n<img\\nclass=\"companies__using-alura__list__item__image\"\\nsrc=\"/assets/img/home/homeNova/logo-empresas/logo-empresa-caixa.1616501197.svg\" alt=\"Caixa\"></li><li\\nclass=\"companies__using-alura__list__item\">\\n<img\\nclass=\"companies__using-alura__list__item__image\"\\nsrc=\"/assets/img/home/homeNova/logo-empresas/logo-empresa-globo.1616501197.svg\" alt=\"Globo.com\"></li><li\\nclass=\"companies__using-alura__list__item\">\\n<img\\nclass=\"companies__using-alura__list__item__image\"\\nsrc=\"/assets/img/home/homeNova/logo-empresas/logo-nubank.1616501197.png\" alt=\"Nuank\"></li><li\\nclass=\"companies__using-alura__list__item\">\\n<img\\nclass=\"companies__using-alura__list__item__image\"\\nsrc=\"/assets/img/home/homeNova/logo-empresas/logo-totvs.1616501197.png\" alt=\"Totvs\"></li><li\\nclass=\"companies__using-alura__list__item\">\\n<img\\nclass=\"companies__using-alura__list__item__image\"\\nsrc=\"/assets/img/home/homeNova/logo-empresas/logo-tw.1616501197.png\" alt=\"ThoughtWorks\"></li><li\\nclass=\"companies__using-alura__list__item --small-logo\">\\n<img\\nclass=\"companies__using-alura__list__item__image\"\\nsrc=\"/assets/img/home/homeNova/logo-empresas/logo-itau.1616501197.png\" alt=\"Itau\"></li><li\\nclass=\"companies__using-alura__list__item\">\\n<img\\nclass=\"companies__using-alura__list__item__image\"\\nsrc=\"/assets/img/home/homeNova/logo-empresas/logo-porto.1616501197.png\" alt=\"Porto Seguro\"></li><li\\nclass=\"companies__using-alura__list__item --small-logo\">\\n<img\\nclass=\"companies__using-alura__list__item__image\"\\nsrc=\"/assets/img/home/homeNova/logo-empresas/logo-brq.1616501197.png\" alt=\"BRQ Digital Solutions\"></li><li\\nclass=\"companies__using-alura__list__item\">\\n<img\\nclass=\"companies__using-alura__list__item__image\"\\nsrc=\"/assets/img/home/homeNova/logo-empresas/logo-stone.1616501197.png\" alt=\"Stone\"></li></ul></div></section><section\\nclass=\"mobile\"><div\\nclass=\"container\"><div\\nclass=\"mobile__wrapper-info\"><div\\nclass=\"mobile__info mobile__info--forum\">\\n<img\\nsrc=\"/assets/img/home/icon-home-reload.1616501197.svg\" alt=\"\"/>\\n<strong>1279 cursos</strong><p>com lan\\xc3\\xa7amentos toda semana e atualiza\\xc3\\xa7\\xc3\\xb5es constantes</p></div><div\\nclass=\"mobile__info mobile__info--app\">\\n<img\\nsrc=\"/assets/img/home/icon-home-apps.1616501197.svg\" alt=\"\"/>\\n<strong>Aplicativos</strong><p>para Android e iOS, para voc\\xc3\\xaa baixar e estudar offline.</p></div></div><nav\\nclass=\"mobile__apps-download\">\\n<a\\nhref=\"https://play.google.com/store/apps/details?id=br.com.alura.mobi&hl=pt_BR\"\\nclass=\"mobile__apps-download__item mobile__apps-download__item--google-play\">Google\\nPlay</a>\\n<a\\nhref=\"https://itunes.apple.com/br/app/alura-cursos-online/id1225776635\"\\nclass=\"mobile__apps-download__item mobile__apps-download__item--app-store\">App\\nStore</a></nav></div></section><link\\nrel=\"stylesheet\" href=\"/assets/css/block/planosPagamentoOld.1621287442.css\"><section\\nclass=\"planos-pagamento\" id=\"planos-cursos-online\"><h2 class=\"planos-pagamento__titulo\">\\nSabe quando voc\\xc3\\xaa pode come\\xc3\\xa7ar? <span\\nclass=\"planos-pagamento__titulo--bold\">Agora!</span></h2><div\\nclass=\"container\"><div\\nclass=\"planos-pagamento__planos \"><div\\nclass=\"animation-trigger --animate\"></div><ul\\nclass=\"planos-pagamento__vantagens-mobile\"><li\\nclass=\"planos-pagamento__vantagem\"><div\\nclass=\"planos-pagamento__wrapper planos-pagamento__wrapper--com-descricao\">\\n<span\\nclass=\"planos-pagamento__label\">1279 cursos</span><div\\nclass=\"planos-pagamento__legenda-tooltip\"><p\\nclass=\"planos-pagamento__legenda-descricao\">Cursos de programa\\xc3\\xa7\\xc3\\xa3o, UX, agilidade, data science, transforma\\xc3\\xa7\\xc3\\xa3o digital, mobile, front-end, marketing e infra.</p></div></div></li><li\\nclass=\"planos-pagamento__vantagem\"><div\\nclass=\"planos-pagamento__wrapper planos-pagamento__wrapper--com-descricao\">\\n<span\\nclass=\"planos-pagamento__label\">Certificado de participa\\xc3\\xa7\\xc3\\xa3o</span><div\\nclass=\"planos-pagamento__legenda-tooltip\"><p\\nclass=\"planos-pagamento__legenda-descricao\">Certificado de que assistiu o curso e finalizou as atividades</p></div></div></li><li\\nclass=\"planos-pagamento__vantagem\"><div\\nclass=\"planos-pagamento__wrapper planos-pagamento__wrapper--com-descricao\">\\n<span\\nclass=\"planos-pagamento__label\">App para Android e iPhone/iPad</span><div\\nclass=\"planos-pagamento__legenda-tooltip\"><p\\nclass=\"planos-pagamento__legenda-descricao\">Estude at\\xc3\\xa9 mesmo offline atrav\\xc3\\xa9s das nossas apps Android e iOS em smartphones e tablets</p></div></div></li><li\\nclass=\"planos-pagamento__vantagem\"><div\\nclass=\"planos-pagamento__wrapper planos-pagamento__wrapper--com-descricao\">\\n<span\\nclass=\"planos-pagamento__label\">Acesso \\xc3\\xa0 Alura Start</span><div\\nclass=\"planos-pagamento__legenda-tooltip\"><p\\nclass=\"planos-pagamento__legenda-descricao\">Cursos de introdu\\xc3\\xa7\\xc3\\xa3o a tecnologia atrav\\xc3\\xa9s de games, apps e ci\\xc3\\xaancia</p></div></div></li><li\\nclass=\"planos-pagamento__vantagem\"><div\\nclass=\"planos-pagamento__wrapper planos-pagamento__wrapper--com-descricao\">\\n<span\\nclass=\"planos-pagamento__label\">Acesso \\xc3\\xa0 Alura L\\xc3\\xadngua</span><div\\nclass=\"planos-pagamento__legenda-tooltip\"><p\\nclass=\"planos-pagamento__legenda-descricao\">Refor\\xc3\\xa7o online de ingl\\xc3\\xaas e espanhol para aprimorar seu conhecimento</p></div></div></li></ul><div\\nclass=\"planos-pagamento__plano planos-pagamento__plano--premium\"\\ndata-payment-plan  data-payment-plan-price=\"900\"><div\\nclass=\"planos-pagamento__header\"><h4 class=\"planos-pagamento__nome\">Premium</h4></div><ul\\nclass=\"planos-pagamento__vantagens\"><li\\nclass=\"planos-pagamento__vantagem\"><div\\nclass=\"planos-pagamento__wrapper planos-pagamento__wrapper--com-descricao\">\\n<span\\nclass=\"planos-pagamento__label\">1279 cursos</span><div\\nclass=\"planos-pagamento__legenda-tooltip\"><p\\nclass=\"planos-pagamento__legenda-descricao\">Cursos de programa\\xc3\\xa7\\xc3\\xa3o, UX, agilidade, data science, transforma\\xc3\\xa7\\xc3\\xa3o digital, mobile, front-end, marketing e infra.</p></div></div><div\\nclass=\"planos-pagamento__checkmark planos-pagamento__checkmark--ativo\">\\n<svg><use\\nxlink:href=\"/svg,1616501197/planosPagamento#icon-planosPagamento-checked\" /></svg></div></li><li\\nclass=\"planos-pagamento__vantagem\"><div\\nclass=\"planos-pagamento__wrapper planos-pagamento__wrapper--com-descricao\">\\n<span\\nclass=\"planos-pagamento__label\">Certificado de participa\\xc3\\xa7\\xc3\\xa3o</span><div\\nclass=\"planos-pagamento__legenda-tooltip\"><p\\nclass=\"planos-pagamento__legenda-descricao\">Certificado de que assistiu o curso e finalizou as atividades</p></div></div><div\\nclass=\"planos-pagamento__checkmark planos-pagamento__checkmark--ativo\">\\n<svg><use\\nxlink:href=\"/svg,1616501197/planosPagamento#icon-planosPagamento-checked\" /></svg></div></li><li\\nclass=\"planos-pagamento__vantagem\"><div\\nclass=\"planos-pagamento__wrapper planos-pagamento__wrapper--com-descricao\">\\n<span\\nclass=\"planos-pagamento__label\">App para Android e iPhone/iPad</span><div\\nclass=\"planos-pagamento__legenda-tooltip\"><p\\nclass=\"planos-pagamento__legenda-descricao\">Estude at\\xc3\\xa9 mesmo offline atrav\\xc3\\xa9s das nossas apps Android e iOS em smartphones e tablets</p></div></div><div\\nclass=\"planos-pagamento__checkmark planos-pagamento__checkmark--ativo\">\\n<svg><use\\nxlink:href=\"/svg,1616501197/planosPagamento#icon-planosPagamento-checked\" /></svg></div></li><li\\nclass=\"planos-pagamento__vantagem\"><div\\nclass=\"planos-pagamento__wrapper planos-pagamento__wrapper--com-descricao\">\\n<span\\nclass=\"planos-pagamento__label\">Acesso \\xc3\\xa0 Alura Start</span><div\\nclass=\"planos-pagamento__legenda-tooltip\"><p\\nclass=\"planos-pagamento__legenda-descricao\">Cursos de introdu\\xc3\\xa7\\xc3\\xa3o a tecnologia atrav\\xc3\\xa9s de games, apps e ci\\xc3\\xaancia</p></div></div><div\\nclass=\"planos-pagamento__checkmark \">\\n<svg><use\\nxlink:href=\"/svg,1616501197/planosPagamento#icon-planosPagamento-checked\" /></svg></div></li><li\\nclass=\"planos-pagamento__vantagem\"><div\\nclass=\"planos-pagamento__wrapper planos-pagamento__wrapper--com-descricao\">\\n<span\\nclass=\"planos-pagamento__label\">Acesso \\xc3\\xa0 Alura L\\xc3\\xadngua</span><div\\nclass=\"planos-pagamento__legenda-tooltip\"><p\\nclass=\"planos-pagamento__legenda-descricao\">Refor\\xc3\\xa7o online de ingl\\xc3\\xaas e espanhol para aprimorar seu conhecimento</p></div></div><div\\nclass=\"planos-pagamento__checkmark \">\\n<svg><use\\nxlink:href=\"/svg,1616501197/planosPagamento#icon-planosPagamento-checked\" /></svg></div></li></ul><div\\nclass=\"planos-pagamento__precos \">\\n<span\\nclass=\"planos-pagamento__numero-parcelas\">\\n12X\\n</span><div\\nclass=\"planos-pagamento__preco-parcela\\n\">\\n<span\\nclass=\"planos-pagamento__valor-parcela\">R$75</span></div><div\\nclass=\"planos-pagamento__preco-vista\">\\n<span\\nclass=\"planos-pagamento__label-vista\">\\xc3\\xa0 vista</span>\\n<span\\nclass=\"planos-pagamento__valor-vista\">R$900</span></div></div><a\\nclass=\"planos-pagamento__cta\" href=\"/compra/premium/\">\\nMatricule-se\\n</a></div><div\\nclass=\"planos-pagamento__plano planos-pagamento__plano--premiumplus\"\\ndata-payment-plan  data-payment-plan-price=\"1.200\"><div\\nclass=\"planos-pagamento__header\"><h4 class=\"planos-pagamento__nome\">Premium Plus</h4></div><ul\\nclass=\"planos-pagamento__vantagens\"><li\\nclass=\"planos-pagamento__vantagem\"><div\\nclass=\"planos-pagamento__wrapper planos-pagamento__wrapper--com-descricao\">\\n<span\\nclass=\"planos-pagamento__label\">1279 cursos</span><div\\nclass=\"planos-pagamento__legenda-tooltip\"><p\\nclass=\"planos-pagamento__legenda-descricao\">Cursos de programa\\xc3\\xa7\\xc3\\xa3o, UX, agilidade, data science, transforma\\xc3\\xa7\\xc3\\xa3o digital, mobile, front-end, marketing e infra.</p></div></div><div\\nclass=\"planos-pagamento__checkmark planos-pagamento__checkmark--ativo\">\\n<svg><use\\nxlink:href=\"/svg,1616501197/planosPagamento#icon-planosPagamento-checked\" /></svg></div></li><li\\nclass=\"planos-pagamento__vantagem\"><div\\nclass=\"planos-pagamento__wrapper planos-pagamento__wrapper--com-descricao\">\\n<span\\nclass=\"planos-pagamento__label\">Certificado de participa\\xc3\\xa7\\xc3\\xa3o</span><div\\nclass=\"planos-pagamento__legenda-tooltip\"><p\\nclass=\"planos-pagamento__legenda-descricao\">Certificado de que assistiu o curso e finalizou as atividades</p></div></div><div\\nclass=\"planos-pagamento__checkmark planos-pagamento__checkmark--ativo\">\\n<svg><use\\nxlink:href=\"/svg,1616501197/planosPagamento#icon-planosPagamento-checked\" /></svg></div></li><li\\nclass=\"planos-pagamento__vantagem\"><div\\nclass=\"planos-pagamento__wrapper planos-pagamento__wrapper--com-descricao\">\\n<span\\nclass=\"planos-pagamento__label\">App para Android e iPhone/iPad</span><div\\nclass=\"planos-pagamento__legenda-tooltip\"><p\\nclass=\"planos-pagamento__legenda-descricao\">Estude at\\xc3\\xa9 mesmo offline atrav\\xc3\\xa9s das nossas apps Android e iOS em smartphones e tablets</p></div></div><div\\nclass=\"planos-pagamento__checkmark planos-pagamento__checkmark--ativo\">\\n<svg><use\\nxlink:href=\"/svg,1616501197/planosPagamento#icon-planosPagamento-checked\" /></svg></div></li><li\\nclass=\"planos-pagamento__vantagem\"><div\\nclass=\"planos-pagamento__wrapper planos-pagamento__wrapper--com-descricao\">\\n<span\\nclass=\"planos-pagamento__label\">Acesso \\xc3\\xa0 Alura Start</span><div\\nclass=\"planos-pagamento__legenda-tooltip\"><p\\nclass=\"planos-pagamento__legenda-descricao\">Cursos de introdu\\xc3\\xa7\\xc3\\xa3o a tecnologia atrav\\xc3\\xa9s de games, apps e ci\\xc3\\xaancia</p></div></div><div\\nclass=\"planos-pagamento__checkmark planos-pagamento__checkmark--ativo\">\\n<svg><use\\nxlink:href=\"/svg,1616501197/planosPagamento#icon-planosPagamento-checked\" /></svg></div></li><li\\nclass=\"planos-pagamento__vantagem\"><div\\nclass=\"planos-pagamento__wrapper planos-pagamento__wrapper--com-descricao\">\\n<span\\nclass=\"planos-pagamento__label\">Acesso \\xc3\\xa0 Alura L\\xc3\\xadngua</span><div\\nclass=\"planos-pagamento__legenda-tooltip\"><p\\nclass=\"planos-pagamento__legenda-descricao\">Refor\\xc3\\xa7o online de ingl\\xc3\\xaas e espanhol para aprimorar seu conhecimento</p></div></div><div\\nclass=\"planos-pagamento__checkmark \">\\n<svg><use\\nxlink:href=\"/svg,1616501197/planosPagamento#icon-planosPagamento-checked\" /></svg></div></li></ul><div\\nclass=\"planos-pagamento__precos \">\\n<span\\nclass=\"planos-pagamento__numero-parcelas\">\\n12X\\n</span><div\\nclass=\"planos-pagamento__preco-parcela\\n\">\\n<span\\nclass=\"planos-pagamento__valor-parcela\">R$100</span></div><div\\nclass=\"planos-pagamento__preco-vista\">\\n<span\\nclass=\"planos-pagamento__label-vista\">\\xc3\\xa0 vista</span>\\n<span\\nclass=\"planos-pagamento__valor-vista\">R$1.200</span></div></div><a\\nclass=\"planos-pagamento__cta\" href=\"/compra/premiumplus/\">\\nMatricule-se\\n</a></div><div\\nclass=\"planos-pagamento__plano planos-pagamento__plano--max\"\\ndata-payment-plan  data-payment-plan-price=\"1.440\"><div\\nclass=\"planos-pagamento__header\"><h4 class=\"planos-pagamento__nome\">Max</h4></div><ul\\nclass=\"planos-pagamento__vantagens\"><li\\nclass=\"planos-pagamento__vantagem\"><div\\nclass=\"planos-pagamento__wrapper planos-pagamento__wrapper--com-descricao\">\\n<span\\nclass=\"planos-pagamento__label\">1279 cursos</span><div\\nclass=\"planos-pagamento__legenda-tooltip\"><p\\nclass=\"planos-pagamento__legenda-descricao\">Cursos de programa\\xc3\\xa7\\xc3\\xa3o, UX, agilidade, data science, transforma\\xc3\\xa7\\xc3\\xa3o digital, mobile, front-end, marketing e infra.</p></div></div><div\\nclass=\"planos-pagamento__checkmark planos-pagamento__checkmark--ativo\">\\n<svg><use\\nxlink:href=\"/svg,1616501197/planosPagamento#icon-planosPagamento-checked\" /></svg></div></li><li\\nclass=\"planos-pagamento__vantagem\"><div\\nclass=\"planos-pagamento__wrapper planos-pagamento__wrapper--com-descricao\">\\n<span\\nclass=\"planos-pagamento__label\">Certificado de participa\\xc3\\xa7\\xc3\\xa3o</span><div\\nclass=\"planos-pagamento__legenda-tooltip\"><p\\nclass=\"planos-pagamento__legenda-descricao\">Certificado de que assistiu o curso e finalizou as atividades</p></div></div><div\\nclass=\"planos-pagamento__checkmark planos-pagamento__checkmark--ativo\">\\n<svg><use\\nxlink:href=\"/svg,1616501197/planosPagamento#icon-planosPagamento-checked\" /></svg></div></li><li\\nclass=\"planos-pagamento__vantagem\"><div\\nclass=\"planos-pagamento__wrapper planos-pagamento__wrapper--com-descricao\">\\n<span\\nclass=\"planos-pagamento__label\">App para Android e iPhone/iPad</span><div\\nclass=\"planos-pagamento__legenda-tooltip\"><p\\nclass=\"planos-pagamento__legenda-descricao\">Estude at\\xc3\\xa9 mesmo offline atrav\\xc3\\xa9s das nossas apps Android e iOS em smartphones e tablets</p></div></div><div\\nclass=\"planos-pagamento__checkmark planos-pagamento__checkmark--ativo\">\\n<svg><use\\nxlink:href=\"/svg,1616501197/planosPagamento#icon-planosPagamento-checked\" /></svg></div></li><li\\nclass=\"planos-pagamento__vantagem\"><div\\nclass=\"planos-pagamento__wrapper planos-pagamento__wrapper--com-descricao\">\\n<span\\nclass=\"planos-pagamento__label\">Acesso \\xc3\\xa0 Alura Start</span><div\\nclass=\"planos-pagamento__legenda-tooltip\"><p\\nclass=\"planos-pagamento__legenda-descricao\">Cursos de introdu\\xc3\\xa7\\xc3\\xa3o a tecnologia atrav\\xc3\\xa9s de games, apps e ci\\xc3\\xaancia</p></div></div><div\\nclass=\"planos-pagamento__checkmark planos-pagamento__checkmark--ativo\">\\n<svg><use\\nxlink:href=\"/svg,1616501197/planosPagamento#icon-planosPagamento-checked\" /></svg></div></li><li\\nclass=\"planos-pagamento__vantagem\"><div\\nclass=\"planos-pagamento__wrapper planos-pagamento__wrapper--com-descricao\">\\n<span\\nclass=\"planos-pagamento__label\">Acesso \\xc3\\xa0 Alura L\\xc3\\xadngua</span><div\\nclass=\"planos-pagamento__legenda-tooltip\"><p\\nclass=\"planos-pagamento__legenda-descricao\">Refor\\xc3\\xa7o online de ingl\\xc3\\xaas e espanhol para aprimorar seu conhecimento</p></div></div><div\\nclass=\"planos-pagamento__checkmark planos-pagamento__checkmark--ativo\">\\n<svg><use\\nxlink:href=\"/svg,1616501197/planosPagamento#icon-planosPagamento-checked\" /></svg></div></li></ul><div\\nclass=\"planos-pagamento__precos \">\\n<span\\nclass=\"planos-pagamento__numero-parcelas\">\\n12X\\n</span><div\\nclass=\"planos-pagamento__preco-parcela\\n\">\\n<span\\nclass=\"planos-pagamento__valor-parcela\">R$120</span></div><div\\nclass=\"planos-pagamento__preco-vista\">\\n<span\\nclass=\"planos-pagamento__label-vista\">\\xc3\\xa0 vista</span>\\n<span\\nclass=\"planos-pagamento__valor-vista\">R$1.440</span></div></div><a\\nclass=\"planos-pagamento__cta\" href=\"/compra/max/\">\\nMatricule-se\\n</a></div></div></div><a\\nclass=\"planos-pagamento__b2b\" href=\"/empresas\">\\n<span>Conhe\\xc3\\xa7a os <strong>Planos para Empresas</strong></span>\\n</a><div\\nclass=\"planosPagamento-vantagens\"><div\\nclass=\"container\"><div\\nclass=\"planosPagamento-vantagens-vantagem acesso\">\\n<img\\nsrc=\"/assets/img/home/icon-plan-calendar.1617662393.svg\"><p>Acesso completo <br\\n/> durante 1 ano</p></div><div\\nclass=\"planosPagamento-vantagens-vantagem horas\">\\n<img\\nsrc=\"/assets/img/home/icon-plan-moon.1617662393.svg\"><p>Estude 24h/dia <br\\n/> onde e quando quiser</p></div><div\\nclass=\"planosPagamento-vantagens-vantagem novos\">\\n<img\\nsrc=\"/assets/img/home/icon-plan-reload.1617662393.svg\"><p>Novos cursos <br\\n/> todas as semanas</p></div></div></div></section> <script src=\"/assets/js/planosPagamentoOld.1616501197.js\"></script> </main><div\\nid=\"videoModalWindow\"><div\\nclass=\"closeModal\"></div>\\n<iframe\\nid=\"videoIframe\" width=\"100%\" height=\"400\" src=\"\" title=\"YouTube video player\" frameborder=\"0\" allow=\"accelerometer; autoplay; clipboard-write; encrypted-media; gyroscope; picture-in-picture\" allow=\"autoplay; encrypted-media\" allowfullscreen></iframe></div><link\\nrel=\"stylesheet\" href=\"/assets/css/block/footer.1622581180.css\"><footer\\nclass=\"footer\"><div\\nclass=\"container\"><div\\nclass=\"footer-navegue\"><h2 class=\"footer-navegacao-titulo\">Navega\\xc3\\xa7\\xc3\\xa3o</h2><ul\\nclass=\"footer-navegue-lista\"><li\\nclass=\"footer-navegue-lista-link\"><a\\nhref=\"/planos-cursos-online\" gtm-data=\\'footer_primeira_secao_053\\'>Planos</a></li><li\\nclass=\"footer-navegue-lista-link\"><a\\nhref=\"/cursos-online-tecnologia\" gtm-data=\\'footer_primeira_secao_054\\'>Todos os cursos</a></li><li\\nclass=\"footer-navegue-lista-link\"><a\\nhref=\"/cases\">Alura Cases</a></li><li\\nclass=\"footer-navegue-lista-link\"><a\\nhref=\"/guias\">Guia de carreira</a></li><li\\nclass=\"footer-navegue-lista-link\"><a\\nhref=\"/instrutores\" gtm-data=\\'footer_primeira_secao_056\\'>Instrutores</a></li><li\\nclass=\"footer-navegue-lista-link\"><a\\nhref=\"/quero-ser-instrutor\" gtm-data=\\'footer_primeira_secao_057\\'>Como virar instrutor</a></li><li\\nclass=\"footer-navegue-lista-link\"><a\\nhref=\"/artigos\" gtm-data=\\'footer_primeira_secao_058\\'>Artigos</a></li><li\\nclass=\"footer-navegue-lista-link\"><a\\nhref=\"/escolas\">Para Escolas</a></li><li\\nclass=\"footer-navegue-lista-link\"><a\\nhref=\"/podcasts\">Podcasts</a></li><li\\nclass=\"footer-navegue-lista-link\"><a\\nhref=\"/politica-de-privacidade\" gtm-data=\\'footer_primeira_secao_061\\'>Pol\\xc3\\xadtica de Privacidade</a></li><li\\nclass=\"footer-navegue-lista-link\"><a\\nhref=\"/termos-de-uso\" gtm-data=\\'footer_primeira_secao_062\\'>Termos de Uso</a></li><li\\nclass=\"footer-navegue-lista-link\"><a\\nhref=\"/sobre\" gtm-data=\\'footer_primeira_secao_063\\'>Sobre n\\xc3\\xb3s</a></li><li\\nclass=\"footer-navegue-lista-link\"><a\\nhref=\"/como-funciona\" gtm-data=\\'footer_primeira_secao_064\\'>Como Funciona</a></li><li\\nclass=\"footer-navegue-lista-link\"><a\\nhref=\"/dev-em-t\" gtm-data=\\'footer_primeira_secao_065\\'>Dev em &lt;T&gt;</a></li><li\\nclass=\"footer-navegue-lista-link\"><a\\nhref=\"https://suporte.alura.com.br/\" gtm-data=\\'footer_primeira_secao_066\\'>Perguntas frequentes</a></li><li\\nclass=\"footer-navegue-lista-link\"><a\\nhref=\"https://status.alura.com.br/\">Status</a></li></ul><h2 class=\"footer-navegacao-titulo\">Fale com a gente</h2><ul\\nclass=\"footer-navegue-lista\"><li\\nclass=\"footer-navegue-lista-link whatsapp-icon\"><a\\nhref=\"https://api.whatsapp.com/send?phone=5511984510286\">Whatsapp</a></li><li\\nclass=\"footer-navegue-lista-link\"><a\\nhref=\"https://www.alura.com.br/contato\">Email e telefone</a></li></ul></div><div\\nclass=\"footer-card-hotLinks social-mobile\"><p\\nclass=\"footer-navegue-lista-link --description\">\\n<span\\nclass=\"footer-empresa-item\">AOVS Sistemas de Inform\\xc3\\xa1tica S.A</span>\\n<span\\nclass=\"footer-empresa-item\">CNPJ 05.555.382/0001-33</span></p><h2 class=\"footer-card-hotLinks-titulo\">Nossas redes e apps</h2><div\\nclass=\"footer-card-hotLinks-info footer-card-redes\">\\n<a\\nhref=\"https://www.youtube.com/alura\" gtm-data=\\'footer_primeira_secao_065\\' class=\"footer-card-hotLinks-link\" target=\"_blank\" rel=\"noopener\" title=\"YouTube da Alura\">\\n<svg\\nclass=\"footer-card-hotLinks-icon footer-card-hotLinks-youtube\"><use\\nxlink:href=\"/svg,1628787196/footer#icon-footer-youtube\"/></svg>\\n<span>YouTube</span>\\n</a>\\n<a\\nhref=\"https://www.facebook.com/AluraCursosOnline/\" gtm-data=\\'footer_primeira_secao_066\\' class=\"footer-card-hotLinks-link\" target=\"_blank\" rel=\"noopener\" title=\"Facebook da Alura\">\\n<svg\\nclass=\"footer-card-hotLinks-icon footer-card-hotLinks-facebook\"><use\\nxlink:href=\"/svg,1628787196/footer#icon-footer-facebook\"/></svg>\\n<span>Facebook</span>\\n</a>\\n<a\\nhref=\"https://twitter.com/aluraonline\" gtm-data=\\'footer_primeira_secao_067\\' class=\"footer-card-hotLinks-link\" target=\"_blank\" rel=\"noopener\" title=\"Twitter da Alura\">\\n<svg\\nclass=\"footer-card-hotLinks-icon footer-card-hotLinks-twitter\"><use\\nxlink:href=\"/svg,1628787196/footer#icon-footer-twitter\"/></svg>\\n<span>Twitter</span>\\n</a>\\n<a\\nhref=\"https://instagram.com/aluraonline\" class=\"footer-card-hotLinks-link\" gtm-data=\\'footer_primeira_secao_073\\' target=\"_blank\" rel=\"noopener\" title=\"Instagram da Alura\">\\n<svg\\nclass=\"footer-card-hotLinks-icon footer-card-hotLinks-instagram\"><use\\nxlink:href=\"/svg,1628787196/footer#icon-footer-instagram\"/></svg>\\n<span>Instagram</span>\\n</a></div><div\\nclass=\"footer-card-hotLinks-info footer-card-mobile\">\\n<a\\nhref=\"https://play.google.com/store/apps/details?id=br.com.alura.mobi&hl=pt_BR\" gtm-data=\\'footer_primeira_secao_069\\' class=\"footer-card-hotLinks-link\" target=\"_blank\" rel=\"noopener\" title=\"Baixar na Google Play Store\">\\n<svg\\nclass=\"footer-card-hotLinks-icon footer-card-hotLinks-mobile\"><use\\nxlink:href=\"/svg,1628787196/footer#icon-footer-googleplay\"/></svg>\\n<span>Google Play Store</span>\\n</a>\\n<a\\nhref=\"https://itunes.apple.com/br/app/alura-cursos-online/id1225776635\" gtm-data=\\'footer_primeira_secao_070\\' class=\"footer-card-hotLinks-link\" target=\"_blank\" rel=\"noopener\" title=\"Baixar na AppStore\">\\n<svg\\nclass=\"footer-card-hotLinks-icon footer-card-hotLinks-mobile\"><use\\nxlink:href=\"/svg,1628787196/footer#icon-footer-appstore\"/></svg>\\n<span>AppStore</span>\\n</a></div></div><div\\nclass=\"footer-column footer-column-cards\"><link\\nrel=\"stylesheet\" href=\"/assets/css/block/activeCampaignNewsletterForm.1618510781.css\"><div\\nclass=\"newsletter\"><h2 class=\"newsletter-titulo\">Novidades e Lan\\xc3\\xa7amentos</h2><form\\nid=\"newsletter-form__activecampaign\" class=\"newsletter-form\" action=\"/api/activecampaign\" method=\"POST\"><input\\ntype=\"hidden\" name=\"list\" value=\"14\">\\n<input\\ntype=\"hidden\" name=\"retorno\" value=\"/newsletter-cadastrado\"><label\\nfor=\"email-newsletter\">Email</label>\\n<input\\ntype=\"email\" name=\"email\" class=\"newsletter-input\" placeholder=\"Seu e-mail\" id=\"email-newsletter\"><button\\ntype=\"submit\" class=\"newsletter-button buttonForm\">Receber</button>\\n<span\\nclass=\"newsletter-message-error newsletter-message-error--disabled\">N\\xc3\\xa3o foi poss\\xc3\\xadvel assinar a newsletter</span></form></div> <script>(function() {\\n            function criaCampo(nome, valor, form) {\\n                if (valor === null) return;\\n\\n                var input = document.createElement(\\'input\\');\\n                input.type = \\'hidden\\';\\n                input.name = nome;\\n                input.value = valor;\\n\\n                form.appendChild(input);\\n            }\\n\\n            function param(name) {\\n                var url = location.href;\\n                name = name.replace(/[\\\\[]/,\"\\\\\\\\\\\\[\").replace(/[\\\\]]/,\"\\\\\\\\\\\\]\");\\n                var regexS = \"[\\\\\\\\?&]\"+name+\"=([^&#]*)\";\\n                var regex = new RegExp( regexS );\\n                var results = regex.exec( url );\\n                return results == null ? null : results[1];\\n            }\\n\\n            function showNewsletterError() {\\n                document.querySelector(\\'.newsletter-message-error\\').classList.remove(\\'newsletter-message-error--disabled\\');\\n            }\\n\\n            function valida() {\\n                var isValid = true;\\n                var inputList = document.querySelector(\\'#newsletter-form__activecampaign\\')[\\'list\\'];\\n                var inputEmail = document.querySelector(\\'#newsletter-form__activecampaign\\')[\\'email\\'];\\n\\n                isValid = validaEmail(inputEmail.value) && validaList(inputList.value);\\n\\n                if(!isValid) {\\n                    showNewsletterError();\\n                }\\n\\n                return isValid;\\n            }\\n\\n            function validaList(list) {\\n                return list != \\'-1\\';\\n            }\\n\\n            function validaEmail(email) {\\n                var re = /^(([^<>()\\\\[\\\\]\\\\\\\\.,;:\\\\s@\"]+(\\\\.[^<>()\\\\[\\\\]\\\\\\\\.,;:\\\\s@\"]+)*)|(\".+\"))@((\\\\[[0-9]{1,3}\\\\.[0-9]{1,3}\\\\.[0-9]{1,3}\\\\.[0-9]{1,3}])|(([a-zA-Z\\\\-0-9]+\\\\.)+[a-zA-Z]{2,}))$/;\\n                return re.test(email);\\n            }\\n\\n            var form = document.querySelector(\\'#newsletter-form__activecampaign\\');\\n            if(!form) return;\\n\\n            criaCampo(\\'utm_source\\', param(\\'utm_source\\'), form);\\n            criaCampo(\\'utm_campaign\\', param(\\'utm_campaign\\'), form);\\n            criaCampo(\\'utm_medium\\', param(\\'utm_medium\\'), form);\\n            criaCampo(\\'utm_term\\', param(\\'utm_term\\'), form);\\n            criaCampo(\\'utm_content\\', param(\\'utm_content\\'), form);\\n            criaCampo(\\'full_url\\', location.href, form);\\n            criaCampo(\\'user_agent\\', navigator.userAgent, form);\\n            criaCampo(\\'referral\\', document.referrer, form);\\n\\n            form.onsubmit = valida;\\n\\n        })();</script> <div\\nclass=\"footer-navegue empresa-governo\"><h2 class=\"footer-navegacao-titulo\">Alura na sua empresa</h2><ul\\nclass=\"footer-navegue-lista\"><li\\nclass=\"footer-navegue-lista-link --description\">Desenvolva seu time com apoio da nossa solu\\xc3\\xa7\\xc3\\xa3o</li><li\\nclass=\"footer-navegue-lista-link --description\"><a\\nhref=\"https://www.alura.com.br/empresas\">Conhe\\xc3\\xa7a mais</a></li></ul><h2 class=\"footer-navegacao-titulo\">Comunidade</h2><ul\\nclass=\"footer-navegue-lista\"><li\\nclass=\"footer-navegue-lista-link\"><a\\nhref=\"https://www.scuba.dev.br/\" gtm-data=\"footer_primeira_secao_067\">Scuba Dev</a></li><li\\nclass=\"footer-navegue-lista-link\"><a\\nhref=\"/imersao\" gtm-data=\"footer_primeira_secao_068\">Imers\\xc3\\xb5es</a></li><li\\nclass=\"footer-navegue-lista-link\"><a\\nhref=\"/depoimentos\" gtm-data=\"footer_primeira_secao_069\">Depoimentos</a></li><li\\nclass=\"footer-navegue-lista-link\"><a\\nhref=\"/instrutores\" gtm-data=\"footer_primeira_secao_061\">Nossos Instrutores</a></li></ul><h2 class=\"footer-navegacao-titulo\">Parceiros</h2><ul\\nclass=\"footer-navegue-lista\"><li\\nclass=\"footer-navegue-lista-link --description\">\\n<img\\nsrc=\"/assets/img/footer/scale-up-endeavor.1617662393.png\" alt=\"Programa de acelera\\xc3\\xa7\\xc3\\xa3o Scale-Up Endeavor\" class=\"footer-navegue-lista__image\"></li><li\\nclass=\"footer-navegue-lista-link --description --partners\">\\nN\\xc3\\xb3s, da Alura, somos uma das Scale-Ups selecionadas pela Endeavor, programa de acelera\\xc3\\xa7\\xc3\\xa3o das empresas que mais crescem no pa\\xc3\\xads.</li><li\\nclass=\"footer-navegue-lista-link --description\">\\n<img\\nsrc=\"/assets/img/footer/google-alumni-2021.1628787196.png\" alt=\"Growth Academy 2021 do Google For Startups\" class=\"footer-navegue-lista__image\"></li><li\\nclass=\"footer-navegue-lista-link --description --partners\">\\nFomos uma das 7 startups selecionadas pelo Google For Startups a participar do programa Growth Academy em 2021.</li></ul></div></div><div\\nclass=\"footer-info\"><div\\nclass=\"footer-logos\">\\n<a\\nclass=\"footer-logos-home\" gtm-data=\\'footer_primeira_secao_050\\' href=\"/\">\\n<img\\nsrc=\"/assets/img/home/alura-logo.1616501197.svg\" alt=\"Alura\" class=\"footer-logo\">\\n</a></div><div\\nclass=\"footer-card-hotLinks social-desktop\"><p\\nclass=\"footer-navegue-lista-link --description\">\\n<span\\nclass=\"footer-empresa-item\">AOVS Sistemas de Inform\\xc3\\xa1tica S.A</span>\\n<span\\nclass=\"footer-empresa-item\">CNPJ 05.555.382/0001-33</span></p><h2 class=\"footer-card-hotLinks-titulo\">Nossas redes e apps</h2><div\\nclass=\"footer-card-hotLinks-info footer-card-redes\">\\n<a\\nhref=\"https://www.youtube.com/alura\" gtm-data=\\'footer_primeira_secao_065\\' class=\"footer-card-hotLinks-link\" target=\"_blank\" rel=\"noopener\" title=\"YouTube da Alura\">\\n<svg\\nclass=\"footer-card-hotLinks-icon footer-card-hotLinks-youtube\"><use\\nxlink:href=\"/svg,1628787196/footer#icon-footer-youtube\"/></svg>\\n<span>YouTube</span>\\n</a>\\n<a\\nhref=\"https://www.facebook.com/AluraCursosOnline/\" gtm-data=\\'footer_primeira_secao_066\\' class=\"footer-card-hotLinks-link\" target=\"_blank\" rel=\"noopener\" title=\"Facebook da Alura\">\\n<svg\\nclass=\"footer-card-hotLinks-icon footer-card-hotLinks-facebook\"><use\\nxlink:href=\"/svg,1628787196/footer#icon-footer-facebook\"/></svg>\\n<span>Facebook</span>\\n</a>\\n<a\\nhref=\"https://twitter.com/aluraonline\" gtm-data=\\'footer_primeira_secao_067\\' class=\"footer-card-hotLinks-link\" target=\"_blank\" rel=\"noopener\" title=\"Twitter da Alura\">\\n<svg\\nclass=\"footer-card-hotLinks-icon footer-card-hotLinks-twitter\"><use\\nxlink:href=\"/svg,1628787196/footer#icon-footer-twitter\"/></svg>\\n<span>Twitter</span>\\n</a>\\n<a\\nhref=\"https://instagram.com/aluraonline\" class=\"footer-card-hotLinks-link\" gtm-data=\\'footer_primeira_secao_073\\' target=\"_blank\" rel=\"noopener\" title=\"Instagram da Alura\">\\n<svg\\nclass=\"footer-card-hotLinks-icon footer-card-hotLinks-instagram\"><use\\nxlink:href=\"/svg,1628787196/footer#icon-footer-instagram\"/></svg>\\n<span>Instagram</span>\\n</a></div><div\\nclass=\"footer-card-hotLinks-info footer-card-mobile\">\\n<a\\nhref=\"https://play.google.com/store/apps/details?id=br.com.alura.mobi&hl=pt_BR\" gtm-data=\\'footer_primeira_secao_069\\' class=\"footer-card-hotLinks-link\" target=\"_blank\" rel=\"noopener\" title=\"Baixar na Google Play Store\">\\n<svg\\nclass=\"footer-card-hotLinks-icon footer-card-hotLinks-mobile\"><use\\nxlink:href=\"/svg,1628787196/footer#icon-footer-googleplay\"/></svg>\\n<span>Google Play Store</span>\\n</a>\\n<a\\nhref=\"https://itunes.apple.com/br/app/alura-cursos-online/id1225776635\" gtm-data=\\'footer_primeira_secao_070\\' class=\"footer-card-hotLinks-link\" target=\"_blank\" rel=\"noopener\" title=\"Baixar na AppStore\">\\n<svg\\nclass=\"footer-card-hotLinks-icon footer-card-hotLinks-mobile\"><use\\nxlink:href=\"/svg,1628787196/footer#icon-footer-appstore\"/></svg>\\n<span>AppStore</span>\\n</a></div></div></div></div></footer><section\\nclass=\"footer_categorias-formacoes\"><div\\nclass=\"container\"><div\\nclass=\"footer_categorias_wrapper\"><h2 class=\"footer_categorias_title\">Cursos</h2><div\\nclass=\"footer_categorias_categorias footer-navegue-lista-link\"><div\\nclass=\"footer_categorias_categoria\">\\n<a\\nhref=\"/cursos-online-programacao\">Cursos de Programa\\xc3\\xa7\\xc3\\xa3o</a><div\\nclass=\"footer_categorias_subcategorias\">\\n<a\\nhref=\"/cursos-online-programacao/logica\">\\nL\\xc3\\xb3gica                                    </a>\\n|                                                                    <a\\nhref=\"/cursos-online-programacao/python\">\\nPython                                    </a>\\n|                                                                    <a\\nhref=\"/cursos-online-programacao/php\">\\nPHP                                    </a>\\n|                                                                    <a\\nhref=\"/cursos-online-programacao/java\">\\nJava                                    </a>\\n|                                                                    <a\\nhref=\"/cursos-online-programacao/dotnet\">\\n.NET                                    </a>\\n|                                                                    <a\\nhref=\"/cursos-online-programacao/node-js\">\\nNode JS                                    </a>\\n|                                                                    <a\\nhref=\"/cursos-online-programacao/linguagem-c\">\\nC                                    </a>\\n|                                                                    <a\\nhref=\"/cursos-online-programacao/computacao\">\\nComputa\\xc3\\xa7\\xc3\\xa3o                                    </a>\\n|                                                                    <a\\nhref=\"/cursos-online-programacao/jogos\">\\nJogos                                    </a>\\n|                                                                    <a\\nhref=\"/cursos-online-programacao/internet-das-coisas\">\\nIoT                                    </a></div></div><div\\nclass=\"footer_categorias_categoria\">\\n<a\\nhref=\"/cursos-online-front-end\">Cursos de Front-end</a><div\\nclass=\"footer_categorias_subcategorias\">\\n<a\\nhref=\"/cursos-online-front-end/front-end\">\\nHTML, CSS                                    </a>\\n|                                                                    <a\\nhref=\"/cursos-online-front-end/reactjs\">\\nReact                                    </a>\\n|                                                                    <a\\nhref=\"/cursos-online-front-end/angular\">\\nAngular                                    </a>\\n|                                                                    <a\\nhref=\"/cursos-online-front-end/javascript\">\\nJavaScript                                    </a>\\n|                                                                    <a\\nhref=\"/cursos-online-front-end/jquery\">\\njQuery                                    </a></div></div><div\\nclass=\"footer_categorias_categoria\">\\n<a\\nhref=\"/cursos-online-data-science\">Cursos de Data Science</a><div\\nclass=\"footer_categorias_subcategorias\">\\n<a\\nhref=\"/cursos-online-data-science/data-science\">\\nCi\\xc3\\xaancia de dados                                    </a>\\n|                                                                    <a\\nhref=\"/cursos-online-data-science/business-intelligence\">\\nBI                                    </a>\\n|                                                                    <a\\nhref=\"/cursos-online-data-science/sql\">\\nSQL e Banco de Dados                                    </a>\\n|                                                                    <a\\nhref=\"/cursos-online-data-science/excel\">\\nExcel                                    </a>\\n|                                                                    <a\\nhref=\"/cursos-online-data-science/machine-learning\">\\nMachine Learning                                    </a>\\n|                                                                    <a\\nhref=\"/cursos-online-data-science/nosql\">\\nNoSQL                                    </a>\\n|                                                                    <a\\nhref=\"/cursos-online-data-science/estatistica\">\\nEstat\\xc3\\xadstica                                    </a></div></div><div\\nclass=\"footer_categorias_categoria\">\\n<a\\nhref=\"/cursos-online-devops\">Cursos de DevOps</a><div\\nclass=\"footer_categorias_subcategorias\">\\n<a\\nhref=\"/cursos-online-devops/aws\">\\nAWS                                    </a>\\n|                                                                    <a\\nhref=\"/cursos-online-devops/azure\">\\nAzure                                    </a>\\n|                                                                    <a\\nhref=\"/cursos-online-devops/containers\">\\nDocker                                    </a>\\n|                                                                    <a\\nhref=\"/cursos-online-devops/seguranca\">\\nSeguran\\xc3\\xa7a                                    </a>\\n|                                                                    <a\\nhref=\"/cursos-online-devops/infraestrutura-como-codigo\">\\nIaC                                    </a>\\n|                                                                    <a\\nhref=\"/cursos-online-devops/linux-comandos-e-processos\">\\nLinux                                    </a></div></div><div\\nclass=\"footer_categorias_categoria\">\\n<a\\nhref=\"/cursos-online-design-ux\">Cursos de UX & Design</a><div\\nclass=\"footer_categorias_subcategorias\">\\n<a\\nhref=\"/cursos-online-design-ux/wwww\">\\nPhotoshop e Illustrator                                    </a>\\n|                                                                    <a\\nhref=\"/cursos-online-design-ux/ux\">\\nUsabilidade e UX                                    </a>\\n|                                                                    <a\\nhref=\"/cursos-online-design-ux/video\">\\nV\\xc3\\xaddeo e Motion                                    </a>\\n|                                                                    <a\\nhref=\"/cursos-online-design-ux/3d\">\\n3D                                    </a></div></div><div\\nclass=\"footer_categorias_categoria\">\\n<a\\nhref=\"/cursos-online-mobile\">Cursos de Mobile</a><div\\nclass=\"footer_categorias_subcategorias\">\\n<a\\nhref=\"/cursos-online-mobile/react-native\">\\nReact Native                                    </a>\\n|                                                                    <a\\nhref=\"/cursos-online-mobile/flutter\">\\nFlutter                                    </a>\\n|                                                                    <a\\nhref=\"/cursos-online-mobile/ios\">\\niOS e Swift                                    </a>\\n|                                                                    <a\\nhref=\"/cursos-online-mobile/android\">\\nAndroid, Kotlin                                    </a>\\n|                                                                    <a\\nhref=\"/cursos-online-mobile/jogos\">\\nJogos                                    </a></div></div><div\\nclass=\"footer_categorias_categoria\">\\n<a\\nhref=\"/cursos-online-inovacao-gestao\">Cursos de Inova\\xc3\\xa7\\xc3\\xa3o & Gest\\xc3\\xa3o</a><div\\nclass=\"footer_categorias_subcategorias\">\\n<a\\nhref=\"/cursos-online-inovacao-gestao/agilidade\">\\nM\\xc3\\xa9todos \\xc3\\x81geis                                    </a>\\n|                                                                    <a\\nhref=\"/cursos-online-inovacao-gestao/softskills-carreira\">\\nSoftskills                                    </a>\\n|                                                                    <a\\nhref=\"/cursos-online-inovacao-gestao/gestao-corporativa\">\\nLideran\\xc3\\xa7a e Gest\\xc3\\xa3o                                    </a>\\n|                                                                    <a\\nhref=\"/cursos-online-inovacao-gestao/startup-empreendedorismo\">\\nStartups                                    </a>\\n|                                                                    <a\\nhref=\"/cursos-online-inovacao-gestao/vendas\">\\nVendas                                    </a></div></div></div></div></div></section><style>@media not all and (min-width: 1000px){\\n\\t\\t.grupoCaelum{\\n\\t\\t\\tdisplay: none;\\n\\t\\t}\\n\\t}\\n\\n\\t.grupoCaelum{\\n\\t\\tbackground: #fff;\\n\\t\\theight: 400px;\\n\\t\\tborder-top: 1px solid #EBEBEE;\\n\\t}\\n\\n\\t.grupoCaelum .container{\\n\\t\\tdisplay: flex;\\n\\t\\tjustify-content: space-between;\\n\\t\\talign-items: flex-start;\\n\\t\\tpadding-top: 0;\\n\\t\\tpadding-bottom: 0;\\n\\t\\theight: 100%;\\n\\t}\\n\\n\\t\\t.grupoCaelum-list{\\n\\t\\t\\tdisplay: flex;\\n\\t\\t\\tlist-style: none;\\n\\t\\t\\twidth: 60%;\\n\\t\\t\\tjustify-content: space-between;\\n\\t\\t\\talign-items: flex-start;\\n\\t\\t\\tmargin-top: 20px;\\n\\t\\t}\\n\\n\\t\\t.grupoCaelum-title{\\n\\t\\t\\twidth: 20%;\\n\\t\\t}\\n\\n\\t\\t.grupoCaelum-column {\\n\\t\\t\\tdisplay: inline-block;\\n\\t\\t\\tpadding-left: 19px;\\n\\t\\t\\twidth: 240px;\\n\\t\\t\\theight: 350px;\\n\\t\\t\\tmin-width: 160px;\\n\\t\\t}\\n\\t\\t\\t.grupoCaelum-column-title {\\n\\t\\t\\t\\tfont-size: 10px;\\n\\t\\t\\t\\tcolor: #d7e0e5;\\n\\t\\t\\t\\ttext-transform: uppercase;\\n\\t\\t\\t\\tfont-weight: 600;\\n\\t\\t\\t\\tmargin-bottom: 19px;\\n\\t\\t\\t}\\n\\n\\t\\t\\t.grupoCaelum-column-list {\\n\\t\\t\\t\\tlist-style: none;\\n\\t\\t\\t}\\n\\n\\t\\t\\t.column-item-title {\\n\\t\\t\\t\\tfont-size: 11px;\\n\\t\\t\\t\\ttext-align: center;\\n\\t\\t\\t\\tvertical-align: middle;\\n\\t\\t\\t\\tdisplay: inline-block;\\n\\t\\t\\t\\tmargin-left: 6.5px;\\n\\t\\t\\t}\\n\\n\\t\\t.grupoCaelum-column:not(:first-child) {\\n\\t\\t\\tborder-left: solid 1px #e3e9ed;\\n\\t\\t}\\n\\n\\t\\t.grupoCaelum-title {\\n\\t\\t\\tdisplay: inline-block;\\n\\t\\t\\ttext-decoration: none;\\n\\t\\t\\tcolor: #657176;\\n\\t\\t\\tletter-spacing: normal;\\n\\t\\t\\tfont-size: 18px;\\n\\t\\t\\tmargin-top: 54px;\\n\\t\\t}\\n\\n\\t.column-item-logo {\\n\\t\\twidth: 30px;\\n\\t\\theight: 30px;\\n\\t\\tvertical-align: middle;\\n\\t\\tdisplay: inline-block;\\n\\t}\\n\\n\\t.column-item {\\n\\t\\tmargin-bottom: 17px;\\n\\t}\\n\\n\\t.column-item a{\\n\\t\\ttext-decoration: none;\\n\\t\\tcolor: #657176;\\n\\t}</style><footer\\nclass=\"caelum-footer\"><div\\nclass=\"grupoCaelum\"><div\\nclass=\"container\"><p\\nclass=\"grupoCaelum-title\">Grupo Alura</p><ul\\nclass=\"grupoCaelum-list\"><li\\nclass=\"grupoCaelum-column\"><p\\nclass=\"grupoCaelum-column-title\">Educa\\xc3\\xa7\\xc3\\xa3o</p><ul\\nclass=\"grupoCaelum-column-list\"><li\\nclass=\"column-item\">\\n<a\\ntarget=\"_blank\" href=\"https://www.caelum.com.br\">\\n<svg\\nclass=\"column-item-logo\">\\n<use\\nxlink:href=\"/svg,1618405973/caelumFooter#icon-caelumFooter-novo-logo-caelum\">\\n<span\\nclass=\"column-item-title\">Caelum</span>\\n</svg>\\n</a></li><li\\nclass=\"column-item\">\\n<a\\ntarget=\"_blank\" href=\"https://www.casadocodigo.com.br\">\\n<svg\\nclass=\"column-item-logo\"><use\\nxlink:href=\"/svg,1618405973/caelumFooter#icon-caelumFooter-cdc\"><span\\nclass=\"column-item-title\">Casa do C\\xc3\\xb3digo</span></svg>\\n</a></li></ul></li><li\\nclass=\"grupoCaelum-column\"><p\\nclass=\"grupoCaelum-column-title\">Educa\\xc3\\xa7\\xc3\\xa3o Online</p><ul\\nclass=\"grupoCaelum-column-list\"><li\\nclass=\"column-item\">\\n<a\\ntarget=\"_blank\" href=\"https://www.alura.com.br\">\\n<svg\\nclass=\"column-item-logo\"><use\\nxlink:href=\"/svg,1618405973/caelumFooter#icon-caelumFooter-alura\"><span\\nclass=\"column-item-title\">Alura</span></svg>\\n</a></li><li\\nclass=\"column-item\">\\n<a\\ntarget=\"_blank\" href=\"https://www.alura.com.br/empresas\">\\n<svg\\nclass=\"column-item-logo\" style=\"fill: white;\"><use\\nxlink:href=\"/svg,1618405973/caelumFooter#icon-caelumFooter-alura\"><span\\nclass=\"column-item-title\">Alura Para Empresas</span></svg>\\n</a></li><li\\nclass=\"column-item\">\\n<a\\ntarget=\"_blank\" href=\"https://www.aluracursos.com\">\\n<svg\\nclass=\"column-item-logo\"><use\\nxlink:href=\"/svg,1618405973/caelumFooter#icon-caelumFooter-alura\"><span\\nclass=\"column-item-title\">Alura LATAM</span></svg>\\n</a></li><li\\nclass=\"column-item\">\\n<a\\ntarget=\"_blank\" href=\"https://www.alurastart.com.br\">\\n<svg\\nclass=\"column-item-logo\"><use\\nxlink:href=\"/svg,1618405973/caelumFooter#icon-caelumFooter-alurastart\"><span\\nclass=\"column-item-title\">Alura Start</span></svg>\\n</a></li><li\\nclass=\"column-item\">\\n<a\\ntarget=\"_blank\" href=\"https://www.musicdot.com.br\">\\n<svg\\nclass=\"column-item-logo\"><use\\nxlink:href=\"/svg,1618405973/caelumFooter#icon-caelumFooter-musicdot\"><span\\nclass=\"column-item-title\">MusicDot</span></svg>\\n</a></li><li\\nclass=\"column-item\">\\n<a\\ntarget=\"_blank\" href=\"https://www.aluralingua.com.br\">\\n<svg\\nclass=\"column-item-logo\"><use\\nxlink:href=\"/svg,1618405973/caelumFooter#icon-caelumFooter-aluralingua\"><span\\nclass=\"column-item-title\">Alura L\\xc3\\xadngua</span></svg>\\n</a></li><li\\nclass=\"column-item\">\\n<a\\ntarget=\"_blank\" style=\"fill: #657176\" href=\"https://www.cursospm3.com.br/\">\\n<svg\\nclass=\"column-item-logo\"><use\\nxlink:href=\"/svg,1618405973/caelumFooter#icon-caelumFooter-pm3\"><span\\nclass=\"column-item-title\">PM3 - Cursos de Produto</span></svg>\\n</a></li></ul></li><li\\nclass=\"grupoCaelum-column\"><p\\nclass=\"grupoCaelum-column-title\">Comunidade</p><ul\\nclass=\"grupoCaelum-column-list\"><li\\nclass=\"column-item\">\\n<a\\ntarget=\"_blank\" href=\"https://hipsters.tech\">\\n<svg\\nclass=\"column-item-logo\"><use\\nxlink:href=\"/svg,1618405973/caelumFooter#icon-caelumFooter-hipsterstech\"><span\\nclass=\"column-item-title\">Hipsters ponto Tech</span></svg>\\n</a></li><li\\nclass=\"column-item\">\\n<a\\ntarget=\"_blank\" href=\"https://scuba.dev.br\">\\n<svg\\nclass=\"column-item-logo\" style=\"fill: #657176\"><use\\nxlink:href=\"/svg,1618405973/caelumFooter#icon-caelumFooter-scubadev\"><span\\nclass=\"column-item-title\">Scuba Dev</span></svg>\\n</a></li><li\\nclass=\"column-item\">\\n<a\\ntarget=\"_blank\" href=\"https://layerspontotech.com.br\">\\n<svg\\nclass=\"column-item-logo\"><use\\nxlink:href=\"/svg,1618405973/caelumFooter#icon-caelumFooter-layerstech\"><span\\nclass=\"column-item-title\">Layers ponto Tech</span></svg>\\n</a></li><li\\nclass=\"column-item\">\\n<a\\ntarget=\"_blank\" href=\"https://likeaboss.com.br\">\\n<svg\\nclass=\"column-item-logo\" style=\"fill: #657176\"><use\\nxlink:href=\"/svg,1618405973/caelumFooter#icon-caelumFooter-likeaboss\"><span\\nclass=\"column-item-title\">Like a Boss</span></svg>\\n</a></li><li\\nclass=\"column-item\">\\n<a\\ntarget=\"_blank\" href=\"https://www.carreirasemfronteiras.com.br\">\\n<svg\\nclass=\"column-item-logo\" style=\"fill: #657176\"><use\\nxlink:href=\"/svg,1618405973/caelumFooter#icon-caelumFooter-carreira-sem-fronteiras\"><span\\nclass=\"column-item-title\">Carreira sem Fronteiras</span></svg>\\n</a></li><li\\nclass=\"column-item\">\\n<a\\ntarget=\"_blank\" href=\"https://hipsters.jobs\">\\n<svg\\nclass=\"column-item-logo\"><use\\nxlink:href=\"/svg,1618405973/caelumFooter#icon-caelumFooter-hipstersjobs\"><span\\nclass=\"column-item-title\">Hipsters ponto Jobs</span></svg>\\n</a></li><li\\nclass=\"column-item\">\\n<a\\ntarget=\"_blank\" href=\"https://www.guj.com.br\">\\n<svg\\nclass=\"column-item-logo\"><use\\nxlink:href=\"/svg,1618405973/caelumFooter#icon-caelumFooter-guj\"><span\\nclass=\"column-item-title\">GUJ</span></svg>\\n</a></li></ul></li></ul></div></div></footer> <script>(function(){\\n    var match = location.pathname.match(/\\\\/(bf-|black-?friday\\\\/)([^\\\\/]+)/);\\n    if (match != null) {\\n        var links = document.querySelectorAll(\\'a[href]\\');\\n        for (var i = 0; i < links.length; i++) {\\n            var href = links[i].getAttribute(\\'href\\');\\n            if (href[0] === \\'/\\') {\\n                links[i].setAttribute(\\'href\\', \\'/bf-\\' + match[2] + href);\\n            }\\n        }\\n    }\\n})();</script> <script src=\"https://ajax.googleapis.com/ajax/libs/jquery/3.6.0/jquery.min.js\"></script> <script src=\"/assets/js/lib/svg4everybody.min.1616501197.js\" async></script> <script src=\"/assets/js/header/menu.1616501197.js\" async></script> <script src=\"/assets/js/header/busca.1616501197.js\" async></script> <script src=\"/assets/js/header/cursos.1617821052.js\" async></script> <script src=\"/assets/js/detect.1616501197.js\" async></script> <script src=\"/assets/js/video.1616501197.js\" async></script> <script src=\"/assets/js/Countdown.1616501197.js\" async></script> <script>var userId = (document.cookie.match(\\'alura.userId=([^;]+)\\')||[null,null])[1];\\n  window.ga=window.ga||function(){(ga.q=ga.q||[]).push(arguments)};ga.l=+new Date;\\n\\n  \\tga(\\'create\\', \\'UA-42101548-1\\', \\'alura.com.br\\', \\'tracker0\\', {\\'siteSpeedSampleRate\\': 50});\\n\\n\\tif (userId) ga(\\'tracker0.set\\', \\'userId\\', userId);\\n\\n\\tga(\\'tracker0.require\\', \\'displayfeatures\\');\\n\\tga(\\'tracker0.send\\', \\'pageview\\');\\n  \\tga(\\'create\\', \\'UA-42101548-9\\', \\'alura.com.br\\', \\'tracker1\\', {\\'siteSpeedSampleRate\\': 50});\\n\\n\\tif (userId) ga(\\'tracker1.set\\', \\'userId\\', userId);\\n\\n\\tga(\\'tracker1.require\\', \\'displayfeatures\\');\\n\\tga(\\'tracker1.send\\', \\'pageview\\');</script> <script async src=\\'//www.google-analytics.com/analytics.js\\'></script> <script src=\"/assets/js/footer/footer.1616501197.js\" async></script> <script src=\"//cdnjs.cloudflare.com/ajax/libs/highlight.js/10.4.0/highlight.min.js\"></script> <script>hljs.initHighlightingOnLoad();</script> <script src=\"https://static.criteo.net/js/ld/ld.js\" async></script> <script>function criteoPush(event, data){\\n\\t\\tvar isAluno = document.cookie.match(\\'alura.userId=([^;]+)\\') != null;\\n\\t\\tif(isAluno) return;\\n\\n\\t\\twindow.criteo_q = window.criteo_q || [];\\n\\t\\t\\n\\t\\tif (event == \\'viewHome\\')\\n\\t\\t\\tvar dt = { event: event}\\n\\t\\telse\\n\\t\\t\\tvar dt = { event: event, item: data};\\n\\n\\t\\twindow.criteo_q.push(\\n\\t\\t\\t{ event: \"setAccount\", account: 28037 },\\n\\t\\t\\t{ event: \"setEmail\", email: \"\" },\\n\\t\\t\\t{ event: \"setSiteType\", type: (/iPad/.test(navigator.userAgent) ? \"t\" : (/Mobile|iP(hone|od)|Android|BlackBerry|IEMobile/.test(navigator.userAgent) ? \"m\" : \"d\")) },\\n\\t\\t\\tdt\\n\\t\\t);\\t\\n\\t};\\n\\n\\t\\t\\tcriteoPush(\"viewHome\", \"\");\\n\\t\\t\\n\\t\\tvar criteoIdEl = document.querySelector(\\'[data-criteo-id]\\');\\n\\tif (criteoIdEl) {\\n        var products = JSON.parse(criteoIdEl.dataset.criteoId);\\n        var planos = document.querySelectorAll(\\'[data-payment-plan]\\');\\n\\n        planos.forEach(function (plano) {\\n            plano.addEventListener(\\'click\\', function (event) {\\n\\t\\t\\t\\tvar price = plano.dataset.paymentPlanPrice;\\n                var totalProducts = products.length;\\n\\t\\t\\t\\tvar productIds = \\'\\';\\n\\n                for(var i = 0; i < totalProducts; i++){\\n                    products[i][\\'price\\'] = price;\\n                    products[i][\\'quantity\\'] = 1;\\n\\t\\t\\t\\t\\tproductIds += \\',\\' + products[i][\\'id\\'];\\n                }\\n\\n\\t\\t\\t\\tproductIds = productIds.substr(1);\\n\\n\\t\\t\\t\\t// monta cookie pro Cart indicando quais cursos foram clicados\\n        \\t\\tdocument.cookie = \"criteo.productIds=\" + productIds + \"; path=/; domain=.alura.com.br\";\\n\\n\\t\\t\\t\\t// manda pro criteo\\n                criteoPush(\"viewBasket\", products);\\n            });\\n        });\\n\\n\\n\\t}</script> <script>(function(h,o,t,j,a,r){\\n        h.hj=h.hj||function(){(h.hj.q=h.hj.q||[]).push(arguments)};\\n        h._hjSettings={hjid:1029027,hjsv:6};\\n        a=o.getElementsByTagName(\\'head\\')[0];\\n        r=o.createElement(\\'script\\');r.async=1;\\n        r.src=t+h._hjSettings.hjid+j+h._hjSettings.hjsv;\\n        a.appendChild(r);\\n    })(window,document,\\'https://static.hotjar.com/c/hotjar-\\',\\'.js?sv=\\');</script> <script type=\"text/javascript\">_linkedin_partner_id = \"465017\";\\n\\t\\t\\twindow._linkedin_data_partner_ids = window._linkedin_data_partner_ids || [];\\n\\t\\t\\twindow._linkedin_data_partner_ids.push(_linkedin_partner_id);</script> <script type=\"text/javascript\">(function(){var s = document.getElementsByTagName(\"script\")[0];\\n\\t\\t\\tvar b = document.createElement(\"script\");\\n\\t\\t\\tb.type = \"text/javascript\";b.async = true;\\n\\t\\t\\tb.src = \"https://snap.licdn.com/li.lms-analytics/insight.min.js\";\\n\\t\\t\\ts.parentNode.insertBefore(b, s);})();</script> <noscript>\\n<img\\nheight=\"1\" width=\"1\" style=\"display:none;\" alt=\"\"\\nsrc=\"https://dc.ads.linkedin.com/collect/?pid=465017&fmt=gif\" />\\n</noscript> <script src=\"/assets/js/home/animations.js\" async></script> <script src=\"/assets/js/comunidade/depoimentos.1623250551.js\" async></script> </body></html>'\n"
     ]
    }
   ],
   "source": [
    "from urllib.request import Request, urlopen\n",
    "from urllib.error import URLError, HTTPError\n",
    "#header\n",
    "url = 'https://www.alura.com.br'\n",
    "headers = {'User-Agent': 'Mozilla/5.0 (Windows NT 10.0; Win64; x64) AppleWebKit/537.36 '\n",
    "                         '(KHTML, like Gecko) Chrome/92.0.4515.131 Safari/537.36'}\n",
    "\n",
    "#Tratando erro HTTP e de URL\n",
    "try:\n",
    "    req = Request(url, headers=headers)\n",
    "    response = urlopen(req)\n",
    "    print(response.read())\n",
    "\n",
    "except HTTPError as e:\n",
    "    print(e.status, e.reason)\n",
    "\n",
    "except URLError as e:\n",
    "    print(e.reason)"
   ],
   "metadata": {
    "collapsed": false,
    "pycharm": {
     "name": "#%%\n"
    }
   }
  },
  {
   "cell_type": "markdown",
   "metadata": {},
   "source": [
    "# 2.3. Tratamento de string"
   ]
  },
  {
   "cell_type": "code",
   "execution_count": 27,
   "metadata": {},
   "outputs": [
    {
     "data": {
      "text/plain": "b'<!DOCTYPE html>\\r\\n<html lang=\"pt-br\">\\r\\n<head>\\r\\n    <meta charset=\"utf-8\">\\r\\n    <meta name=\"viewport\" content=\"width=device-width, initial-scale=1, shrink-to-fit=no\">\\r\\n\\r\\n    <title>Alura Motors</title>\\r\\n\\t<link rel=\"stylesheet\" href=\"https://maxcdn.bootstrapcdn.com/bootstrap/3.3.7/css/bootstrap.min.css\" integrity=\"sha384-BVYiiSIFeK1dGmJRAkycuHAHRg32OmUcww7on3RYdg4Va+PmSTsz/K68vbdEjh4u\" crossorigin=\"anonymous\">\\r\\n\\t<link rel=\"stylesheet\" href=\"css/styles.css\" media=\"all\">\\r\\n\\r\\n\\t<script src=\"https://code.jquery.com/jquery-1.12.4.js\"></script>\\r\\n\\t<script src=\"https://maxcdn.bootstrapcdn.com/bootstrap/3.3.7/js/bootstrap.min.js\" integrity=\"sha384-Tc5IQib027qvyjSMfHjOMaLkfuWVxZxUPnCJA7l2mCWNIpG9mGCD8wGNIcPD7Txa\" crossorigin=\"anonymous\"></script>\\r\\n\\t<script type=\"text/javascript\" src=\"js/index.js\"></script>\\r\\n\\r\\n</head>\\r\\n<body cz-shortcut-listen=\"true\">\\r\\n    <noscript>You need to enable JavaScript to run this app.</noscript>\\r\\n\\r\\n    <div id=\"root\">\\r\\n        <header>\\r\\n            <nav class=\"navbar navbar-inverse\" style=\"margin-bottom: 0;\">\\r\\n                <div class=\"container\" style=\"margin-bottom: -20px;\">\\r\\n                    <div class=\"navbar\">\\r\\n                        <a href=\"./index.php\" class=\"navbar-brand\" title=\"Alura Motors\">\\r\\n                            <img src=\"img/alura-logo.svg\" class=\"d-inline-block align-top\" alt=\"Alura\">Motors\\r\\n                        </a>\\r\\n                        <ul class=\"nav navbar-nav\" style=\"margin-top: 35px;\">\\r\\n                            <li><a href=\"./hello-world.php\">Hello World</a></li>\\r\\n                            <li><a href=\"./index.php\">An\\xc3\\xbancios</a></li>\\r\\n                        </ul>\\r\\n                    </div>\\r\\n                </div>\\r\\n            </nav>\\r\\n        </header>\\r\\n\\r\\n\\t\\t<div class=\"container\">\\r\\n\\t\\t\\t<h1 class=\"sub-header\">Curso de Web Scraping</h1>\\r\\n\\t\\t\\t<div class=\"row\">\\r\\n\\t\\t\\t\\t<div class=\"col-md-12\">\\r\\n\\t\\t\\t\\t\\t<div class=\"container\" style=\"width: 100%;\">\\r\\n                <h1 id=\"hello-world\">Hello World!!!</h1>\\r\\n                <p class=\"definition\"><b>Web Scraping</b> \\xc3\\xa9 o termo utilizado para definir a pr\\xc3\\xa1tica de coletar automaticamente informa\\xc3\\xa7\\xc3\\xb5es na Internet. Isto \\xc3\\xa9 feito, geralmente, por meio de programas que simulam a navega\\xc3\\xa7\\xc3\\xa3o humana na Web.</p>\\r\\n\\t\\t\\t\\t\\t</div>\\r\\n\\t\\t\\t\\t</div>\\r\\n\\t\\t\\t</div>\\r\\n\\t\\t</div>\\r\\n\\r\\n\\t\\t<footer id=\"footer\">\\r\\n\\t\\t\\t<nav class=\"navbar navbar-inverse\">\\r\\n\\t\\t\\t\\t<div class=\"container\" style=\"margin-bottom: 10px;\">\\r\\n\\t\\t\\t\\t\\t<div class=\"navbar\">\\r\\n\\t\\t\\t\\t\\t\\t<a href=\"./index.php\" class=\"navbar-brand\" title=\"Alura Motors\">\\r\\n\\t\\t\\t\\t\\t\\t\\t<img src=\"img/alura-logo.svg\" class=\"d-inline-block align-top\" alt=\"Alura\">Motors\\r\\n\\t\\t\\t\\t\\t\\t</a>\\r\\n\\t\\t\\t\\t\\t\\t<p style=\"color: #fff; text-align: center; margin-top: 40px;\">Aplica\\xc3\\xa7\\xc3\\xa3o para treinamento de web scraping</p>\\r\\n\\t\\t\\t\\t\\t</div>\\r\\n\\t\\t\\t\\t</div>\\r\\n\\t\\t\\t</nav>\\r\\n   </footer>\\r\\n\\r\\n\\t</div>\\r\\n\\r\\n</body>\\r\\n</html>\\r\\n'"
     },
     "execution_count": 27,
     "metadata": {},
     "output_type": "execute_result"
    }
   ],
   "source": [
    "url = 'https://alura-site-scraping.herokuapp.com/hello-world.php'\n",
    "\n",
    "response = urlopen(url)\n",
    "html = response.read()\n",
    "html"
   ]
  },
  {
   "cell_type": "code",
   "execution_count": 28,
   "outputs": [
    {
     "data": {
      "text/plain": "bytes"
     },
     "execution_count": 28,
     "metadata": {},
     "output_type": "execute_result"
    }
   ],
   "source": [
    "type(html)"
   ],
   "metadata": {
    "collapsed": false,
    "pycharm": {
     "name": "#%%\n"
    }
   }
  },
  {
   "cell_type": "markdown",
   "metadata": {},
   "source": [
    "### Convertando o tipo bytes para string"
   ]
  },
  {
   "cell_type": "code",
   "execution_count": 29,
   "metadata": {},
   "outputs": [],
   "source": [
    "html = html.decode('utf-8')"
   ]
  },
  {
   "cell_type": "code",
   "execution_count": 30,
   "metadata": {},
   "outputs": [
    {
     "data": {
      "text/plain": "str"
     },
     "execution_count": 30,
     "metadata": {},
     "output_type": "execute_result"
    }
   ],
   "source": [
    "type(html)\n",
    "\n"
   ]
  },
  {
   "cell_type": "markdown",
   "metadata": {},
   "source": [
    "### Eliminando os caracteres de tabulação, quebra de linha etc."
   ]
  },
  {
   "cell_type": "code",
   "execution_count": 31,
   "outputs": [
    {
     "data": {
      "text/plain": "['<!DOCTYPE',\n 'html>',\n '<html',\n 'lang=\"pt-br\">',\n '<head>',\n '<meta',\n 'charset=\"utf-8\">',\n '<meta',\n 'name=\"viewport\"',\n 'content=\"width=device-width,',\n 'initial-scale=1,',\n 'shrink-to-fit=no\">',\n '<title>Alura',\n 'Motors</title>',\n '<link',\n 'rel=\"stylesheet\"',\n 'href=\"https://maxcdn.bootstrapcdn.com/bootstrap/3.3.7/css/bootstrap.min.css\"',\n 'integrity=\"sha384-BVYiiSIFeK1dGmJRAkycuHAHRg32OmUcww7on3RYdg4Va+PmSTsz/K68vbdEjh4u\"',\n 'crossorigin=\"anonymous\">',\n '<link',\n 'rel=\"stylesheet\"',\n 'href=\"css/styles.css\"',\n 'media=\"all\">',\n '<script',\n 'src=\"https://code.jquery.com/jquery-1.12.4.js\"></script>',\n '<script',\n 'src=\"https://maxcdn.bootstrapcdn.com/bootstrap/3.3.7/js/bootstrap.min.js\"',\n 'integrity=\"sha384-Tc5IQib027qvyjSMfHjOMaLkfuWVxZxUPnCJA7l2mCWNIpG9mGCD8wGNIcPD7Txa\"',\n 'crossorigin=\"anonymous\"></script>',\n '<script',\n 'type=\"text/javascript\"',\n 'src=\"js/index.js\"></script>',\n '</head>',\n '<body',\n 'cz-shortcut-listen=\"true\">',\n '<noscript>You',\n 'need',\n 'to',\n 'enable',\n 'JavaScript',\n 'to',\n 'run',\n 'this',\n 'app.</noscript>',\n '<div',\n 'id=\"root\">',\n '<header>',\n '<nav',\n 'class=\"navbar',\n 'navbar-inverse\"',\n 'style=\"margin-bottom:',\n '0;\">',\n '<div',\n 'class=\"container\"',\n 'style=\"margin-bottom:',\n '-20px;\">',\n '<div',\n 'class=\"navbar\">',\n '<a',\n 'href=\"./index.php\"',\n 'class=\"navbar-brand\"',\n 'title=\"Alura',\n 'Motors\">',\n '<img',\n 'src=\"img/alura-logo.svg\"',\n 'class=\"d-inline-block',\n 'align-top\"',\n 'alt=\"Alura\">Motors',\n '</a>',\n '<ul',\n 'class=\"nav',\n 'navbar-nav\"',\n 'style=\"margin-top:',\n '35px;\">',\n '<li><a',\n 'href=\"./hello-world.php\">Hello',\n 'World</a></li>',\n '<li><a',\n 'href=\"./index.php\">Anúncios</a></li>',\n '</ul>',\n '</div>',\n '</div>',\n '</nav>',\n '</header>',\n '<div',\n 'class=\"container\">',\n '<h1',\n 'class=\"sub-header\">Curso',\n 'de',\n 'Web',\n 'Scraping</h1>',\n '<div',\n 'class=\"row\">',\n '<div',\n 'class=\"col-md-12\">',\n '<div',\n 'class=\"container\"',\n 'style=\"width:',\n '100%;\">',\n '<h1',\n 'id=\"hello-world\">Hello',\n 'World!!!</h1>',\n '<p',\n 'class=\"definition\"><b>Web',\n 'Scraping</b>',\n 'é',\n 'o',\n 'termo',\n 'utilizado',\n 'para',\n 'definir',\n 'a',\n 'prática',\n 'de',\n 'coletar',\n 'automaticamente',\n 'informações',\n 'na',\n 'Internet.',\n 'Isto',\n 'é',\n 'feito,',\n 'geralmente,',\n 'por',\n 'meio',\n 'de',\n 'programas',\n 'que',\n 'simulam',\n 'a',\n 'navegação',\n 'humana',\n 'na',\n 'Web.</p>',\n '</div>',\n '</div>',\n '</div>',\n '</div>',\n '<footer',\n 'id=\"footer\">',\n '<nav',\n 'class=\"navbar',\n 'navbar-inverse\">',\n '<div',\n 'class=\"container\"',\n 'style=\"margin-bottom:',\n '10px;\">',\n '<div',\n 'class=\"navbar\">',\n '<a',\n 'href=\"./index.php\"',\n 'class=\"navbar-brand\"',\n 'title=\"Alura',\n 'Motors\">',\n '<img',\n 'src=\"img/alura-logo.svg\"',\n 'class=\"d-inline-block',\n 'align-top\"',\n 'alt=\"Alura\">Motors',\n '</a>',\n '<p',\n 'style=\"color:',\n '#fff;',\n 'text-align:',\n 'center;',\n 'margin-top:',\n '40px;\">Aplicação',\n 'para',\n 'treinamento',\n 'de',\n 'web',\n 'scraping</p>',\n '</div>',\n '</div>',\n '</nav>',\n '</footer>',\n '</div>',\n '</body>',\n '</html>']"
     },
     "execution_count": 31,
     "metadata": {},
     "output_type": "execute_result"
    }
   ],
   "source": [
    "html.split()\n",
    "\n"
   ],
   "metadata": {
    "collapsed": false,
    "pycharm": {
     "name": "#%%\n"
    }
   }
  },
  {
   "cell_type": "markdown",
   "metadata": {},
   "source": [
    "### Eliminando os espaços em branco entre as TAGS"
   ]
  },
  {
   "cell_type": "code",
   "execution_count": 32,
   "metadata": {
    "scrolled": true
   },
   "outputs": [
    {
     "data": {
      "text/plain": "'<!DOCTYPE html> <html lang=\"pt-br\"> <head> <meta charset=\"utf-8\"> <meta name=\"viewport\" content=\"width=device-width, initial-scale=1, shrink-to-fit=no\"> <title>Alura Motors</title> <link rel=\"stylesheet\" href=\"https://maxcdn.bootstrapcdn.com/bootstrap/3.3.7/css/bootstrap.min.css\" integrity=\"sha384-BVYiiSIFeK1dGmJRAkycuHAHRg32OmUcww7on3RYdg4Va+PmSTsz/K68vbdEjh4u\" crossorigin=\"anonymous\"> <link rel=\"stylesheet\" href=\"css/styles.css\" media=\"all\"> <script src=\"https://code.jquery.com/jquery-1.12.4.js\"></script> <script src=\"https://maxcdn.bootstrapcdn.com/bootstrap/3.3.7/js/bootstrap.min.js\" integrity=\"sha384-Tc5IQib027qvyjSMfHjOMaLkfuWVxZxUPnCJA7l2mCWNIpG9mGCD8wGNIcPD7Txa\" crossorigin=\"anonymous\"></script> <script type=\"text/javascript\" src=\"js/index.js\"></script> </head> <body cz-shortcut-listen=\"true\"> <noscript>You need to enable JavaScript to run this app.</noscript> <div id=\"root\"> <header> <nav class=\"navbar navbar-inverse\" style=\"margin-bottom: 0;\"> <div class=\"container\" style=\"margin-bottom: -20px;\"> <div class=\"navbar\"> <a href=\"./index.php\" class=\"navbar-brand\" title=\"Alura Motors\"> <img src=\"img/alura-logo.svg\" class=\"d-inline-block align-top\" alt=\"Alura\">Motors </a> <ul class=\"nav navbar-nav\" style=\"margin-top: 35px;\"> <li><a href=\"./hello-world.php\">Hello World</a></li> <li><a href=\"./index.php\">Anúncios</a></li> </ul> </div> </div> </nav> </header> <div class=\"container\"> <h1 class=\"sub-header\">Curso de Web Scraping</h1> <div class=\"row\"> <div class=\"col-md-12\"> <div class=\"container\" style=\"width: 100%;\"> <h1 id=\"hello-world\">Hello World!!!</h1> <p class=\"definition\"><b>Web Scraping</b> é o termo utilizado para definir a prática de coletar automaticamente informações na Internet. Isto é feito, geralmente, por meio de programas que simulam a navegação humana na Web.</p> </div> </div> </div> </div> <footer id=\"footer\"> <nav class=\"navbar navbar-inverse\"> <div class=\"container\" style=\"margin-bottom: 10px;\"> <div class=\"navbar\"> <a href=\"./index.php\" class=\"navbar-brand\" title=\"Alura Motors\"> <img src=\"img/alura-logo.svg\" class=\"d-inline-block align-top\" alt=\"Alura\">Motors </a> <p style=\"color: #fff; text-align: center; margin-top: 40px;\">Aplicação para treinamento de web scraping</p> </div> </div> </nav> </footer> </div> </body> </html>'"
     },
     "execution_count": 32,
     "metadata": {},
     "output_type": "execute_result"
    }
   ],
   "source": [
    "\" \".join(html.split())"
   ]
  },
  {
   "cell_type": "code",
   "execution_count": 33,
   "outputs": [
    {
     "data": {
      "text/plain": "'<!DOCTYPE html><html lang=\"pt-br\"><head><meta charset=\"utf-8\"><meta name=\"viewport\" content=\"width=device-width, initial-scale=1, shrink-to-fit=no\"><title>Alura Motors</title><link rel=\"stylesheet\" href=\"https://maxcdn.bootstrapcdn.com/bootstrap/3.3.7/css/bootstrap.min.css\" integrity=\"sha384-BVYiiSIFeK1dGmJRAkycuHAHRg32OmUcww7on3RYdg4Va+PmSTsz/K68vbdEjh4u\" crossorigin=\"anonymous\"><link rel=\"stylesheet\" href=\"css/styles.css\" media=\"all\"><script src=\"https://code.jquery.com/jquery-1.12.4.js\"></script><script src=\"https://maxcdn.bootstrapcdn.com/bootstrap/3.3.7/js/bootstrap.min.js\" integrity=\"sha384-Tc5IQib027qvyjSMfHjOMaLkfuWVxZxUPnCJA7l2mCWNIpG9mGCD8wGNIcPD7Txa\" crossorigin=\"anonymous\"></script><script type=\"text/javascript\" src=\"js/index.js\"></script></head><body cz-shortcut-listen=\"true\"><noscript>You need to enable JavaScript to run this app.</noscript><div id=\"root\"><header><nav class=\"navbar navbar-inverse\" style=\"margin-bottom: 0;\"><div class=\"container\" style=\"margin-bottom: -20px;\"><div class=\"navbar\"><a href=\"./index.php\" class=\"navbar-brand\" title=\"Alura Motors\"><img src=\"img/alura-logo.svg\" class=\"d-inline-block align-top\" alt=\"Alura\">Motors </a><ul class=\"nav navbar-nav\" style=\"margin-top: 35px;\"><li><a href=\"./hello-world.php\">Hello World</a></li><li><a href=\"./index.php\">Anúncios</a></li></ul></div></div></nav></header><div class=\"container\"><h1 class=\"sub-header\">Curso de Web Scraping</h1><div class=\"row\"><div class=\"col-md-12\"><div class=\"container\" style=\"width: 100%;\"><h1 id=\"hello-world\">Hello World!!!</h1><p class=\"definition\"><b>Web Scraping</b> é o termo utilizado para definir a prática de coletar automaticamente informações na Internet. Isto é feito, geralmente, por meio de programas que simulam a navegação humana na Web.</p></div></div></div></div><footer id=\"footer\"><nav class=\"navbar navbar-inverse\"><div class=\"container\" style=\"margin-bottom: 10px;\"><div class=\"navbar\"><a href=\"./index.php\" class=\"navbar-brand\" title=\"Alura Motors\"><img src=\"img/alura-logo.svg\" class=\"d-inline-block align-top\" alt=\"Alura\">Motors </a><p style=\"color: #fff; text-align: center; margin-top: 40px;\">Aplicação para treinamento de web scraping</p></div></div></nav></footer></div></body></html>'"
     },
     "execution_count": 33,
     "metadata": {},
     "output_type": "execute_result"
    }
   ],
   "source": [
    "\" \".join(html.split()).replace('> <', '><')"
   ],
   "metadata": {
    "collapsed": false,
    "pycharm": {
     "name": "#%%\n"
    }
   }
  },
  {
   "cell_type": "markdown",
   "metadata": {},
   "source": [
    "### Função de tratamento de strings"
   ]
  },
  {
   "cell_type": "code",
   "execution_count": 34,
   "metadata": {},
   "outputs": [],
   "source": [
    "def trata_html(input):\n",
    "    return \" \".join(input.split()).replace('> <', '><')"
   ]
  },
  {
   "cell_type": "code",
   "execution_count": 35,
   "metadata": {},
   "outputs": [],
   "source": [
    "html = trata_html(html)"
   ]
  },
  {
   "cell_type": "markdown",
   "metadata": {
    "colab": {},
    "colab_type": "code",
    "id": "BsfhL3sZFRZu"
   },
   "source": [
    "---\n",
    "# <font color=green>3. INTRODUÇÃO AO BEAUTIFULSOUP"
   ]
  },
  {
   "cell_type": "markdown",
   "metadata": {
    "colab": {},
    "colab_type": "code",
    "id": "BsfhL3sZFRZu"
   },
   "source": [
    "# 3.1. HTML da nossa página"
   ]
  },
  {
   "cell_type": "markdown",
   "metadata": {},
   "source": [
    "**HTML** (*HyperText Markup Language*) é uma linguagem de marcação composta por **tags** que deteminam o papel que cada parte do documento vai assumir. As **tags** são formadas pelo seu nome e atributos. Os atributos servem para configurar e também modificar as características padrões de uma **tag**.\n",
    "\n",
    "## Estrutura básica\n",
    "\n",
    "```html\n",
    "<html>\n",
    "    <head>\n",
    "        <meta charset=\"utf-8\" />\n",
    "        <title>Alura Motors</title>\n",
    "    </head>\n",
    "    <body>\n",
    "        <div id=\"container\">\n",
    "            <h1>Alura</h1>\n",
    "            <h2 class=\"formato\">Cursos de Tecnologia</h2>\n",
    "            <p>Você vai estudar, praticar, discutir e aprender.</p>\n",
    "            <a href=\"https://www.alura.com.br/\">Clique aqui</a>\n",
    "        </div>\n",
    "    </body>\n",
    "</html>\n",
    "```\n",
    "\n",
    "```<html>``` - determina o início do documento.\n",
    "\n",
    "```<head>``` - cabeçalho. Contém informações e configurações do documento.\n",
    "\n",
    "```<body>``` - é o corpo do documento, onde todo o conteúdo é colocado. Esta é a parte visível em um navegador.\n",
    "\n",
    "## Tags mais comuns\n",
    "\n",
    "```<div>``` - define uma divisão da página. Pode ser formatada de diversas maneiras.\n",
    "\n",
    "```<h1>, <h2>, <h3>, <h4>, <h5>, <h6>``` - marcadores de títulos.\n",
    "\n",
    "```<p>``` - marcador de parágrafo.\n",
    "\n",
    "```<a>``` - hiperlink.\n",
    "\n",
    "```<img>``` - exibição de imagens.\n",
    "\n",
    "```<table>``` - definição de tabelas.\n",
    "\n",
    "```<ul>, <li>``` - definição de listas.\n"
   ]
  },
  {
   "cell_type": "markdown",
   "metadata": {},
   "source": [
    "# 3.2. Criando um objeto BeautifulSoup"
   ]
  },
  {
   "cell_type": "markdown",
   "metadata": {},
   "source": [
    "## https://www.crummy.com/software/BeautifulSoup/\n",
    "\n",
    "### Sobre parser ver: https://www.crummy.com/software/BeautifulSoup/bs4/doc/#parser-installation"
   ]
  },
  {
   "cell_type": "code",
   "execution_count": 35,
   "metadata": {
    "colab": {
     "base_uri": "https://localhost:8080/",
     "height": 316
    },
    "colab_type": "code",
    "id": "5Oxx_d0BCWGa",
    "outputId": "4d2c4e2b-57fe-413d-9521-91711e0e5fdc",
    "scrolled": true
   },
   "outputs": [],
   "source": []
  },
  {
   "cell_type": "code",
   "execution_count": 35,
   "metadata": {
    "scrolled": true
   },
   "outputs": [],
   "source": []
  },
  {
   "cell_type": "markdown",
   "metadata": {},
   "source": [
    "# 3.3. Acessando tags"
   ]
  },
  {
   "cell_type": "code",
   "execution_count": 35,
   "metadata": {
    "scrolled": true
   },
   "outputs": [],
   "source": []
  },
  {
   "cell_type": "code",
   "execution_count": 35,
   "metadata": {
    "scrolled": true
   },
   "outputs": [],
   "source": []
  },
  {
   "cell_type": "code",
   "execution_count": 35,
   "metadata": {},
   "outputs": [],
   "source": []
  },
  {
   "cell_type": "code",
   "execution_count": 35,
   "metadata": {},
   "outputs": [],
   "source": []
  },
  {
   "cell_type": "code",
   "execution_count": 35,
   "metadata": {},
   "outputs": [],
   "source": []
  },
  {
   "cell_type": "markdown",
   "metadata": {},
   "source": [
    "# 3.4. Acessando o conteúdo das tags"
   ]
  },
  {
   "cell_type": "code",
   "execution_count": 35,
   "metadata": {},
   "outputs": [],
   "source": []
  },
  {
   "cell_type": "code",
   "execution_count": 35,
   "metadata": {},
   "outputs": [],
   "source": []
  },
  {
   "cell_type": "code",
   "execution_count": 35,
   "metadata": {},
   "outputs": [],
   "source": []
  },
  {
   "cell_type": "code",
   "execution_count": 35,
   "metadata": {},
   "outputs": [],
   "source": []
  },
  {
   "cell_type": "code",
   "execution_count": 35,
   "metadata": {},
   "outputs": [],
   "source": []
  },
  {
   "cell_type": "markdown",
   "metadata": {},
   "source": [
    "# 3.5. Acessando os atributos de uma tag"
   ]
  },
  {
   "cell_type": "code",
   "execution_count": 35,
   "metadata": {},
   "outputs": [],
   "source": []
  },
  {
   "cell_type": "code",
   "execution_count": 35,
   "metadata": {},
   "outputs": [],
   "source": []
  },
  {
   "cell_type": "code",
   "execution_count": 35,
   "metadata": {},
   "outputs": [],
   "source": []
  },
  {
   "cell_type": "code",
   "execution_count": 35,
   "metadata": {},
   "outputs": [],
   "source": []
  },
  {
   "cell_type": "code",
   "execution_count": 35,
   "metadata": {},
   "outputs": [],
   "source": []
  },
  {
   "cell_type": "code",
   "execution_count": 35,
   "metadata": {},
   "outputs": [],
   "source": []
  },
  {
   "cell_type": "markdown",
   "metadata": {},
   "source": [
    "---\n",
    "# <font color=green>4. PESQUISANDO COM O BEAUTIFULSOUP"
   ]
  },
  {
   "cell_type": "markdown",
   "metadata": {},
   "source": [
    "# 4.1. Os métodos *find()* e *findAll()*"
   ]
  },
  {
   "cell_type": "markdown",
   "metadata": {},
   "source": [
    "- ### *find(tag, attributes, recursive, text, **kwargs)*\n",
    "\n",
    "- ### *findAll(tag, attributes, recursive, text, limit, **kwargs)*\n",
    "\n",
    "#### https://www.crummy.com/software/BeautifulSoup/bs4/doc/#find\n",
    "#### https://www.crummy.com/software/BeautifulSoup/bs4/doc/#find-all\n",
    "\n",
    "> **Observação:**\n",
    "> - *findAll()* também pode ser utilizado como *find_all()*"
   ]
  },
  {
   "cell_type": "markdown",
   "metadata": {},
   "source": [
    "### Método *find()*"
   ]
  },
  {
   "cell_type": "code",
   "execution_count": 35,
   "metadata": {},
   "outputs": [],
   "source": []
  },
  {
   "cell_type": "code",
   "execution_count": 35,
   "metadata": {},
   "outputs": [],
   "source": []
  },
  {
   "cell_type": "markdown",
   "metadata": {},
   "source": [
    "### Método *findAll()*"
   ]
  },
  {
   "cell_type": "code",
   "execution_count": 35,
   "metadata": {},
   "outputs": [],
   "source": []
  },
  {
   "cell_type": "markdown",
   "metadata": {},
   "source": [
    "### Comando equivalente ao método *find()*"
   ]
  },
  {
   "cell_type": "code",
   "execution_count": 35,
   "metadata": {},
   "outputs": [],
   "source": []
  },
  {
   "cell_type": "markdown",
   "metadata": {},
   "source": [
    "### Atalho para o método *findAll()*"
   ]
  },
  {
   "cell_type": "code",
   "execution_count": 35,
   "metadata": {},
   "outputs": [],
   "source": []
  },
  {
   "cell_type": "markdown",
   "metadata": {},
   "source": [
    "### Passando listas de TAGs"
   ]
  },
  {
   "cell_type": "code",
   "execution_count": 35,
   "metadata": {},
   "outputs": [],
   "source": []
  },
  {
   "cell_type": "markdown",
   "metadata": {},
   "source": [
    "### Utilizando o argumento *attributes*"
   ]
  },
  {
   "cell_type": "code",
   "execution_count": 35,
   "metadata": {
    "scrolled": true
   },
   "outputs": [],
   "source": []
  },
  {
   "cell_type": "markdown",
   "metadata": {},
   "source": [
    "### Buscando por conteúdo de uma TAG"
   ]
  },
  {
   "cell_type": "code",
   "execution_count": 35,
   "metadata": {},
   "outputs": [],
   "source": []
  },
  {
   "cell_type": "markdown",
   "metadata": {},
   "source": [
    "### Utilizando diretamente os atributos"
   ]
  },
  {
   "cell_type": "code",
   "execution_count": 35,
   "metadata": {},
   "outputs": [],
   "source": []
  },
  {
   "cell_type": "code",
   "execution_count": 35,
   "metadata": {},
   "outputs": [],
   "source": []
  },
  {
   "cell_type": "markdown",
   "metadata": {},
   "source": [
    "### Cuidado com o atributo \"class\""
   ]
  },
  {
   "cell_type": "code",
   "execution_count": 35,
   "metadata": {},
   "outputs": [],
   "source": []
  },
  {
   "cell_type": "markdown",
   "metadata": {},
   "source": [
    "### Obtendo todo o conteúdo de texto de uma página"
   ]
  },
  {
   "cell_type": "code",
   "execution_count": 35,
   "metadata": {},
   "outputs": [],
   "source": []
  },
  {
   "cell_type": "markdown",
   "metadata": {},
   "source": [
    "# 4.2. Outros métodos de pesquisa"
   ]
  },
  {
   "cell_type": "markdown",
   "metadata": {},
   "source": [
    "- ### *findParent(tag, attributes, text, **kwargs)*\n",
    "\n",
    "- ### *findParents(tag, attributes, text, limit, **kwargs)*\n",
    "\n",
    "#### https://www.crummy.com/software/BeautifulSoup/bs4/doc/#find-parents-and-find-parent\n",
    "\n",
    "> **Observação:**\n",
    "> - *findParent()* e *findParents()* também podem ser utilizados como *find_parent()* e *find_parents()*, respectivamente.\n",
    "---\n",
    "- ### *findNextSibling(tag, attributes, text, **kwargs)*\n",
    "\n",
    "- ### *findNextSiblings(tag, attributes, text, limit, **kwargs)*\n",
    "\n",
    "- ### *findPreviousSibling(tag, attributes, text, **kwargs)*\n",
    "\n",
    "- ### *findPreviousSiblings(tag, attributes, text, limit, **kwargs)*\n",
    "\n",
    "#### https://www.crummy.com/software/BeautifulSoup/bs4/doc/#find-next-siblings-and-find-next-sibling\n",
    "#### https://www.crummy.com/software/BeautifulSoup/bs4/doc/#find-previous-siblings-and-find-previous-sibling\n",
    "\n",
    "> **Observação:**\n",
    "> - *findNextSibling()*, *findNextSiblings()*, *findPreviousSibling()* e *findPreviousSiblings()* também podem ser utilizados como *find_next_sibling()*, *find_next_siblings()*, *find_previous_sibling()* e *find_previous_siblings()*, respectivamente.\n",
    "---\n",
    "- ### *findNext(tag, attributes, text, **kwargs)*\n",
    "\n",
    "- ### *findAllNext(tag, attributes, text, limit, **kwargs)*\n",
    "\n",
    "- ### *findPrevious(tag, attributes, text, **kwargs)*\n",
    "\n",
    "- ### *findAllPrevious(tag, attributes, text, limit, **kwargs)*\n",
    "\n",
    "#### https://www.crummy.com/software/BeautifulSoup/bs4/doc/#find-all-next-and-find-next\n",
    "#### https://www.crummy.com/software/BeautifulSoup/bs4/doc/#find-all-previous-and-find-previous\n",
    "\n",
    "> **Observação:**\n",
    "> - *findNext()*, *findAllNext()*, *findPrevious* e *findAllPrevious* também podem ser utilizados como *find_next()*, *find_all_next()*, *find_previous()* e *find_all_previous()*, respectivamente."
   ]
  },
  {
   "cell_type": "markdown",
   "metadata": {},
   "source": [
    "## HTML de exemplo para ilustrar a utilização dos métodos de pesquisa do BeautifulSoup"
   ]
  },
  {
   "cell_type": "markdown",
   "metadata": {},
   "source": [
    "<img src=\"https://caelum-online-public.s3.amazonaws.com/1381-scraping/01/BeautifulSoup-method.png\" width=80%>"
   ]
  },
  {
   "cell_type": "markdown",
   "metadata": {},
   "source": [
    "---\n",
    "## Resultado"
   ]
  },
  {
   "cell_type": "markdown",
   "metadata": {},
   "source": [
    "<html>\n",
    "    <body>\n",
    "        <div id=“container-a”>\n",
    "            <h1>Título A</h1>\n",
    "            <h2 class=\"ref-a\">Sub título A</h2>\n",
    "            <p>Texto de conteúdo A</p>\n",
    "        </div>\n",
    "        <div id=“container-b”>\n",
    "            <h1>Título B</h1>\n",
    "            <h2 class=\"ref-b\">Sub título B</h2>\n",
    "            <p>Texto de conteúdo B</p>\n",
    "        </div>\n",
    "    </body>\n",
    "</html>"
   ]
  },
  {
   "cell_type": "code",
   "execution_count": 35,
   "metadata": {},
   "outputs": [],
   "source": []
  },
  {
   "cell_type": "markdown",
   "metadata": {},
   "source": [
    "### Tratamentos para a string HTML"
   ]
  },
  {
   "cell_type": "code",
   "execution_count": 35,
   "metadata": {},
   "outputs": [],
   "source": []
  },
  {
   "cell_type": "code",
   "execution_count": 35,
   "metadata": {},
   "outputs": [],
   "source": []
  },
  {
   "cell_type": "markdown",
   "metadata": {},
   "source": [
    "### Criando o objeto BeautifulSoup"
   ]
  },
  {
   "cell_type": "code",
   "execution_count": 35,
   "metadata": {
    "scrolled": true
   },
   "outputs": [],
   "source": []
  },
  {
   "cell_type": "markdown",
   "metadata": {},
   "source": [
    "### Parents"
   ]
  },
  {
   "cell_type": "code",
   "execution_count": 35,
   "metadata": {},
   "outputs": [],
   "source": []
  },
  {
   "cell_type": "code",
   "execution_count": 35,
   "metadata": {},
   "outputs": [],
   "source": []
  },
  {
   "cell_type": "code",
   "execution_count": 35,
   "metadata": {},
   "outputs": [],
   "source": []
  },
  {
   "cell_type": "code",
   "execution_count": 35,
   "metadata": {},
   "outputs": [],
   "source": []
  },
  {
   "cell_type": "code",
   "execution_count": 35,
   "metadata": {},
   "outputs": [],
   "source": []
  },
  {
   "cell_type": "markdown",
   "metadata": {},
   "source": [
    "## Siblings"
   ]
  },
  {
   "cell_type": "code",
   "execution_count": 35,
   "metadata": {},
   "outputs": [],
   "source": []
  },
  {
   "cell_type": "code",
   "execution_count": 35,
   "metadata": {},
   "outputs": [],
   "source": []
  },
  {
   "cell_type": "code",
   "execution_count": 35,
   "metadata": {},
   "outputs": [],
   "source": []
  },
  {
   "cell_type": "markdown",
   "metadata": {},
   "source": [
    "## Next e Previous"
   ]
  },
  {
   "cell_type": "code",
   "execution_count": 35,
   "metadata": {},
   "outputs": [],
   "source": []
  },
  {
   "cell_type": "code",
   "execution_count": 35,
   "metadata": {},
   "outputs": [],
   "source": []
  },
  {
   "cell_type": "code",
   "execution_count": 35,
   "metadata": {},
   "outputs": [],
   "source": []
  },
  {
   "cell_type": "markdown",
   "metadata": {},
   "source": [
    "# <font color=green>5. WEB SCRAPING DO SITE ALURA MOTORS - OBTENDO OS DADOS DE UM ANÚNCIO"
   ]
  },
  {
   "cell_type": "markdown",
   "metadata": {},
   "source": [
    "# 5.1. Identificando e selecionando os dados no HTML"
   ]
  },
  {
   "cell_type": "markdown",
   "metadata": {},
   "source": [
    "### Obtendo o HTML e criando o objeto BeautifulSoup"
   ]
  },
  {
   "cell_type": "code",
   "execution_count": 35,
   "metadata": {},
   "outputs": [],
   "source": []
  },
  {
   "cell_type": "markdown",
   "metadata": {},
   "source": [
    "### Criando variávels para armazenar informações"
   ]
  },
  {
   "cell_type": "code",
   "execution_count": 35,
   "metadata": {},
   "outputs": [],
   "source": []
  },
  {
   "cell_type": "markdown",
   "metadata": {},
   "source": [
    "### Obtendo os dados do primeiro CARD"
   ]
  },
  {
   "cell_type": "code",
   "execution_count": 35,
   "metadata": {
    "scrolled": false
   },
   "outputs": [],
   "source": []
  },
  {
   "cell_type": "markdown",
   "metadata": {},
   "source": [
    "# 5.2. Obtendo o VALOR do veículo anunciado"
   ]
  },
  {
   "cell_type": "code",
   "execution_count": 35,
   "metadata": {},
   "outputs": [],
   "source": []
  },
  {
   "cell_type": "code",
   "execution_count": 35,
   "metadata": {},
   "outputs": [],
   "source": []
  },
  {
   "cell_type": "code",
   "execution_count": 35,
   "metadata": {},
   "outputs": [],
   "source": []
  },
  {
   "cell_type": "code",
   "execution_count": 35,
   "metadata": {},
   "outputs": [],
   "source": []
  },
  {
   "cell_type": "code",
   "execution_count": 35,
   "metadata": {},
   "outputs": [],
   "source": []
  },
  {
   "cell_type": "markdown",
   "metadata": {},
   "source": [
    "### <font color=red>Resumo"
   ]
  },
  {
   "cell_type": "code",
   "execution_count": 36,
   "metadata": {},
   "outputs": [],
   "source": [
    "# Valor\n"
   ]
  },
  {
   "cell_type": "markdown",
   "metadata": {},
   "source": [
    "# 5.3. Obtendo as INFORMAÇÕES sobre o veículo anunciado"
   ]
  },
  {
   "cell_type": "code",
   "execution_count": 36,
   "metadata": {},
   "outputs": [],
   "source": []
  },
  {
   "cell_type": "code",
   "execution_count": 36,
   "metadata": {},
   "outputs": [],
   "source": []
  },
  {
   "cell_type": "code",
   "execution_count": 36,
   "metadata": {},
   "outputs": [],
   "source": []
  },
  {
   "cell_type": "code",
   "execution_count": 36,
   "metadata": {},
   "outputs": [],
   "source": []
  },
  {
   "cell_type": "code",
   "execution_count": 36,
   "metadata": {},
   "outputs": [],
   "source": []
  },
  {
   "cell_type": "code",
   "execution_count": 36,
   "metadata": {},
   "outputs": [],
   "source": []
  },
  {
   "cell_type": "code",
   "execution_count": 36,
   "metadata": {},
   "outputs": [],
   "source": []
  },
  {
   "cell_type": "code",
   "execution_count": 36,
   "metadata": {},
   "outputs": [],
   "source": []
  },
  {
   "cell_type": "markdown",
   "metadata": {},
   "source": [
    "### <font color=red>Resumo"
   ]
  },
  {
   "cell_type": "code",
   "execution_count": 37,
   "metadata": {},
   "outputs": [],
   "source": [
    "# Informações\n"
   ]
  },
  {
   "cell_type": "markdown",
   "metadata": {},
   "source": [
    "# 5.4. Obtendo os ACESSÓRIOS do veículo anunciado"
   ]
  },
  {
   "cell_type": "code",
   "execution_count": 37,
   "metadata": {},
   "outputs": [],
   "source": []
  },
  {
   "cell_type": "code",
   "execution_count": 37,
   "metadata": {},
   "outputs": [],
   "source": []
  },
  {
   "cell_type": "code",
   "execution_count": 37,
   "metadata": {},
   "outputs": [],
   "source": []
  },
  {
   "cell_type": "code",
   "execution_count": 37,
   "metadata": {},
   "outputs": [],
   "source": []
  },
  {
   "cell_type": "code",
   "execution_count": 37,
   "metadata": {},
   "outputs": [],
   "source": []
  },
  {
   "cell_type": "code",
   "execution_count": 37,
   "metadata": {},
   "outputs": [],
   "source": []
  },
  {
   "cell_type": "code",
   "execution_count": 37,
   "metadata": {},
   "outputs": [],
   "source": []
  },
  {
   "cell_type": "code",
   "execution_count": 37,
   "metadata": {},
   "outputs": [],
   "source": []
  },
  {
   "cell_type": "markdown",
   "metadata": {},
   "source": [
    "### <font color=red>Resumo"
   ]
  },
  {
   "cell_type": "code",
   "execution_count": 38,
   "metadata": {},
   "outputs": [],
   "source": [
    "# Acessórios\n"
   ]
  },
  {
   "cell_type": "markdown",
   "metadata": {},
   "source": [
    "# 5.5 Criando um DataFrame com os dados coletados do Alura Motors"
   ]
  },
  {
   "cell_type": "code",
   "execution_count": 38,
   "metadata": {},
   "outputs": [],
   "source": []
  },
  {
   "cell_type": "code",
   "execution_count": 38,
   "metadata": {},
   "outputs": [],
   "source": []
  },
  {
   "cell_type": "code",
   "execution_count": 38,
   "metadata": {},
   "outputs": [],
   "source": []
  },
  {
   "cell_type": "code",
   "execution_count": 38,
   "metadata": {},
   "outputs": [],
   "source": []
  },
  {
   "cell_type": "code",
   "execution_count": 38,
   "metadata": {},
   "outputs": [],
   "source": []
  },
  {
   "cell_type": "code",
   "execution_count": 38,
   "metadata": {},
   "outputs": [],
   "source": []
  },
  {
   "cell_type": "code",
   "execution_count": 38,
   "metadata": {},
   "outputs": [],
   "source": []
  },
  {
   "cell_type": "code",
   "execution_count": 38,
   "metadata": {},
   "outputs": [],
   "source": []
  },
  {
   "cell_type": "markdown",
   "metadata": {},
   "source": [
    "# 5.6. Obtendo a FOTO do anúncio"
   ]
  },
  {
   "cell_type": "code",
   "execution_count": 38,
   "metadata": {},
   "outputs": [],
   "source": []
  },
  {
   "cell_type": "code",
   "execution_count": 38,
   "metadata": {},
   "outputs": [],
   "source": []
  },
  {
   "cell_type": "code",
   "execution_count": 38,
   "metadata": {},
   "outputs": [],
   "source": []
  },
  {
   "cell_type": "markdown",
   "metadata": {},
   "source": [
    "### Visualizando a FOTO no notebook (extra)"
   ]
  },
  {
   "cell_type": "code",
   "execution_count": 38,
   "metadata": {},
   "outputs": [],
   "source": []
  },
  {
   "cell_type": "code",
   "execution_count": 38,
   "metadata": {},
   "outputs": [],
   "source": []
  },
  {
   "cell_type": "markdown",
   "metadata": {},
   "source": [
    "### Rotina para acessar e salvar a FOTO do anúncio"
   ]
  },
  {
   "cell_type": "markdown",
   "metadata": {},
   "source": [
    "## https://docs.python.org/3/library/urllib.request.html#urllib.request.urlretrieve"
   ]
  },
  {
   "cell_type": "code",
   "execution_count": 38,
   "metadata": {},
   "outputs": [],
   "source": []
  },
  {
   "cell_type": "code",
   "execution_count": 38,
   "metadata": {},
   "outputs": [],
   "source": []
  },
  {
   "cell_type": "markdown",
   "metadata": {},
   "source": [
    "### <font color=red>Resumo"
   ]
  },
  {
   "cell_type": "code",
   "execution_count": 38,
   "metadata": {},
   "outputs": [],
   "source": []
  },
  {
   "cell_type": "markdown",
   "metadata": {},
   "source": [
    "# <font color=green>6. WEB SCRAPING DO SITE ALURA MOTORS - OBTENDO OS DADOS DE TODOS OS ANÚNCIOS DE UMA PÁGINA"
   ]
  },
  {
   "cell_type": "markdown",
   "metadata": {},
   "source": [
    "# 6.1. Identificando as informações no HTML"
   ]
  },
  {
   "cell_type": "code",
   "execution_count": 38,
   "metadata": {
    "scrolled": true
   },
   "outputs": [],
   "source": []
  },
  {
   "cell_type": "code",
   "execution_count": 38,
   "metadata": {
    "scrolled": true
   },
   "outputs": [],
   "source": []
  },
  {
   "cell_type": "code",
   "execution_count": 38,
   "metadata": {
    "scrolled": true
   },
   "outputs": [],
   "source": []
  },
  {
   "cell_type": "markdown",
   "metadata": {},
   "source": [
    "# 6.2. Criando uma rotina de scraping"
   ]
  },
  {
   "cell_type": "code",
   "execution_count": 38,
   "metadata": {},
   "outputs": [],
   "source": []
  },
  {
   "cell_type": "code",
   "execution_count": 38,
   "metadata": {},
   "outputs": [],
   "source": []
  },
  {
   "cell_type": "markdown",
   "metadata": {},
   "source": [
    "# <font color=green>7. WEB SCRAPING DO SITE ALURA MOTORS - OBTENDO OS DADOS DE TODOS OS ANÚNCIOS DO SITE"
   ]
  },
  {
   "cell_type": "markdown",
   "metadata": {},
   "source": [
    "# 7.1. Identificando as informações no HTML"
   ]
  },
  {
   "cell_type": "code",
   "execution_count": 38,
   "metadata": {},
   "outputs": [],
   "source": []
  },
  {
   "cell_type": "code",
   "execution_count": 38,
   "metadata": {
    "scrolled": true
   },
   "outputs": [],
   "source": []
  },
  {
   "cell_type": "code",
   "execution_count": 38,
   "metadata": {},
   "outputs": [],
   "source": []
  },
  {
   "cell_type": "code",
   "execution_count": 38,
   "metadata": {},
   "outputs": [],
   "source": []
  },
  {
   "cell_type": "code",
   "execution_count": 38,
   "metadata": {},
   "outputs": [],
   "source": []
  },
  {
   "cell_type": "markdown",
   "metadata": {},
   "source": [
    "# 7.2. Criando uma rotina de scraping"
   ]
  },
  {
   "cell_type": "code",
   "execution_count": 38,
   "metadata": {
    "scrolled": true
   },
   "outputs": [],
   "source": []
  },
  {
   "cell_type": "code",
   "execution_count": 38,
   "metadata": {},
   "outputs": [],
   "source": []
  },
  {
   "cell_type": "code",
   "execution_count": 38,
   "metadata": {},
   "outputs": [],
   "source": []
  },
  {
   "cell_type": "code",
   "execution_count": 38,
   "metadata": {},
   "outputs": [],
   "source": []
  }
 ],
 "metadata": {
  "colab": {
   "name": "Untitled12.ipynb",
   "provenance": [],
   "version": "0.3.2"
  },
  "kernelspec": {
   "display_name": "Python 3",
   "language": "python",
   "name": "python3"
  },
  "language_info": {
   "codemirror_mode": {
    "name": "ipython",
    "version": 3
   },
   "file_extension": ".py",
   "mimetype": "text/x-python",
   "name": "python",
   "nbconvert_exporter": "python",
   "pygments_lexer": "ipython3",
   "version": "3.8.5"
  }
 },
 "nbformat": 4,
 "nbformat_minor": 1
}