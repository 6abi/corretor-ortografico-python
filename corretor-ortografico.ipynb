{
 "cells": [
  {
   "cell_type": "markdown",
   "source": [
    "****Corretor com NLP****"
   ],
   "metadata": {
    "collapsed": false
   }
  },
  {
   "cell_type": "code",
   "execution_count": 24,
   "metadata": {
    "collapsed": true,
    "pycharm": {
     "name": "#%%\n"
    }
   },
   "outputs": [
    {
     "name": "stderr",
     "output_type": "stream",
     "text": [
      "[nltk_data] Downloading package punkt to\n",
      "[nltk_data]     C:\\Users\\barba\\AppData\\Roaming\\nltk_data...\n",
      "[nltk_data]   Package punkt is already up-to-date!\n"
     ]
    },
    {
     "data": {
      "text/plain": "True"
     },
     "execution_count": 24,
     "metadata": {},
     "output_type": "execute_result"
    }
   ],
   "source": [
    "import nltk\n",
    "nltk.download('punkt')"
   ]
  },
  {
   "cell_type": "markdown",
   "source": [
    "**Lendo os arquivos**"
   ],
   "metadata": {
    "collapsed": false
   }
  },
  {
   "cell_type": "code",
   "execution_count": 25,
   "outputs": [
    {
     "name": "stdout",
     "output_type": "stream",
     "text": [
      "\n",
      "\n",
      "\n",
      "imagem \n",
      "\n",
      "Temos a seguinte classe que representa um usuário no nosso sistema:\n",
      "\n",
      "java\n",
      "\n",
      "Para salvar u\n"
     ]
    }
   ],
   "source": [
    "with open(\"./corretor/artigos.txt\", \"r\", encoding='utf-8') as file:\n",
    "    artigos = file.read()\n",
    "print(artigos[:100])\n"
   ],
   "metadata": {
    "collapsed": false,
    "pycharm": {
     "name": "#%%\n"
    }
   }
  },
  {
   "cell_type": "markdown",
   "source": [
    "**Tokens**"
   ],
   "metadata": {
    "collapsed": false
   }
  },
  {
   "cell_type": "code",
   "source": [
    "texto_teste = \"Hello, world\"\n",
    "tokens = texto_teste.split()\n",
    "\n",
    "print(tokens)\n",
    "print(\"Quantidade de Tokens: {}\".format(len(tokens)))"
   ],
   "metadata": {
    "collapsed": false,
    "pycharm": {
     "name": "#%%\n"
    }
   },
   "execution_count": 26,
   "outputs": [
    {
     "name": "stdout",
     "output_type": "stream",
     "text": [
      "['Hello,', 'world']\n",
      "Quantidade de Tokens: 2\n"
     ]
    }
   ]
  },
  {
   "cell_type": "code",
   "execution_count": 27,
   "outputs": [],
   "source": [
    "palavras_separadas = nltk.tokenize.word_tokenize(texto_teste)"
   ],
   "metadata": {
    "collapsed": false,
    "pycharm": {
     "name": "#%%\n"
    }
   }
  },
  {
   "cell_type": "code",
   "execution_count": 28,
   "outputs": [
    {
     "name": "stdout",
     "output_type": "stream",
     "text": [
      "Lista de Tokens: ['Hello', ',', 'world']\n"
     ]
    }
   ],
   "source": [
    "print(\"Lista de Tokens: {}\".format(palavras_separadas))"
   ],
   "metadata": {
    "collapsed": false,
    "pycharm": {
     "name": "#%%\n"
    }
   }
  },
  {
   "cell_type": "markdown",
   "source": [
    "Separando palavras dos demais caracteres(pontuação, número...)"
   ],
   "metadata": {
    "collapsed": false
   }
  },
  {
   "cell_type": "code",
   "execution_count": 29,
   "outputs": [],
   "source": [
    "def separa_palavras(lista_tokens):\n",
    "    lista_palavras = []\n",
    "    for token in lista_tokens:\n",
    "        if token.isalpha():\n",
    "            lista_palavras.append(token)\n",
    "    return lista_palavras"
   ],
   "metadata": {
    "collapsed": false,
    "pycharm": {
     "name": "#%%\n"
    }
   }
  },
  {
   "cell_type": "code",
   "execution_count": 30,
   "outputs": [
    {
     "data": {
      "text/plain": "['Hello', 'world']"
     },
     "execution_count": 30,
     "metadata": {},
     "output_type": "execute_result"
    }
   ],
   "source": [
    "separa_palavras(palavras_separadas)"
   ],
   "metadata": {
    "collapsed": false,
    "pycharm": {
     "name": "#%%\n"
    }
   }
  },
  {
   "cell_type": "code",
   "execution_count": 31,
   "outputs": [
    {
     "name": "stdout",
     "output_type": "stream",
     "text": [
      "Quantidade de palavras: 403104\n"
     ]
    }
   ],
   "source": [
    "lista_tokens = nltk.tokenize.word_tokenize(artigos)\n",
    "lista_palavras = separa_palavras(lista_tokens)\n",
    "print(f\"Quantidade de palavras: {len(lista_palavras)}\")\n"
   ],
   "metadata": {
    "collapsed": false,
    "pycharm": {
     "name": "#%%\n"
    }
   }
  },
  {
   "cell_type": "markdown",
   "source": [
    "**Normalização**"
   ],
   "metadata": {
    "collapsed": false
   }
  },
  {
   "cell_type": "code",
   "execution_count": 32,
   "outputs": [
    {
     "name": "stdout",
     "output_type": "stream",
     "text": [
      "['imagem', 'Temos', 'a', 'seguinte', 'classe']\n"
     ]
    }
   ],
   "source": [
    "print(lista_palavras[:5])"
   ],
   "metadata": {
    "collapsed": false,
    "pycharm": {
     "name": "#%%\n"
    }
   }
  },
  {
   "cell_type": "code",
   "execution_count": 33,
   "outputs": [],
   "source": [
    "def normalizacao(lista_palavras):\n",
    "    lista_normalizada = []\n",
    "    for palavra in lista_palavras:\n",
    "        lista_normalizada.append(palavra.lower())\n",
    "    return lista_normalizada"
   ],
   "metadata": {
    "collapsed": false,
    "pycharm": {
     "name": "#%%\n"
    }
   }
  },
  {
   "cell_type": "code",
   "execution_count": 34,
   "outputs": [
    {
     "name": "stdout",
     "output_type": "stream",
     "text": [
      "['imagem', 'temos', 'a', 'seguinte', 'classe']\n"
     ]
    }
   ],
   "source": [
    "lista_normalizada  = normalizacao(lista_palavras)\n",
    "print(lista_normalizada[:5])"
   ],
   "metadata": {
    "collapsed": false,
    "pycharm": {
     "name": "#%%\n"
    }
   }
  },
  {
   "cell_type": "code",
   "execution_count": 35,
   "outputs": [
    {
     "name": "stdout",
     "output_type": "stream",
     "text": [
      "Quantidade de palavras: 403104\n",
      "Quantidade de palavras diferentes: 18465\n"
     ]
    }
   ],
   "source": [
    "print(f\"Quantidade de palavras: {len(lista_palavras)}\")\n",
    "print(f\"Quantidade de palavras diferentes: {len(set(lista_normalizada))}\")\n"
   ],
   "metadata": {
    "collapsed": false,
    "pycharm": {
     "name": "#%%\n"
    }
   }
  },
  {
   "cell_type": "markdown",
   "source": [
    "**Fatiamento da palavra teste**"
   ],
   "metadata": {
    "collapsed": false
   }
  },
  {
   "cell_type": "code",
   "execution_count": 36,
   "outputs": [
    {
     "data": {
      "text/plain": "('l', 'gica')"
     },
     "execution_count": 36,
     "metadata": {},
     "output_type": "execute_result"
    }
   ],
   "source": [
    "lista = 'lgica'\n",
    "(lista[:1], lista[1:])"
   ],
   "metadata": {
    "collapsed": false,
    "pycharm": {
     "name": "#%%\n"
    }
   }
  },
  {
   "cell_type": "markdown",
   "source": [
    "*Função para inserir a letra entre o lado E e D*"
   ],
   "metadata": {
    "collapsed": false
   }
  },
  {
   "cell_type": "code",
   "execution_count": 37,
   "outputs": [],
   "source": [
    "def insere_letras(fatias_palavras):\n",
    "    novas_palavras = []\n",
    "    letras = 'abcdefghijklmnopqrstuvwxyzàáâãèéêìíîòóôõùúûç'\n",
    "    for E, D in fatias_palavras:\n",
    "        for letra in letras:\n",
    "            novas_palavras.append(E + letra + D)\n",
    "    return novas_palavras"
   ],
   "metadata": {
    "collapsed": false,
    "pycharm": {
     "name": "#%%\n"
    }
   }
  },
  {
   "cell_type": "markdown",
   "source": [
    "*Fatia a palabra em lado E e D*"
   ],
   "metadata": {
    "collapsed": false
   }
  },
  {
   "cell_type": "code",
   "execution_count": 38,
   "outputs": [
    {
     "name": "stdout",
     "output_type": "stream",
     "text": [
      "['algica', 'blgica', 'clgica', 'dlgica', 'elgica', 'flgica', 'glgica', 'hlgica', 'ilgica', 'jlgica', 'klgica', 'llgica', 'mlgica', 'nlgica', 'olgica', 'plgica', 'qlgica', 'rlgica', 'slgica', 'tlgica', 'ulgica', 'vlgica', 'wlgica', 'xlgica', 'ylgica', 'zlgica', 'àlgica', 'álgica', 'âlgica', 'ãlgica', 'èlgica', 'élgica', 'êlgica', 'ìlgica', 'ílgica', 'îlgica', 'òlgica', 'ólgica', 'ôlgica', 'õlgica', 'ùlgica', 'úlgica', 'ûlgica', 'çlgica', 'lagica', 'lbgica', 'lcgica', 'ldgica', 'legica', 'lfgica', 'lggica', 'lhgica', 'ligica', 'ljgica', 'lkgica', 'llgica', 'lmgica', 'lngica', 'logica', 'lpgica', 'lqgica', 'lrgica', 'lsgica', 'ltgica', 'lugica', 'lvgica', 'lwgica', 'lxgica', 'lygica', 'lzgica', 'làgica', 'lágica', 'lâgica', 'lãgica', 'lègica', 'légica', 'lêgica', 'lìgica', 'lígica', 'lîgica', 'lògica', 'lógica', 'lôgica', 'lõgica', 'lùgica', 'lúgica', 'lûgica', 'lçgica', 'lgaica', 'lgbica', 'lgcica', 'lgdica', 'lgeica', 'lgfica', 'lggica', 'lghica', 'lgiica', 'lgjica', 'lgkica', 'lglica', 'lgmica', 'lgnica', 'lgoica', 'lgpica', 'lgqica', 'lgrica', 'lgsica', 'lgtica', 'lguica', 'lgvica', 'lgwica', 'lgxica', 'lgyica', 'lgzica', 'lgàica', 'lgáica', 'lgâica', 'lgãica', 'lgèica', 'lgéica', 'lgêica', 'lgìica', 'lgíica', 'lgîica', 'lgòica', 'lgóica', 'lgôica', 'lgõica', 'lgùica', 'lgúica', 'lgûica', 'lgçica', 'lgiaca', 'lgibca', 'lgicca', 'lgidca', 'lgieca', 'lgifca', 'lgigca', 'lgihca', 'lgiica', 'lgijca', 'lgikca', 'lgilca', 'lgimca', 'lginca', 'lgioca', 'lgipca', 'lgiqca', 'lgirca', 'lgisca', 'lgitca', 'lgiuca', 'lgivca', 'lgiwca', 'lgixca', 'lgiyca', 'lgizca', 'lgiàca', 'lgiáca', 'lgiâca', 'lgiãca', 'lgièca', 'lgiéca', 'lgiêca', 'lgiìca', 'lgiíca', 'lgiîca', 'lgiòca', 'lgióca', 'lgiôca', 'lgiõca', 'lgiùca', 'lgiúca', 'lgiûca', 'lgiçca', 'lgicaa', 'lgicba', 'lgicca', 'lgicda', 'lgicea', 'lgicfa', 'lgicga', 'lgicha', 'lgicia', 'lgicja', 'lgicka', 'lgicla', 'lgicma', 'lgicna', 'lgicoa', 'lgicpa', 'lgicqa', 'lgicra', 'lgicsa', 'lgicta', 'lgicua', 'lgicva', 'lgicwa', 'lgicxa', 'lgicya', 'lgicza', 'lgicàa', 'lgicáa', 'lgicâa', 'lgicãa', 'lgicèa', 'lgicéa', 'lgicêa', 'lgicìa', 'lgicía', 'lgicîa', 'lgicòa', 'lgicóa', 'lgicôa', 'lgicõa', 'lgicùa', 'lgicúa', 'lgicûa', 'lgicça', 'lgicaa', 'lgicab', 'lgicac', 'lgicad', 'lgicae', 'lgicaf', 'lgicag', 'lgicah', 'lgicai', 'lgicaj', 'lgicak', 'lgical', 'lgicam', 'lgican', 'lgicao', 'lgicap', 'lgicaq', 'lgicar', 'lgicas', 'lgicat', 'lgicau', 'lgicav', 'lgicaw', 'lgicax', 'lgicay', 'lgicaz', 'lgicaà', 'lgicaá', 'lgicaâ', 'lgicaã', 'lgicaè', 'lgicaé', 'lgicaê', 'lgicaì', 'lgicaí', 'lgicaî', 'lgicaò', 'lgicaó', 'lgicaô', 'lgicaõ', 'lgicaù', 'lgicaú', 'lgicaû', 'lgicaç']\n"
     ]
    }
   ],
   "source": [
    "palavra_exemplo = 'lgica'\n",
    "def gerador_palavaras(palavra):\n",
    "    fatias_palavras = []\n",
    "    for i in range(len(palavra)+1):\n",
    "        fatias_palavras.append((palavra[:i], palavra[i:]))\n",
    "    palavra_geradas = insere_letras(fatias_palavras)\n",
    "    return palavra_geradas\n",
    "\n",
    "palavras_geradas = gerador_palavaras(palavra_exemplo)\n",
    "print(palavras_geradas)"
   ],
   "metadata": {
    "collapsed": false,
    "pycharm": {
     "name": "#%%\n"
    }
   }
  },
  {
   "cell_type": "markdown",
   "source": [
    "*Função do corretor da palavra*"
   ],
   "metadata": {
    "collapsed": false
   }
  },
  {
   "cell_type": "code",
   "execution_count": 39,
   "outputs": [],
   "source": [
    "def corretor(palavra):\n",
    "    palavras_geradas = gerador_palavaras(palavra)\n",
    "    palavra_correta = max(palavras_geradas, key=probabilidade)\n",
    "    return palavra_correta"
   ],
   "metadata": {
    "collapsed": false,
    "pycharm": {
     "name": "#%%\n"
    }
   }
  },
  {
   "cell_type": "markdown",
   "source": [
    "*Cálculo da probabilidade de ser determinada palavra da lista gerada*"
   ],
   "metadata": {
    "collapsed": false
   }
  },
  {
   "cell_type": "code",
   "execution_count": 40,
   "outputs": [
    {
     "data": {
      "text/plain": "[('de', 15502),\n ('o', 14056),\n ('que', 12230),\n ('a', 11099),\n ('e', 10501),\n ('para', 7710),\n ('um', 6368),\n ('é', 5899),\n ('uma', 5220),\n ('do', 5124)]"
     },
     "execution_count": 40,
     "metadata": {},
     "output_type": "execute_result"
    }
   ],
   "source": [
    "frequencia = nltk.FreqDist(lista_normalizada)\n",
    "total_palavras = len(lista_normalizada)\n",
    "frequencia.most_common(10)"
   ],
   "metadata": {
    "collapsed": false,
    "pycharm": {
     "name": "#%%\n"
    }
   }
  },
  {
   "cell_type": "code",
   "execution_count": 41,
   "outputs": [
    {
     "data": {
      "text/plain": "96"
     },
     "execution_count": 41,
     "metadata": {},
     "output_type": "execute_result"
    }
   ],
   "source": [
    "frequencia[\"lógica\"]"
   ],
   "metadata": {
    "collapsed": false,
    "pycharm": {
     "name": "#%%\n"
    }
   }
  },
  {
   "cell_type": "code",
   "execution_count": 42,
   "outputs": [],
   "source": [
    "def probabilidade(palavras_geradas):\n",
    "    return frequencia[palavras_geradas] / total_palavras"
   ],
   "metadata": {
    "collapsed": false,
    "pycharm": {
     "name": "#%%\n"
    }
   }
  },
  {
   "cell_type": "code",
   "execution_count": 43,
   "outputs": [
    {
     "data": {
      "text/plain": "0.00023815194093831864"
     },
     "execution_count": 43,
     "metadata": {},
     "output_type": "execute_result"
    }
   ],
   "source": [
    "probabilidade(\"lógica\")"
   ],
   "metadata": {
    "collapsed": false,
    "pycharm": {
     "name": "#%%\n"
    }
   }
  },
  {
   "cell_type": "code",
   "execution_count": 44,
   "outputs": [
    {
     "data": {
      "text/plain": "'lógica'"
     },
     "execution_count": 44,
     "metadata": {},
     "output_type": "execute_result"
    }
   ],
   "source": [
    "corretor(palavra_exemplo)"
   ],
   "metadata": {
    "collapsed": false,
    "pycharm": {
     "name": "#%%\n"
    }
   }
  },
  {
   "cell_type": "markdown",
   "source": [
    "*Testando o corretor*"
   ],
   "metadata": {
    "collapsed": false
   }
  },
  {
   "cell_type": "code",
   "execution_count": 47,
   "outputs": [
    {
     "name": "stdout",
     "output_type": "stream",
     "text": [
      "[('podemos', 'pyodemos'), ('esse', 'esje'), ('já', 'jrá'), ('nosso', 'nossov'), ('são', 'sãêo'), ('dos', 'dosa'), ('muito', 'muifo'), ('imagem', 'iômagem'), ('sua', 'ósua'), ('também', 'tambéùm'), ('ele', 'eme'), ('fazer', 'èazer'), ('temos', 'temfs'), ('essa', 'eàssa'), ('quando', 'quaôdo'), ('vamos', 'vamvos'), ('sobre', 'hsobre'), ('java', 'sjava'), ('das', 'daõs'), ('agora', 'agorah'), ('está', 'eòtá'), ('cada', 'céda'), ('mesmo', 'zmesmo'), ('nos', 'noâ'), ('forma', 'fobma'), ('seja', 'sejéa'), ('então', 'enêão'), ('criar', 'èriar'), ('código', 'cóeigo'), ('caso', 'casío'), ('exemplo', 'áexemplo'), ('tem', 'tĩem'), ('usuário', 'usuárôio'), ('dados', 'dfados'), ('python', 'pgthon'), ('nossa', 'nossah'), ('além', 'alémè'), ('assim', 'asõim'), ('ter', 'teb'), ('até', 'atĩ'), ('bem', 'âem'), ('design', 'desigen'), ('trabalho', 'trabalàho'), ('foi', 'foo'), ('apenas', 'apenaũ'), ('empresa', 'empresà'), ('valor', 'valíor'), ('será', 'serr'), ('entre', 'entke'), ('método', 'méqodo'), ('precisamos', 'precisamops'), ('ainda', 'ainàa'), ('vai', 'van'), ('conteúdo', 'ûconteúdo'), ('seus', 'çeus'), ('eu', 'eû'), ('todos', 'todtos'), ('tempo', 'temeo'), ('sempre', 'semre'), ('qual', 'quakl'), ('ela', 'elaá'), ('só', 'síó'), ('utilizar', 'utiqizar'), ('projeto', 'prhojeto'), ('site', 'siàe'), ('sem', 'seém'), ('pelo', 'peln'), ('alura', 'aléra'), ('dia', 'tdia'), ('tudo', 'tuúo'), ('podemos', 'kpodemos'), ('esse', 'eẽsse'), ('já', 'jé'), ('nosso', 'nçosso'), ('são', 'sãô'), ('dos', 'odos'), ('muito', 'tuito'), ('imagem', 'imõgem'), ('sua', 'siua'), ('também', 'tamvbém'), ('ele', 'elpe'), ('fazer', 'façzer'), ('temos', 'teos'), ('essa', 'eũsa'), ('quando', 'quaìdo'), ('vamos', 'vjmos'), ('sobre', 'sxobre'), ('java', 'jkva'), ('das', 'dms'), ('agora', 'agtora'), ('está', 'esútá'), ('cada', 'cava'), ('mesmo', 'medmo'), ('nos', 'ános'), ('forma', 'forûa'), ('seja', 'smeja'), ('então', 'enjtão'), ('criar', 'criôar'), ('código', 'cóàigo'), ('caso', 'èaso'), ('exemplo', 'exbemplo'), ('tem', 'túem'), ('usuário', 'usuárin'), ('dados', 'daáos'), ('python', 'pythoçn'), ('nossa', 'nossk'), ('além', 'âlém'), ('assim', 'aóssim'), ('ter', 'tãer'), ('até', 'vté'), ('bem', 'búm'), ('design', 'íesign'), ('trabalho', 'trabèalho'), ('foi', 'kfoi'), ('apenas', 'aapenas'), ('empresa', 'pmpresa'), ('valor', 'valoqr'), ('será', 'sçerá'), ('entre', 'entró'), ('método', 'nétodo'), ('precisamos', 'prefcisamos'), ('ainda', 'sainda'), ('vai', 'uai'), ('conteúdo', 'cĩonteúdo'), ('seus', 'sâus'), ('eu', 'ìeu'), ('todos', 'todás'), ('tempo', 'utempo'), ('sempre', 'sempce'), ('qual', 'fual'), ('ela', 'elal'), ('só', 'skó'), ('utilizar', 'utilĩzar'), ('projeto', 'proójeto'), ('site', 'isite'), ('sem', 'secm'), ('pelo', 'pẽlo'), ('alura', 'aluéa'), ('dia', 'dil'), ('tudo', 'tudy'), ('ela', 'qelay'), ('só', 'sód'), ('utilizar', 'dtilizacr'), ('projeto', 'bprojõto'), ('site', 'ysiteo'), ('sem', 'sõêm'), ('pelo', 'peàli'), ('alura', 'asuraó'), ('dia', 'deiìa'), ('tudo', 'tuĩdoì'), ('ela', 'eúaa'), ('só', 'ró'), ('utilizar', 'utilizẽaçr'), ('projeto', 'prêjetó'), ('site', 'sqiqte'), ('sem', 'sũexm'), ('pelo', 'pçlxo'), ('alura', 'uluraa'), ('dia', 'dĩaz'), ('tudo', 'kzudo'), ('corretor', 'correptor'), ('tática', 'trtica'), ('empoderamento', 'ewpoderamento'), ('linux', 'lifux'), ('cachorro', 'cachoçro'), ('gato', 'îgato'), ('cavalo', 'cakvalo'), ('relógio', 'relógiuo'), ('canela', 'canelac'), ('tênis', 'tênisy'), ('ansiosa', 'anciosa'), ('ansiosa', 'ancciosa'), ('ansiosa', 'ansioa'), ('empoderamento', 'empoderamento'), ('asterisco', 'asterístico'), ('gratuito', 'gratuíto'), ('entretido', 'entertido'), ('ritmo', 'ritimo'), ('idiota', 'indiota'), ('tomara', 'tomare'), ('seja', 'seje'), ('prevalecer', 'provalecer'), ('esteja', 'esteje'), ('mendigo', 'mindigo'), ('cérebro', 'célebro'), ('perturbar', 'pertubar')]\n"
     ]
    }
   ],
   "source": [
    "def cria_dados_testes(nome_arquivo):\n",
    "    lista_palavras_teste = []\n",
    "    file = open(nome_arquivo, \"r\", encoding='utf-8')\n",
    "    for linha in file:\n",
    "        correta, errada = linha.split()\n",
    "        lista_palavras_teste.append((correta, errada))\n",
    "    file.close()\n",
    "    return lista_palavras_teste\n",
    "lista_teste = cria_dados_testes('./corretor/palavras.txt')\n",
    "print(lista_teste)"
   ],
   "metadata": {
    "collapsed": false,
    "pycharm": {
     "name": "#%%\n"
    }
   }
  },
  {
   "cell_type": "code",
   "execution_count": 46,
   "outputs": [],
   "source": [
    "def avalidador(testes):\n",
    "    print(\"Taxa de acerto\")"
   ],
   "metadata": {
    "collapsed": false,
    "pycharm": {
     "name": "#%%\n"
    }
   }
  }
 ],
 "metadata": {
  "kernelspec": {
   "display_name": "Python 3",
   "language": "python",
   "name": "python3"
  },
  "language_info": {
   "codemirror_mode": {
    "name": "ipython",
    "version": 2
   },
   "file_extension": ".py",
   "mimetype": "text/x-python",
   "name": "python",
   "nbconvert_exporter": "python",
   "pygments_lexer": "ipython2",
   "version": "2.7.6"
  }
 },
 "nbformat": 4,
 "nbformat_minor": 0
}